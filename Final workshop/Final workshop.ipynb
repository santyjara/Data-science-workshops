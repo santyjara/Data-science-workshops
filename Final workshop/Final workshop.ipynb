{
 "cells": [
  {
   "cell_type": "markdown",
   "id": "27487ced",
   "metadata": {},
   "source": [
    "## Context\n",
    "\n",
    "Customer segmentation is the practice of dividing a customer base into groups of individuals that are similar in specific ways relevant to marketing, such as age, gender, interests and spending habits.\n",
    "\n",
    "Companies employing customer segmentation operate under the fact that every customer is different and that their marketing efforts would be better served if they target specific, smaller groups with messages that those consumers would find relevant and lead them to buy something. Companies also hope to gain a deeper understanding of their customers' preferences and needs with the idea of discovering what each segment finds most valuable to more accurately tailor marketing materials toward that segment.\n",
    "\n",
    "\n",
    "#### Variable description:\n",
    "\n",
    "- CustomerID : unique customer ID\n",
    "- Gender : gender of the customer\n",
    "- Married : marital status of the customer\n",
    "- Age : age of the customer\n",
    "- Graduated : specifies whether the customer a graduate?\n",
    "- Profession : profession of the customer\n",
    "- WorkExperience : work experience of the customer in years\n",
    "- SpendingScore : spending score of the customer\n",
    "- FamilySize : number of family members of the customer (including the customer)\n",
    "- Category : anonymised category for the customer\n",
    "\n",
    "# Activity\n",
    "\n",
    "1. Review data quality issues and perform transformations if necessary\n",
    "\n",
    "* Revisar problemas de calidad de datos y realizar transformaciones si es necesario\n",
    "\n",
    "2. Divide the dataset into 4 customer segments, testing at least two algorithms and choosing the one with the best Sillouhette score.\n",
    "\n",
    "* Dividir el dataset en 4 segmentos de clientes, probando al menos dos algoritmos de clustering y elegir el que mejor Indice de Sillouhette tenga.\n",
    "\n",
    "3. Carry out an EDA (Exploratory Data Analysis) of each of the clusters to pass the report to the management with the conclusion of what type of car should be promoted to each of the segments and what benefit or strategy they should use to advertise it.\n",
    "\n",
    "* Realizar un EDA (Exploratory Data Analysis) de cada uno de los clusters para pasar el informe a la gerencia con la conclusión de qué tipo de auto debe promocionarse a cada uno de los segmentos y que beneficio o estrategia deberían usar para publicitarlo.\n"
   ]
  },
  {
   "cell_type": "code",
   "execution_count": null,
   "id": "0cbcd4a6",
   "metadata": {},
   "outputs": [],
   "source": []
  }
 ],
 "metadata": {
  "kernelspec": {
   "display_name": "Python 3",
   "language": "python",
   "name": "python3"
  },
  "language_info": {
   "codemirror_mode": {
    "name": "ipython",
    "version": 3
   },
   "file_extension": ".py",
   "mimetype": "text/x-python",
   "name": "python",
   "nbconvert_exporter": "python",
   "pygments_lexer": "ipython3",
   "version": "3.9.5"
  }
 },
 "nbformat": 4,
 "nbformat_minor": 5
}
