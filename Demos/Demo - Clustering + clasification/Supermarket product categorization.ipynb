{
 "cells": [
  {
   "cell_type": "markdown",
   "metadata": {},
   "source": [
    "# Categorización productos en Supermercado"
   ]
  },
  {
   "cell_type": "markdown",
   "metadata": {},
   "source": [
    "En un supermercado de la ciudad se tiene una base de datos de productos con su nombre y marca. El dueño del Supermercado decide clasificarlos en categorías para asi poder hacer una mejor gestión de su negocio tanto para almacenamiento como para pedidos a proveedores.\n",
    "\n",
    "El señor empieza a clasificarlos uno a uno, pero se da cuneta que esta tarea le tomara meses realizarla, por eso decide apoyarse de algoritmos de Segmentación para completar esta tarea"
   ]
  },
  {
   "cell_type": "markdown",
   "metadata": {},
   "source": [
    "## Importar librerías"
   ]
  },
  {
   "cell_type": "code",
   "execution_count": 149,
   "metadata": {
    "id": "BmrgE9KvD_L4"
   },
   "outputs": [],
   "source": [
    "import pandas as pd\n",
    "import seaborn as sns\n",
    "import nltk\n",
    "from nltk import word_tokenize, download\n",
    "from nltk.corpus import stopwords\n",
    "import re\n",
    "import matplotlib.pyplot as plt\n",
    "import numpy as np"
   ]
  },
  {
   "cell_type": "code",
   "execution_count": 150,
   "metadata": {},
   "outputs": [
    {
     "name": "stderr",
     "output_type": "stream",
     "text": [
      "[nltk_data] Downloading package punkt to /Users/santiago/nltk_data...\n",
      "[nltk_data]   Package punkt is already up-to-date!\n"
     ]
    },
    {
     "data": {
      "text/plain": [
       "True"
      ]
     },
     "execution_count": 150,
     "metadata": {},
     "output_type": "execute_result"
    },
    {
     "name": "stderr",
     "output_type": "stream",
     "text": [
      "[nltk_data] Downloading package stopwords to\n",
      "[nltk_data]     /Users/santiago/nltk_data...\n",
      "[nltk_data]   Package stopwords is already up-to-date!\n"
     ]
    },
    {
     "data": {
      "text/plain": [
       "True"
      ]
     },
     "execution_count": 150,
     "metadata": {},
     "output_type": "execute_result"
    }
   ],
   "source": [
    "nltk.download('punkt')\n",
    "nltk.download('stopwords')"
   ]
  },
  {
   "cell_type": "markdown",
   "metadata": {
    "id": "pP_cN6zUEDh7"
   },
   "source": [
    "## Lectura de datos"
   ]
  },
  {
   "cell_type": "code",
   "execution_count": 151,
   "metadata": {
    "id": "rRVJJL8kEZRs"
   },
   "outputs": [],
   "source": [
    "data_train = pd.read_csv('train_challenge.csv')"
   ]
  },
  {
   "cell_type": "code",
   "execution_count": 152,
   "metadata": {
    "colab": {
     "base_uri": "https://localhost:8080/",
     "height": 107
    },
    "id": "NAKJVXrKHxKW",
    "outputId": "2b813c2e-bb0d-4e2f-a45b-8895ef68a2e8"
   },
   "outputs": [
    {
     "data": {
      "text/html": [
       "<div>\n",
       "<style scoped>\n",
       "    .dataframe tbody tr th:only-of-type {\n",
       "        vertical-align: middle;\n",
       "    }\n",
       "\n",
       "    .dataframe tbody tr th {\n",
       "        vertical-align: top;\n",
       "    }\n",
       "\n",
       "    .dataframe thead th {\n",
       "        text-align: right;\n",
       "    }\n",
       "</style>\n",
       "<table border=\"1\" class=\"dataframe\">\n",
       "  <thead>\n",
       "    <tr style=\"text-align: right;\">\n",
       "      <th></th>\n",
       "      <th>name</th>\n",
       "      <th>description</th>\n",
       "      <th>maker</th>\n",
       "      <th>trademark</th>\n",
       "    </tr>\n",
       "  </thead>\n",
       "  <tbody>\n",
       "    <tr>\n",
       "      <th>0</th>\n",
       "      <td>Cerveza Otro Mundo 500 Ml</td>\n",
       "      <td>Cerveza Otro Mundo 500 Ml</td>\n",
       "      <td>NaN</td>\n",
       "      <td>Otro Mundo</td>\n",
       "    </tr>\n",
       "    <tr>\n",
       "      <th>1</th>\n",
       "      <td>Vino San Telmo Varietales X750Ml.</td>\n",
       "      <td>Vino San Telmo Varietales X750Ml.</td>\n",
       "      <td>NaN</td>\n",
       "      <td>San Telmo</td>\n",
       "    </tr>\n",
       "  </tbody>\n",
       "</table>\n",
       "</div>"
      ],
      "text/plain": [
       "                                name                        description maker  \\\n",
       "0          Cerveza Otro Mundo 500 Ml          Cerveza Otro Mundo 500 Ml   NaN   \n",
       "1  Vino San Telmo Varietales X750Ml.  Vino San Telmo Varietales X750Ml.   NaN   \n",
       "\n",
       "    trademark  \n",
       "0  Otro Mundo  \n",
       "1   San Telmo  "
      ]
     },
     "execution_count": 152,
     "metadata": {},
     "output_type": "execute_result"
    }
   ],
   "source": [
    "data_train.head(2)"
   ]
  },
  {
   "cell_type": "code",
   "execution_count": 153,
   "metadata": {
    "colab": {
     "base_uri": "https://localhost:8080/"
    },
    "id": "vNvjnJVBHxHi",
    "outputId": "fd34ee96-c5a0-418f-f2af-c899a1a50145"
   },
   "outputs": [
    {
     "name": "stdout",
     "output_type": "stream",
     "text": [
      "<class 'pandas.core.frame.DataFrame'>\n",
      "RangeIndex: 10000 entries, 0 to 9999\n",
      "Data columns (total 4 columns):\n",
      " #   Column       Non-Null Count  Dtype \n",
      "---  ------       --------------  ----- \n",
      " 0   name         10000 non-null  object\n",
      " 1   description  10000 non-null  object\n",
      " 2   maker        3418 non-null   object\n",
      " 3   trademark    9965 non-null   object\n",
      "dtypes: object(4)\n",
      "memory usage: 312.6+ KB\n"
     ]
    }
   ],
   "source": [
    "# Revisar tipos de datos y non-null columns\n",
    "\n",
    "data_train.info()"
   ]
  },
  {
   "cell_type": "markdown",
   "metadata": {
    "id": "9bDAeU8QEaM5"
   },
   "source": [
    "## Preprocesamiento"
   ]
  },
  {
   "cell_type": "code",
   "execution_count": 154,
   "metadata": {
    "colab": {
     "base_uri": "https://localhost:8080/"
    },
    "id": "q61jzAUiqA3g",
    "outputId": "2f556ffc-50d3-479e-fd11-73764ee27880"
   },
   "outputs": [
    {
     "name": "stdout",
     "output_type": "stream",
     "text": [
      "El 90.22 %  de los registros entre name y description son iguales\n"
     ]
    }
   ],
   "source": [
    "# Revisar que tan iguales son la columna name y description\n",
    "\n",
    "print(\"El {} %  de los registros entre name y description son iguales\" \\\n",
    "      .format(sum(data_train['name'] == data_train['description'])*100/len(data_train)))"
   ]
  },
  {
   "cell_type": "code",
   "execution_count": 155,
   "metadata": {
    "id": "NLERj3irqAxB"
   },
   "outputs": [],
   "source": [
    "# Lenar los 35 valores faltantes de la columna trademark con una variable dummy\n",
    "\n",
    "data_train['trademark'] = data_train['trademark'].fillna('N/A')"
   ]
  },
  {
   "cell_type": "code",
   "execution_count": 156,
   "metadata": {
    "id": "_WCR3rjGy7RT"
   },
   "outputs": [],
   "source": [
    "# Eliminar stop words de una lista\n",
    "\n",
    "def remove_stopwords(words):\n",
    "    \"\"\"Eliminar stop words de una lista tokenizada de palabras\"\"\"\n",
    "    new_words = []\n",
    "    for word in words:\n",
    "        if word not in stopwords.words('spanish'):\n",
    "            new_words.append(word)\n",
    "    return new_words"
   ]
  },
  {
   "cell_type": "code",
   "execution_count": 157,
   "metadata": {
    "id": "quXIjNv4vrN8"
   },
   "outputs": [],
   "source": [
    "# Eliminar los guiones que los utilizan como separador de palabras. Puntos, guiones y comas que no son decimales\n",
    "\n",
    "def remove_punctuation(words):\n",
    "    \"\"\"Eliminar los guiones que los utilizan como separador de palabras. Puntos, guiones y comas que no son decimales\"\"\"\n",
    "    new_words = []\n",
    "    for word in words:\n",
    "        new_word = word.lower() # Eliminar mayusculas\n",
    "        new_word = re.sub(r\"([a-z])\\-([a-z])\", r\"\\1 \\2\", new_word)  # Eliminar los guiones que los utilizan como separador de palabras\n",
    "        new_word = re.sub(r\"([a-z]|)([0-9]|[0-9][0-9]|[0-9][0-9][0-9]|[0-9][0-9][0-9][0-9])([a-z])\", r\"\\1 \\2 \\3\", new_word) # Separar los numeros de letras (150gr) --> (150 gr)\n",
    "        if ((new_word != '') & (new_word != ',') & (new_word != '.') & (new_word != '-')):  # Eliminar puntos y comas que no son decimales\n",
    "            new_words.append(new_word)\n",
    "    return new_words"
   ]
  },
  {
   "cell_type": "code",
   "execution_count": 158,
   "metadata": {
    "id": "98uKAg88y7hs"
   },
   "outputs": [],
   "source": [
    "# Transformar la palabra a su raiz\n",
    "\n",
    "from nltk.stem import SnowballStemmer\n",
    "\n",
    "def stem_words(words):\n",
    "    \"\"\"Transformar la palabra a su raiz de una lista tokenizada de palabras\"\"\"\n",
    "    stemmer = SnowballStemmer('spanish')\n",
    "    stems = []\n",
    "    for word in words:\n",
    "        stem = stemmer.stem(word)\n",
    "        stems.append(stem)\n",
    "    return stems"
   ]
  },
  {
   "cell_type": "code",
   "execution_count": 159,
   "metadata": {
    "id": "VZnFUnRmy7kL"
   },
   "outputs": [],
   "source": [
    "def normalize(words):\n",
    "    words = word_tokenize(words)\n",
    "    words = remove_punctuation(words)\n",
    "    words = ' '.join(words)\n",
    "\n",
    "    words = word_tokenize(words)\n",
    "  \n",
    "    words = remove_stopwords(words)\n",
    "    #words = stem_words(words)\n",
    "    words = ' '.join(words)\n",
    "    return words"
   ]
  },
  {
   "cell_type": "code",
   "execution_count": 160,
   "metadata": {
    "id": "5uRNI5lOy7UM"
   },
   "outputs": [],
   "source": [
    "# Aplicar las transformaciones a la columna 'name'\n",
    "\n",
    "data_train['name'] = data_train['name'].apply(normalize)"
   ]
  },
  {
   "cell_type": "code",
   "execution_count": 161,
   "metadata": {
    "id": "yFgVoA94RVqv"
   },
   "outputs": [],
   "source": [
    "# Crear una columna con la descripcion y marca\n",
    "\n",
    "data_train['name + trade_mark'] = data_train['name'] + ' ' + data_train['trademark']"
   ]
  },
  {
   "cell_type": "code",
   "execution_count": 162,
   "metadata": {
    "id": "X3tzBK9EWySS"
   },
   "outputs": [],
   "source": [
    "# Eliminar duplicados\n",
    "\n",
    "data_train.drop_duplicates('name + trade_mark', inplace=True)"
   ]
  },
  {
   "cell_type": "code",
   "execution_count": 163,
   "metadata": {
    "colab": {
     "base_uri": "https://localhost:8080/",
     "height": 464
    },
    "id": "soFPAOwry6hM",
    "outputId": "995f4161-ccfb-455c-eecb-a53f4dd8cae6"
   },
   "outputs": [
    {
     "data": {
      "text/html": [
       "<div>\n",
       "<style scoped>\n",
       "    .dataframe tbody tr th:only-of-type {\n",
       "        vertical-align: middle;\n",
       "    }\n",
       "\n",
       "    .dataframe tbody tr th {\n",
       "        vertical-align: top;\n",
       "    }\n",
       "\n",
       "    .dataframe thead th {\n",
       "        text-align: right;\n",
       "    }\n",
       "</style>\n",
       "<table border=\"1\" class=\"dataframe\">\n",
       "  <thead>\n",
       "    <tr style=\"text-align: right;\">\n",
       "      <th></th>\n",
       "      <th>name</th>\n",
       "      <th>description</th>\n",
       "      <th>maker</th>\n",
       "      <th>trademark</th>\n",
       "      <th>name + trade_mark</th>\n",
       "    </tr>\n",
       "  </thead>\n",
       "  <tbody>\n",
       "    <tr>\n",
       "      <th>0</th>\n",
       "      <td>cerveza mundo 500 ml</td>\n",
       "      <td>Cerveza Otro Mundo 500 Ml</td>\n",
       "      <td>NaN</td>\n",
       "      <td>Otro Mundo</td>\n",
       "      <td>cerveza mundo 500 ml Otro Mundo</td>\n",
       "    </tr>\n",
       "    <tr>\n",
       "      <th>1</th>\n",
       "      <td>vino san telmo varietales x 750 ml</td>\n",
       "      <td>Vino San Telmo Varietales X750Ml.</td>\n",
       "      <td>NaN</td>\n",
       "      <td>San Telmo</td>\n",
       "      <td>vino san telmo varietales x 750 ml San Telmo</td>\n",
       "    </tr>\n",
       "    <tr>\n",
       "      <th>2</th>\n",
       "      <td>mayonesa natura 1000 cc</td>\n",
       "      <td>Mayonesa Natura con jugo de limon sachet x 100...</td>\n",
       "      <td>gallega</td>\n",
       "      <td>Natura</td>\n",
       "      <td>mayonesa natura 1000 cc Natura</td>\n",
       "    </tr>\n",
       "    <tr>\n",
       "      <th>3</th>\n",
       "      <td>brahma chopp 354 cc x 6</td>\n",
       "      <td>Brahma Chopp 354cc x 6</td>\n",
       "      <td>NaN</td>\n",
       "      <td>Brahma</td>\n",
       "      <td>brahma chopp 354 cc x 6 Brahma</td>\n",
       "    </tr>\n",
       "    <tr>\n",
       "      <th>4</th>\n",
       "      <td>mayonesa hellmanns light doypack 237 gr</td>\n",
       "      <td>Mayonesa HellmannS Light Doypack 237 Gr</td>\n",
       "      <td>NaN</td>\n",
       "      <td>Hellmann´S</td>\n",
       "      <td>mayonesa hellmanns light doypack 237 gr Hellma...</td>\n",
       "    </tr>\n",
       "    <tr>\n",
       "      <th>5</th>\n",
       "      <td>vino cardos sauv blanco</td>\n",
       "      <td>VINO BLANCO LOS CARDOS SAUVIGNON 750 CC</td>\n",
       "      <td>NaN</td>\n",
       "      <td>LOS CARDOS</td>\n",
       "      <td>vino cardos sauv blanco LOS CARDOS</td>\n",
       "    </tr>\n",
       "    <tr>\n",
       "      <th>6</th>\n",
       "      <td>postre georgalos nucrem chocolatados 170 gr</td>\n",
       "      <td>Postre Georgalos Nucrem Chocolatados 170 Gr</td>\n",
       "      <td>NaN</td>\n",
       "      <td>Georgalos</td>\n",
       "      <td>postre georgalos nucrem chocolatados 170 gr Ge...</td>\n",
       "    </tr>\n",
       "    <tr>\n",
       "      <th>7</th>\n",
       "      <td>salchichón piccolo calchaqui morrones 240 g</td>\n",
       "      <td>Salchichón Piccolo Calchaqui Con Morrones 240 g</td>\n",
       "      <td>La Piamontesa\\t</td>\n",
       "      <td>Calchaqui</td>\n",
       "      <td>salchichón piccolo calchaqui morrones 240 g Ca...</td>\n",
       "    </tr>\n",
       "    <tr>\n",
       "      <th>8</th>\n",
       "      <td>galletitas obleas rhodesia agrupado 22 gr x 4 u</td>\n",
       "      <td>Galletitas Obleas Rhodesia Agrupado 22 Gr X 4 U</td>\n",
       "      <td>NaN</td>\n",
       "      <td>Rhodesia</td>\n",
       "      <td>galletitas obleas rhodesia agrupado 22 gr x 4 ...</td>\n",
       "    </tr>\n",
       "    <tr>\n",
       "      <th>9</th>\n",
       "      <td>aceite oliva natura extra virgen clásico 500 ml</td>\n",
       "      <td>Aceite De Oliva Natura Extra Virgen Clásico 50...</td>\n",
       "      <td>NaN</td>\n",
       "      <td>Natura</td>\n",
       "      <td>aceite oliva natura extra virgen clásico 500 m...</td>\n",
       "    </tr>\n",
       "  </tbody>\n",
       "</table>\n",
       "</div>"
      ],
      "text/plain": [
       "                                              name  \\\n",
       "0                             cerveza mundo 500 ml   \n",
       "1               vino san telmo varietales x 750 ml   \n",
       "2                          mayonesa natura 1000 cc   \n",
       "3                          brahma chopp 354 cc x 6   \n",
       "4          mayonesa hellmanns light doypack 237 gr   \n",
       "5                          vino cardos sauv blanco   \n",
       "6      postre georgalos nucrem chocolatados 170 gr   \n",
       "7      salchichón piccolo calchaqui morrones 240 g   \n",
       "8  galletitas obleas rhodesia agrupado 22 gr x 4 u   \n",
       "9  aceite oliva natura extra virgen clásico 500 ml   \n",
       "\n",
       "                                         description            maker  \\\n",
       "0                          Cerveza Otro Mundo 500 Ml              NaN   \n",
       "1                  Vino San Telmo Varietales X750Ml.              NaN   \n",
       "2  Mayonesa Natura con jugo de limon sachet x 100...          gallega   \n",
       "3                             Brahma Chopp 354cc x 6              NaN   \n",
       "4            Mayonesa HellmannS Light Doypack 237 Gr              NaN   \n",
       "5            VINO BLANCO LOS CARDOS SAUVIGNON 750 CC              NaN   \n",
       "6        Postre Georgalos Nucrem Chocolatados 170 Gr              NaN   \n",
       "7    Salchichón Piccolo Calchaqui Con Morrones 240 g  La Piamontesa\\t   \n",
       "8    Galletitas Obleas Rhodesia Agrupado 22 Gr X 4 U              NaN   \n",
       "9  Aceite De Oliva Natura Extra Virgen Clásico 50...              NaN   \n",
       "\n",
       "    trademark                                  name + trade_mark  \n",
       "0  Otro Mundo                    cerveza mundo 500 ml Otro Mundo  \n",
       "1   San Telmo       vino san telmo varietales x 750 ml San Telmo  \n",
       "2      Natura                     mayonesa natura 1000 cc Natura  \n",
       "3      Brahma                     brahma chopp 354 cc x 6 Brahma  \n",
       "4  Hellmann´S  mayonesa hellmanns light doypack 237 gr Hellma...  \n",
       "5  LOS CARDOS                 vino cardos sauv blanco LOS CARDOS  \n",
       "6   Georgalos  postre georgalos nucrem chocolatados 170 gr Ge...  \n",
       "7  Calchaqui   salchichón piccolo calchaqui morrones 240 g Ca...  \n",
       "8    Rhodesia  galletitas obleas rhodesia agrupado 22 gr x 4 ...  \n",
       "9      Natura  aceite oliva natura extra virgen clásico 500 m...  "
      ]
     },
     "execution_count": 163,
     "metadata": {},
     "output_type": "execute_result"
    }
   ],
   "source": [
    "data_train.head(10)"
   ]
  },
  {
   "cell_type": "code",
   "execution_count": 164,
   "metadata": {
    "colab": {
     "base_uri": "https://localhost:8080/"
    },
    "id": "lSlRdBy5zF1Q",
    "outputId": "6efc4066-3388-45a2-8490-fdb762d5343a"
   },
   "outputs": [
    {
     "data": {
      "text/plain": [
       "6170"
      ]
     },
     "execution_count": 164,
     "metadata": {},
     "output_type": "execute_result"
    }
   ],
   "source": [
    "len(data_train)"
   ]
  },
  {
   "cell_type": "markdown",
   "metadata": {
    "id": "oCOU4yw2zKtZ"
   },
   "source": [
    "# Vectorización"
   ]
  },
  {
   "cell_type": "markdown",
   "metadata": {
    "id": "DHSDzzdSzG0W"
   },
   "source": [
    "## Tfidf"
   ]
  },
  {
   "cell_type": "code",
   "execution_count": 165,
   "metadata": {
    "id": "yhGg4JG31MDc"
   },
   "outputs": [],
   "source": [
    "from sklearn.feature_extraction.text import TfidfVectorizer"
   ]
  },
  {
   "cell_type": "code",
   "execution_count": 166,
   "metadata": {
    "id": "jAau0jpX1HqU"
   },
   "outputs": [],
   "source": [
    "data_tfidf = data_train.copy()    "
   ]
  },
  {
   "cell_type": "code",
   "execution_count": 167,
   "metadata": {
    "colab": {
     "base_uri": "https://localhost:8080/"
    },
    "id": "bRoO4j2tzFvA",
    "outputId": "54f521f6-fb2d-4ba8-dac8-c0b486d9460d"
   },
   "outputs": [
    {
     "name": "stdout",
     "output_type": "stream",
     "text": [
      "['000', '10', '100', '1000', '101', '105', '110', '1100', '1125', '113', '115', '116', '118', '12', '120', '125', '126', '127', '128', '13', '130', '1300', '135', '136', '14', '140', '141', '143', '144', '145', '148', '15', '150', '1500', '155', '157', '158', '16', '160', '162', '163', '164', '165', '166', '1664', '167', '170', '171', '173', '175', '177', '18', '180', '185', '187', '1887', '1890', '1895', '19', '190', '1906', '195', '198', '1ª', '20', '200', '2005', '2007', '2009', '2010', '2012', '2013', '2015', '204', '205', '21', '210', '215', '216', '217', '22', '220', '224', '225', '226', '227', '228', '23', '230', '232', '235', '237', '238', '24', '240', '242', '25', '250', '255', '258', '26', '264', '269', '27', '270', '275', '276', '28', '280', '283', '284', '285', '29', '290', '2ª', '30', '300', '305', '31', '310', '315', '320', '326', '33', '330', '332', '335', '336', '33º', '34', '340', '346', '35', '350', '354', '355', '36', '360', '368', '369', '37', '370', '375', '38', '380', '384', '388', '390', '391', '397', '3ª', '3º', '40', '400', '405', '41', '410', '42', '425', '43', '430', '432', '44', '445', '45', '450', '453', '455', '456', '46', '460', '462', '465', '47', '470', '473', '474', '475', '48', '480', '485', '49', '490', '495', '496', '50', '500', '5000', '510', '52', '520', '530', '54', '540', '55', '56', '560', '567', '568', '575', '577', '58', '60', '600', '61', '620', '625', '63', '630', '64', '640', '65', '650', '660', '67', '677', '680', '69', '690', '70', '700', '71', '710', '715', '72', '720', '73', '730', '74', '740', '75', '750', '76', '760', '77', '80', '800', '81', '810', '822', '825', '84', '85', '87', '88', '89', '90', '900', '91', '910', '92', '925', '930', '950', '97', '970', '975', '99', '995', 'a1', 'abbot', 'abel', 'aberdeen', 'aberlour', 'abocado', 'abratto', 'abril', 'abuelo', 'acceto', 'acdc', 'aceite', 'aceituna', 'aceitunas', 'acequion', 'aceto', 'acetox', 'acido', 'acidos', 'acordeon', 'acti', 'actimel', 'activa', 'activia', 'actsec', 'aderezo', 'ades', 'adler', 'adob', 'adobo', 'aerosol', 'afincado', 'after', 'age', 'aglu', 'agr', 'agridulce', 'agrupado', 'agrupados', 'agua', 'aguanta', 'aguil', 'aguila', 'agus', 'agustín', 'ahumada', 'ahumado', 'aimé', 'aireada', 'aireado', 'airheads', 'ajo', 'ajos', 'ají', 'alambrado', 'alamos', 'alaris', 'albahaca', 'albani', 'alcalina', 'alcaparras', 'alcazar', 'alcohol', 'ale', 'alejandría', 'aleluya', 'aleman', 'alemana', 'alf', 'alfajor', 'alfajores', 'alfajos', 'alfredo', 'ali', 'alicante', 'alimento', 'alka', 'all', 'alma', 'almendra', 'almendras', 'alta', 'altaland', 'altamira', 'altas', 'altavia', 'alteza', 'alto', 'altos', 'altosur', 'aluminio', 'alvear', 'alyda', 'amado', 'amalaya', 'amapola', 'amargo', 'amarillo', 'amayala', 'ambar', 'amber', 'ambree', 'ambrosoli', 'amenní', 'american', 'americana', 'amoroso', 'ampakama', 'amstel', 'ana', 'anana', 'ananá', 'ancellotta', 'anclas', 'andeluna', 'andes', 'andina', 'angelica', 'angus', 'angélica', 'anillos', 'animals', 'anita', 'aniversario', 'antares', 'antigua', 'anwandter', 'apa', 'aperitivo', 'apetina', 'apostoles', 'apple', 'aprox', 'apérifrais', 'aquarius', 'arandano', 'arandanos', 'arbequina', 'arboles', 'arcor', 'argentin', 'argentina', 'argento', 'aristides', 'arizu', 'arla', 'armonia', 'armonía', 'arnaldo', 'aromatizzata', 'arquito', 'arrivata', 'arroyos', 'arroz', 'arsenalnoye', 'art', 'artesanal', 'artesano', 'artois', 'aruma', 'arándano', 'arándanos', 'arístides', 'asada', 'assorted', 'asstedberry', 'asti', 'astérisco', 'atilio', 'atomic', 'atributo', 'atuel', 'aurora', 'austral', 'australia', 'avellana', 'avellanas', 'avena', 'avenger', 'avengers', 'awafrut', 'azait', 'azuca', 'azucar', 'azucarada', 'azucarados', 'azuicar', 'azul', 'azúcar', 'azúcares', 'años', 'b12', 'b9', 'baby', 'babybel', 'baci', 'bagel', 'baggio', 'bagley', 'baguette', 'baguettin', 'baguetín', 'baja', 'bajo', 'balance', 'balbo', 'ballantine', 'ballantines', 'balls', 'balsam', 'balsamico', 'balsámico', 'banana', 'banana18', 'bananita', 'bandeja', 'banñados', 'barba', 'barbacoa', 'barbaro', 'barbaroja', 'barcelona', 'bariloche', 'barilochitos', 'barley', 'baron', 'barquillas', 'barra', 'barrancas', 'barraza', 'barrel', 'barril', 'base', 'basil', 'basiron', 'baston', 'bastón', 'batata', 'batido', 'baton', 'bauducco', 'bautismo', 'bavaria', 'bayerntaler', 'bañada', 'bañadas', 'bañado', 'bañados', 'bbq', 'bc', 'bde', 'be', 'beam', 'bear', 'bears', 'beastie', 'bebe', 'bebe2', 'bebible', 'bebida', 'bebile', 'bebé', 'beck', 'beer', 'beiro', 'beldent', 'belgian', 'bella', 'beltour', 'benavidez', 'benchmark', 'benegas', 'benjamin', 'benjamín', 'berio', 'berries', 'berry', 'bianchi', 'bianco', 'bicolor', 'bidon', 'bidón', 'billiken', 'bimbo', 'bio', 'bis', 'bitburger', 'bite', 'bites', 'bitter', 'bivarietal', 'bizcochos', 'black', 'blanc', 'blanca', 'blancas', 'blanco', 'blancos', 'blando', 'blandos', 'blast', 'ble', 'blen', 'blend', 'blended', 'blenders', 'bleu', 'bliss', 'blister', 'bloc', 'block', 'blockazo', 'blond', 'blonde', 'blue', 'blueberries', 'blueberry', 'blush', 'bob', 'bocadito', 'bocaditos', 'bocatti', 'bocconcino', 'bock', 'boconccino', 'bodega', 'bohemian', 'bolls', 'bolsa', 'bolsita', 'bolsón', 'bombon', 'bombones', 'bombón', 'bon', 'bonafide', 'bonaqua', 'bonarda', 'bonbones', 'bondiola', 'bonjüzz', 'bonyüzz', 'boom', 'borges', 'borgo', 'borgoña', 'boris', 'bornier', 'bosca', 'bosque', 'bot', 'botella', 'botellita', 'bourbon', 'box', 'brahma', 'bravio', 'bravío', 'brazos', 'bread', 'breeders', 'brennan', 'bri', 'brick', 'brie', 'brik', 'brindamour', 'brisas', 'brk', 'brown', 'brownie', 'brut', 'bsa', 'bso', 'bubblegum', 'bubbly', 'budin', 'budweiser', 'budweiserr', 'buenalma', 'bueno', 'bull', 'bulls', 'burger', 'burrata', 'bustos', 'butt', 'butter', 'buttons', 'by', 'bélgica', 'búfala', 'ca', 'cab', 'caba', 'caballero', 'cabaña', 'cabenet', 'cabernet', 'cabo', 'cabra', 'cabsha', 'cacao', 'cachafaz', 'caco', 'cada', 'cadbury', 'cadus', 'caesar', 'cafayate', 'cafe', 'café', 'cagnoli', 'cagnolo', 'caja', 'calabaza', 'calabresa', 'calchaqui', 'calchaquí', 'calci', 'calcio', 'calia', 'callia', 'calliamagna', 'calorías', 'cambozola', 'camembert', 'campagnola', 'campbell', 'campo', 'canale', 'canciller', 'candelario', 'candies', 'canela', 'canettine', 'cannettine', 'canola', 'canut', 'cappuccino', 'capresse', 'capriccio', 'caprice', 'capricho', 'caramel', 'caramelo', 'caramelos', 'carcassonne', 'cardos', 'carioca', 'caritas', 'carmenere', 'carne', 'carnes', 'caro', 'carta', 'carton', 'cartón', 'casa', 'casalta', 'casancrem', 'casanto', 'casera', 'caserita', 'casero', 'casillero', 'cask', 'caskmates', 'casona', 'cassis', 'castel', 'castello', 'catena', 'cave', 'cavern', 'cavernet', 'cavic', 'cañuela', 'cañuelas', 'cc', 'cebolla', 'cecco', 'celia', 'cellier', 'celíacos', 'cemix', 'centenario', 'centro', 'cepa', 'cepera', 'cepita', 'cerdo', 'cereal', 'cereales', 'cerebritos', 'cereza', 'cerezas', 'cero', 'cerv', 'cerveza', 'cervezaz', 'cesar', 'ch', 'chablis', 'chacabuco', 'chacra', 'chadon', 'chadonnay', 'chamen', 'champa', 'champagne', 'champagña', 'champaña', 'champignones', 'chandon', 'changlot', 'chantal', 'chaokoh', 'chardonay', 'chardonnay', 'chardonnnay', 'chavaroux', 'check', 'cheddar', 'chenin', 'cherry', 'chesse', 'cheval', 'chia', 'chica', 'chicle', 'chicles', 'chiclets', 'chiles', 'chili', 'chimichurri', 'chipotle', 'chipotles', 'chips', 'chivas', 'choc', 'choco', 'chocoalte', 'chocoarroz', 'chocobar', 'chocolat', 'chocolatada', 'chocolatados', 'chocolate', 'chocolateda', 'chocolatenegro', 'chocolates', 'chocolinas', 'chocolino', 'chocoltae', 'choconuss', 'choice', 'chopp', 'chorizo', 'choy', 'chti', 'chubut', 'chupetin', 'chupetines', 'chupetoncito', 'chupetín', 'chutney', 'ciabatta', 'ciavarina', 'ciboulette', 'cica', 'ciclos', 'ciervo', 'cindor', 'circus', 'ciriola', 'ciruela', 'citos', 'citric', 'citrica', 'citrus', 'cja', 'cjn', 'claro', 'clasica', 'clasicas', 'clasico', 'classic', 'classico', 'clausthaler', 'clean', 'clement', 'clericó', 'click', 'clicquot', 'clight', 'clos', 'clásica', 'clásicas', 'clásico', 'cm3', 'cocida', 'cocido', 'cocina', 'cocinero', 'cocktail', 'coco', 'cocoa', 'coconut', 'coctel', 'codorniu', 'cofler', 'cola', 'colavita', 'colchon', 'colchón', 'colec', 'colección', 'colectivo', 'colesterol', 'coliman', 'colina', 'colle', 'collection', 'colome', 'colon', 'colonia', 'colón', 'comarca', 'combinado', 'combo', 'comino', 'compl', 'completa', 'compra', 'comte', 'comun', 'comunes', 'con', 'conaprole', 'concentrado', 'concha', 'cond', 'condensada', 'condimentado', 'conejo', 'conejos', 'confitado', 'confitados', 'confite', 'confites', 'confituras', 'congelado', 'conito', 'conitos', 'continentes', 'cookies', 'cool', 'coopers', 'copani', 'copas', 'copisi', 'copos', 'coquena', 'coquet', 'coratina', 'corazon', 'corazón', 'cordoba', 'cordón', 'cormillot', 'cornet', 'corona', 'coronita', 'correas', 'corte', 'cosecha', 'costeá', 'costeña', 'cotar', 'cotta', 'cranberries', 'craven', 'crazy', 'cream', 'creamy', 'creciente', 'crem', 'crema', 'cremabella', 'cremac', 'crematto', 'creme', 'cremix', 'cremon', 'cremona', 'cremoso', 'cremosísimo', 'cremy', 'cremón', 'creps', 'criadores', 'crianza', 'crico', 'criedores', 'criolla', 'criollo', 'crios', 'cristal', 'crocante', 'crocantes', 'crocantissimo', 'crotta', 'crottin', 'crudo', 'crujientes', 'crunch', 'crunchy', 'cruz', 'cruzat', 'cuadrada', 'cuartirolo', 'cuarto', 'cuatro', 'cubanito', 'cubanitos', 'cubbeto', 'cubierta', 'cubo', 'cuernitos', 'cuesta', 'cular', 'cumbres', 'cuore', 'curado', 'curry', 'cusenier', 'cusquenña', 'cusqueña', 'cutty', 'cuvee', 'cuvelier', 'cuvilier', 'cuvée', 'cuyano', 'czechvar', 'czosnek', 'cítricas', 'córdoba', 'dab', 'dada', 'dadá', 'dahi', 'dahí', 'dairy', 'dalton', 'dambo', 'damm', 'danbo', 'danica', 'daniel', 'daniele', 'daniels', 'danone', 'danonino', 'dante', 'darama', 'darguner', 'dark', 'darma', 'david', 'day', 'ddl', 'dec', 'decoraco', 'decorado', 'dedicado', 'defensas', 'defense', 'deli', 'delicado', 'delice', 'deliciosa', 'delikatessen', 'delouis', 'delta', 'demi', 'des', 'desc', 'descartable', 'descr', 'descrem', 'descremada', 'descremado', 'deseado', 'deshidratada', 'deshuesado', 'develey', 'di', 'dia', 'diabla', 'diablo', 'diamandes', 'diamandina', 'dientes', 'diet', 'dietético', 'digestion', 'digestión', 'dijon', 'dilema', 'dinos', 'dinosaurios', 'dip', 'dipensador', 'diplomata', 'dips', 'dispensador', 'do', 'doble', 'doc', 'dog', 'doina', 'dolca', 'dolce', 'dolcissimo', 'doll', 'dolores', 'dom', 'domaine', 'don', 'dop', 'dorada', 'dorado', 'dore', 'dos', 'doscumbres', 'double', 'doublemint', 'down', 'doy', 'doypack', 'doña', 'dp', 'draak', 'draft', 'dried', 'droste', 'du', 'dubel', 'ducrest', 'dulce', 'dulces', 'dulcor', 'dunkel', 'dunkle', 'duo', 'dupla', 'duranzo', 'durazno', 'duraznos', 'duros', 'dv', 'día', 'días', 'eco', 'ed', 'edic', 'edicion', 'edition', 'eduli', 'egenio', 'eggs', 'eight', 'elab', 'elca', 'elegido', 'elemento', 'elementos', 'elite', 'elsa', 'emilia', 'emmental', 'emmenthal', 'emparedados', 'encuentro', 'endulzado', 'enebro', 'enemigo', 'energetizante', 'energizante', 'energy', 'energética', 'enfabebé', 'ensalada', 'ent', 'entera', 'entero', 'entremont', 'envasada', 'epi', 'equilibrio', 'er', 'erdinger', 'escabec', 'escabeche', 'escocés', 'escondida', 'escorihuela', 'eserve', 'esmeralda', 'esmpumante', 'esnaola', 'españa', 'española', 'espec', 'especial', 'especiales', 'especialidades', 'especias', 'esperado', 'espeso', 'espumante', 'espumoso', 'espuña', 'est', 'estancia', 'estante', 'estate', 'esteco', 'estiba', 'estilo', 'estrella', 'estuche', 'etapa', 'etchart', 'etiqueta', 'eucalipto', 'eucaliptus', 'euforia', 'eugenio', 'euro', 'eveque', 'evian', 'evolution', 'ex', 'excal', 'excalcio', 'excellence', 'explosion', 'expresivo', 'exprimidas', 'exprimido', 'ext', 'extra', 'extrapulido', 'extreme', 'extrs', 'eye', 'fa', 'fabre', 'facil', 'facundo', 'fajitas', 'famiglia', 'familia', 'familiar', 'famouse', 'fanacoa', 'fantasia', 'fantoche', 'fargo', 'favaloro', 'favinco', 'fca', 'fe', 'federico', 'fela', 'felices', 'felicien', 'felipe', 'fermier', 'fernandez', 'ferrarini', 'ferrero', 'festa', 'festivo', 'fet', 'feta', 'fetas', 'feteada', 'feteado', 'fetedo', 'fiambre', 'fiambres', 'fibractiva', 'fierro', 'fiesta', 'figacitas', 'filchman', 'filet', 'filetto', 'filippo', 'fin', 'fina', 'finas', 'finca', 'finest', 'finger', 'finlandia', 'fino', 'fior', 'firenze', 'firme', 'fish', 'fito', 'flats', 'flensburger', 'fleur', 'flichman', 'flip', 'flor', 'floral', 'flyn', 'flynn', 'focaccia', 'fol', 'fond', 'fondo', 'fondue', 'fontina', 'food', 'fort', 'fortificada', 'fortificado', 'fortificante', 'foster', 'founders', 'four', 'fr', 'fracciona', 'fraccionado', 'fram', 'frambuesa', 'frambuesada', 'fran', 'franc', 'france', 'frank', 'franks', 'frantoio', 'franziskaner', 'frasco', 'freaky', 'free', 'freir', 'freixenet', 'french', 'frenchs', 'fresa', 'fresco', 'fresh', 'fresita', 'fritas', 'fritolim', 'fritulla', 'frizante', 'frizee', 'frizze', 'frizzé', 'frost', 'frozen', 'fru', 'frut', 'fruta', 'frutada', 'frutado', 'frutados', 'frutal', 'frutales', 'frutas', 'frutat', 'fruti', 'frutilla', 'frutillas', 'frutos', 'frutta', 'frutti', 'fría', 'frútal', 'fuego', 'fuente', 'fuerte', 'fuet', 'full', 'fun', 'fundido', 'fusion', 'futilla', 'futura', 'futura1', 'fuzion', 'fynbo', 'fácil', 'fé', 'fórmula', 'gajitos', 'gala', 'galicia', 'gallega', 'galleta', 'galletas', 'galletitas', 'gallo', 'gamba', 'ganadera', 'gancia', 'garcía', 'garlic', 'garoto', 'garrapiñada', 'garrapiñadas', 'gas', 'gascon', 'gascón', 'gaseosa', 'gasificada', 'gatorade', 'generacion', 'generación', 'gentleman', 'genuine', 'genuino', 'georgalos', 'gergal', 'gernot', 'ghirardelli', 'gift', 'ginger', 'giorgio', 'giraf', 'girasol', 'glaciar', 'glase', 'glaseado', 'glaze', 'glazé', 'glenfiddich', 'glenlivet', 'glenmorangie', 'globe', 'globo', 'glorieta', 'gluten', 'gmint', 'gms', 'go', 'gobstopper', 'golazo', 'gold', 'golden', 'golf', 'goma', 'gomitas', 'gorra', 'gota', 'gouda', 'gourmet', 'gourmett', 'gourtmet', 'goyenechea', 'gr', 'graffigna', 'graffiti', 'grajeas', 'gran', 'grana', 'granadera', 'granadina', 'grand', 'grande', 'granizado', 'granizados', 'granja', 'granny', 'granola', 'grant', 'grape', 'grasa', 'green', 'greenmint', 'griega', 'grigio', 'grimbergen', 'grion', 'gris', 'grisines', 'grolsch', 'grolsh', 'grosse', 'grouse', 'grq', 'grs', 'grueso', 'gruyere', 'gruyerito', 'guacamole', 'guaymallen', 'gulden', 'guyere', 'guylian', 'habanitos', 'halbitter', 'hall', 'halloween', 'halls', 'hamburguesa', 'hamburguesas', 'hamlet', 'happos', 'haroldos', 'havanna', 'havannet', 'havarti', 'hazelnut', 'heb', 'hebras', 'hefe', 'heinecken', 'heineken', 'heinz', 'helada', 'hell', 'hellmann', 'hellmanns', 'hellmans', 'hello', 'hen', 'hereford', 'heritage', 'hermanos', 'hershey', 'hersheys', 'hi', 'hickory', 'hidratante', 'hierbas', 'hierro', 'hiervas', 'hiper', 'hiram', 'histórico', 'hma', 'hn', 'hoegaarden', 'holanda', 'holandita', 'hollidays', 'honey', 'honigbier', 'hoppy', 'horma', 'hormigas', 'horneado', 'horno', 'hornos', 'horse', 'horses', 'hot', 'hoy', 'huberto', 'hueso', 'huevo', 'huevofrozen', 'huevos', 'hug', 'humberto', 'hummus', 'humo', 'hunt', 'hunts', 'hw', 'ibérico', 'icb', 'ice', 'icebreakers', 'ideal', 'ignacio', 'iguana', 'ii', 'iii', 'ile', 'ilolay', 'imago', 'imperial', 'importado', 'impuro', 'infantil', 'infinit', 'infinitus', 'inglesa', 'inglés', 'inmensidad', 'instantánea', 'integral', 'integrales', 'intensa', 'intense', 'intenso', 'internso', 'intimo', 'intocables', 'ipa', 'iris', 'irlandés', 'iscay', 'isenbeck', 'isla', 'isot', 'isotonica', 'isotónica', 'italian', 'italiano', 'italianolight', 'ivess', 'jack', 'jade', 'jalapeño', 'jameson', 'jamon', 'jamones', 'jamón', 'jc', 'jelly', 'jengibre', 'jet', 'jijona', 'jim', 'joghurt', 'jogol', 'jogole', 'jogolé', 'johnnie', 'jorgelin', 'jorgito', 'joven', 'joy', 'joyful', 'juan', 'jugo', 'jugos', 'julia', 'jumbo', 'jumex', 'junior', 'jura', 'jw', 'kadabra', 'karina', 'kat', 'kaufman', 'kee', 'ketchup', 'kg', 'kids', 'kilkenny', 'killka', 'kilo', 'kin', 'kinder', 'kinien', 'kinig', 'kirsh', 'kit', 'kitty', 'kiwi', 'knorr', 'kolsch', 'kosher', 'kraft', 'krol', 'kronenbourg', 'kulta', 'kum', 'kune', 'kunstmann', 'kunstmanntorobayo', 'köstritzer', 'küné', 'label', 'labratto', 'lac', 'lacasa', 'lacrado', 'lactal', 'lactea', 'lacteado', 'lacteo', 'lactosa', 'lagar', 'lagarde', 'lager', 'lagoa', 'langes', 'lapin', 'larga', 'largas', 'larger', 'lario', 'lat', 'lata', 'latas', 'latitud', 'latte', 'lcp', 'leberwurst', 'lechada', 'leche', 'lechela', 'lee', 'leffe', 'leger', 'lei', 'leicester', 'leite', 'lemon', 'lemonade', 'lemongrass', 'lentejas', 'levadura', 'levex', 'levite', 'levité', 'ley', 'leyenda', 'lheritier', 'liason', 'libertadcabernet', 'libre', 'licher', 'licor', 'licuado', 'lieber', 'lig', 'light', 'ligth', 'liht', 'lila', 'lima', 'limitada', 'limited', 'limon', 'limonada', 'limonata', 'limoncello', 'limoneto', 'limpio', 'limón', 'linaje', 'lincoln', 'linda', 'lindor', 'lindt', 'line', 'lino', 'lira', 'lista', 'listo', 'litro', 'little', 'live', 'liviana', 'liviano', 'loco', 'loire', 'lola', 'lomitero', 'lomito', 'lomo', 'long', 'longaniza', 'lorca', 'lorenza', 'love', 'lowenbrau', 'ls', 'lt', 'lta', 'lts', 'lua', 'lucchetti', 'luchetti', 'luigi', 'luna', 'lunchera', 'lunta', 'lurton', 'lynch', 'lyptus', 'láctea', 'légère', 'löwensenf', 'maasdam', 'macallan', 'macizo', 'mackay', 'madero', 'madrigal', 'maduración', 'madurado', 'maese', 'maggi', 'magic', 'magicornios', 'magna', 'magnasco', 'magnum', 'magra', 'magro', 'maicena', 'maille', 'maiz', 'maker', 'mal', 'mala', 'malamado', 'malartic', 'malbec', 'maleadas', 'malen', 'malma', 'malmado', 'malt', 'malta', 'malteadas', 'maltife', 'malén', 'mamá', 'man', 'manchego', 'mandarina', 'mandarine', 'manfrey', 'mango', 'mangos', 'mani', 'mano', 'manoi', 'manteca', 'mantecol', 'mantequilla', 'mantra', 'manzana', 'manzanada', 'maní', 'mapsa', 'mar', 'maracuya', 'maracuyá', 'marcolla', 'marcus', 'margaux', 'maria', 'mariflor', 'marinela', 'marineras', 'mark', 'marló', 'marmolado', 'marroc', 'marshmallows', 'marshmello', 'martini', 'martona', 'martín', 'marvavic', 'maría', 'mas', 'mascar', 'mascarpone', 'mast', 'master', 'masti', 'masticable', 'masticables', 'masticabletropical', 'mat', 'matcha', 'matterhorn', 'max', 'maxi', 'mayoliva', 'mayonesa', 'mayorista', 'maza', 'mazapan', 'maznzana', 'mazola', 'maíz', 'medalla', 'medallón', 'media', 'mediana', 'mediano', 'medio', 'medite', 'mediterra', 'mediterraneo', 'mediterráneo', 'medium', 'mega', 'melincue', 'melincué', 'membrillo', 'mendicrim', 'mendoza', 'menoyo', 'ment', 'menta', 'mentho', 'mentol', 'menu', 'merci', 'mercier', 'meritage', 'merlot', 'mesa', 'meses', 'messi', 'mezcla', 'mia', 'michel', 'microfiltrada', 'miel', 'miguel', 'mil', 'milakut', 'milan', 'milenium', 'milk', 'milka', 'milkaut', 'millenium', 'miller', 'milán', 'min', 'miner', 'mineral', 'mineralizada', 'minerva', 'mini', 'minialfajores', 'minifynbo', 'minions', 'minor', 'mint', 'mint5', 'mireya', 'misiones', 'mistela', 'misterio', 'mix', 'mixto', 'mixtos', 'ml', 'mll', 'mnt', 'mocoreta', 'mocoretá', 'modelo', 'mogul', 'mokka', 'molde', 'moldeo', 'molto', 'monini', 'monster', 'monstruitos', 'montana', 'monte', 'montmayou', 'moon', 'mora', 'moras', 'morixe', 'morrones', 'mortadela', 'moscatel', 'moscato', 'mostaza', 'motadela', 'moulin', 'mountain', 'mouse', 'mousse', 'mozzarella', 'mp', 'mr', 'mtho', 'muelle', 'muffins', 'mujer', 'muligrano', 'multfruta', 'multicereal', 'multifruta', 'multifrutal', 'multifrutas', 'multinutriente', 'multisemillado', 'multisemillas', 'multivitaminas', 'mumm', 'mundial', 'mundo', 'mundosaurios', 'munich', 'munz', 'muslix', 'mustard', 'mutti', 'muzzarella', 'my', 'mzana', 'mzna', 'mínimo', 'münchner', 'nacional', 'nampe', 'napolitano', 'naralia', 'naranchelo', 'naranja', 'naranjada', 'naranjas', 'narnanja', 'natalia', 'natalina', 'natoons', 'natura', 'natural', 'naturales', 'naturaleza', 'nature', 'navarro', 'navidad', 'nc', 'neck', 'negra', 'negro', 'negroni', 'negros', 'nerd', 'nerds', 'nesquik', 'nestle', 'nestlé', 'neufchatel', 'nevada', 'new', 'newen', 'nica', 'nicanor', 'nicasia', 'nido', 'nieto', 'nig', 'nihuil', 'nina', 'nja', 'nobles', 'noel', 'noir', 'noire', 'nolita', 'noly', 'nonarda', 'norte', 'norton', 'noveau', 'novecento', 'nucete', 'nucrem', 'nueces', 'nuestra', 'nuevo', 'nugaton', 'numina', 'nuss', 'nutri', 'nutrición', 'nutrilón', 'nutriplus', 'nva', 'ny', 'nº1', 'nº2', 'nº3', 'nº5', 'néctar', 'oak', 'oblea', 'obleas', 'obra', 'oda', 'oh', 'oktoberfest', 'old', 'oli', 'oliovita', 'oliva', 'omnium', 'omniun', 'oporto', 'optima', 'or', 'orange', 'oranjeboom', 'oreo', 'organico', 'orgánico', 'oriental', 'orientales', 'origen', 'original', 'originales', 'originlas', 'oro', 'oroweat', 'ortega', 'orégano', 'os', 'osado', 'oscura', 'oscuro', 'ositos', 'oso', 'out', 'oveja', 'ow', 'pachco', 'pacheco', 'pack', 'padano', 'paderborner', 'padres', 'paff', 'paisaje', 'paladini', 'palermo', 'paleta', 'palitos', 'palmeritas', 'pampa', 'pampagourmet', 'pampeana', 'pan', 'panceta', 'pancho', 'panchos', 'pandoro', 'panettone', 'panna', 'pannini', 'panqueques', 'panzottis', 'papas', 'paq', 'paquete', 'parc', 'parcialmente', 'parmalat', 'parmesana', 'parmesano', 'parmigiano', 'parr', 'parrillera', 'parrillero', 'pasas', 'pascua', 'pascual', 'pascuas', 'paseo', 'pasionado', 'pasos', 'passata', 'pasta', 'pasteurizada', 'pastillas', 'pat', 'patagonia', 'patagonico', 'patch', 'pategras', 'pategrás', 'patito', 'patrol', 'paty', 'patyviena', 'paula', 'paulaner', 'paulin', 'paulina', 'paulucci', 'pause', 'pavo', 'paw', 'paz', 'pað', 'pecan', 'pechuga', 'pecorino', 'pedernal', 'pedriel', 'pedro', 'peg', 'peladillas', 'penñon', 'pepato', 'pepino', 'pepipan', 'pepitos', 'pepper', 'peppermint', 'pequeña', 'pera', 'perdriel', 'pere', 'pereda', 'perejil', 'perignon', 'perla', 'permanente', 'pernice', 'perugina', 'peso', 'pesto', 'pet', 'peter', 'petit', 'pez', 'peñon', 'phebus', 'philadeelphia', 'philadelphia', 'piamontesa', 'picada', 'picado', 'picante', 'piccola', 'piccolo', 'pico', 'pie', 'piedras', 'piel', 'pieza', 'pikantus', 'pilsener', 'pimentón', 'pimienta', 'pimientas', 'pimientos', 'pinot', 'pintado', 'pintalengua', 'pionono', 'pipers', 'pirulin', 'pisada', 'pistacho', 'pixar', 'pizza', 'pizzaela', 'pizzeta', 'pizzetas', 'piña', 'plata', 'platinum', 'plus', 'poderosa', 'polaca', 'pollo', 'polpeta', 'polpetta', 'polvo', 'polvo1', 'pomelada', 'pomelo', 'pommery', 'pomo', 'pont', 'pony', 'pop', 'pops', 'porciones', 'porron', 'porrón', 'port', 'porter', 'porteña', 'porteñito', 'portillo', 'portsalut', 'porxas', 'posta', 'postales', 'postre', 'pote', 'pouch', 'powerade', 'praline', 'pralines', 'prato', 'pre', 'preferido', 'prematuro', 'premier', 'premium', 'premiun', 'prepizza', 'president', 'pride', 'primavera', 'primeras', 'primeros', 'primor', 'primos', 'primus', 'pringlés', 'prisma', 'privada', 'privado', 'pro', 'produlac', 'profundo', 'progenie', 'promesa', 'promo', 'pronto', 'propia', 'prosecco', 'protein', 'proteinas', 'proteín', 'proteínas', 'prov', 'provence', 'provola', 'provoleta', 'provolone', 'pré', 'président', 'pto', 'pugliese', 'pulp', 'pulpa', 'pulpeta', 'puls', 'pur', 'pura', 'pureza', 'puro', 'purosol', 'puré', 'push', 'putruele', 'pvc', 'pyros', 'pza', 'pére', 'quadrupel', 'ques', 'quesabores', 'quesera', 'queserísimos', 'quesitos', 'queso', 'quesos', 'quiero', 'quilmes', 'quina', 'quinta', 'radeberger', 'radler', 'raffaello', 'raices', 'rainbow', 'rallada', 'rallado', 'rama', 'ranch', 'ranchera', 'rapunzel', 'raspberry', 'rayado', 'raíces', 'reblochon', 'rebozador', 'receta', 'rechessa', 'red', 'redonda', 'redu', 'reduccion', 'reducción', 'reducida', 'reducido', 'refinado', 'regal', 'reggianito', 'reggianito150', 'reggiano', 'regianito', 'regular', 'reina', 'rellena', 'rellenas', 'relleno', 'rellenos', 'rellenox', 'remo', 'remolacha', 'rendimiento', 'res', 'resero', 'reserva', 'reserve', 'retornable', 'revolution', 'rey', 'rhodesia', 'ri', 'ribeño', 'ricardo', 'ricota', 'ricotta', 'ricrem', 'riera', 'riesling', 'rincón', 'rinde', 'rioja', 'ritter', 'roast', 'robino', 'roble', 'roca', 'rocher', 'rocinante', 'rocio', 'rocklet', 'rockleton', 'rocklets', 'rocky', 'rodajas', 'rodas', 'roja', 'rojo', 'rojos', 'roll', 'rollo', 'rolls', 'romano', 'romero', 'ron', 'roquefort', 'rosa', 'rosado', 'rosas', 'rosca', 'rose', 'rosenborg', 'rosso', 'rosé', 'rougette', 'royal', 'rsten', 'rtd', 'rub', 'rubia', 'rubí', 'ruca', 'rueda', 'rumbos', 'runts', 'rustichella', 'rutas', 'rutini', 'rva', 'ríe', 'rústica', 'sabor', 'sabores', 'saborizada', 'saborizado', 'sache', 'sachet', 'sahne', 'saint', 'sal', 'salada', 'salado', 'salame', 'salamin', 'salamín', 'salchich', 'salchicha', 'salchichas', 'salchichón', 'saldan', 'salentein', 'salmon', 'salmón', 'salonera', 'salsa', 'salsas', 'salt', 'salta', 'salud', 'salut', 'salv', 'salvado', 'salvador', 'salvator', 'san', 'sancor', 'sancor1', 'sandia', 'sandwich', 'sanfiovesse', 'sangría', 'sanguinea', 'sanitaria', 'santa', 'santos', 'sapito', 'sapore', 'sardo', 'sark', 'satur', 'sauce', 'sauco', 'saugignon', 'saurus', 'sauv', 'sauvign', 'sauvignon', 'sauvignone', 'sauvignons', 'sauvigon', 'sauvingnon', 'savora', 'scapa', 'scelto', 'sch', 'scheider', 'schneider', 'schofferhofer', 'schwarzbier', 'schweppes', 'scones', 'scotch', 'scout', 'sec', 'secas', 'secreta', 'segura', 'selec', 'seleccion', 'selección', 'select', 'selection', 'sello', 'selva', 'sem', 'semiamargo', 'semiblandos', 'semicurado', 'semidesc', 'semiduro', 'semillado', 'semillas', 'semillon', 'semse', 'senda', 'senetiner', 'senetiner750', 'sense', 'septiembre', 'septima', 'ser', 'serecol', 'seremix', 'serenata', 'serenisima', 'serenissima', 'serenísima', 'serie', 'serr', 'serrano', 'ses', 'sesamo', 'sesion', 'seven', 'shake', 'shiraz', 'shocobolas', 'shot', 'sierra', 'siete', 'sifón', 'signature', 'signo', 'signos', 'silvia', 'simones', 'simply', 'single', 'sirah', 'sirenitas', 'six', 'sixpack', 'skiren', 'skittles', 'skol', 'slam', 'sleeve', 'smart', 'smoothie', 'smuggler', 'snack', 'snacking', 'snacks', 'snacky', 'snickers', 'snowdonia', 'sob', 'sobremadurado', 'sobrero', 'societe', 'soda', 'sodio', 'soja', 'sojola', 'sol', 'solar', 'song', 'sopa', 'sophenia', 'sopresatta', 'sorpresa', 'sour', 'soz', 'spalen', 'sparkling', 'spearmint', 'special', 'speckled', 'speed', 'spianata', 'spicco', 'spicy', 'split', 'spoon', 'sport', 'squeeze', 'stabz', 'starburst', 'starlight', 'stella', 'stevia', 'storck', 'stout', 'strawberry', 'strog', 'strong', 'style', 'suave', 'suaves', 'suavignon', 'suc', 'successo', 'suchard', 'sudafrica', 'suerte', 'sueños', 'suflair', 'sugus', 'suipachense', 'summer', 'sun', 'super', 'sur', 'surfin', 'surtida', 'surtido', 'surtidos', 'suter', 'suvignon', 'swedish', 'sweet', 'sweetarts', 'swift', 'swing', 'syrah', 'séptima', 'séptimo', 'sésamo', 'sín', 'súper', 't1', 't100', 't2', 'tab', 'tabasco', 'tabassher', 'tabla', 'tableta', 'tac', 'tacc', 'tacos', 'tahini', 'talitas', 'tamarinado', 'tambos', 'tandil', 'tandilero', 'tandilero1', 'tang', 'tannat', 'tapiz', 'tardia', 'tardio', 'tardía', 'tardío', 'tartara', 'tartare', 'tarteletas', 'tartufo', 'tatin', 'tau', 'taza', 'tb', 'teachers', 'telmo', 'temprana', 'tempranillo', 'tentaciones', 'tentación', 'tequila', 'teriyaki', 'terma', 'termidor', 'terra', 'terrabusi', 'terrabussi', 'terranova', 'terrasana', 'terrazas', 'territorio', 'terru', 'terruno', 'tetra', 'tetrapack', 'tetratop', 'the', 'tholem', 'tiburcio', 'tiburoncito', 'tic', 'tierra', 'tingasta', 'tino', 'tintillo', 'tinto', 'tintura', 'tipo', 'tita', 'toblerone', 'tocornal', 'tof', 'tofees', 'toffee', 'toffees', 'toffes', 'toffifee', 'toffiffe', 'tofi', 'toia', 'tokke', 'tomate', 'tomato', 'tomero', 'tomillo', 'tonadita', 'tonkatzu', 'toonix', 'top', 'topline', 'toque', 'torino', 'toro', 'torobayo', 'torrentes', 'torronte', 'torrontes', 'torrontés', 'torta', 'tortas', 'tortuguita', 'toscana', 'toso', 'tostada', 'tostadas', 'tostaditas', 'tostado', 'tottontés', 'touch', 'toy', 'trad', 'tradicional', 'tradición', 'traminer', 'trapiche', 'trappe', 'tratenfu', 'tregar', 'tremblay', 'trenza', 'tres', 'tribu', 'trigo', 'trimousse', 'tripack', 'triple', 'trisalvado', 'trivento', 'tromp', 'tropical', 'tropicales', 'tropicana', 'trotter', 'trozada', 'trozado', 'trozo', 'trozos', 'trufas', 'trumpet', 'trumpeter', 'tsingtao', 'tsq', 'tto', 'tubicolor', 'tubitos', 'tubo', 'tullamore', 'tupper', 'tupungato', 'turbo', 'turkey', 'turron', 'turrón', 'tuti', 'tutti', 'twilight', 'twin', 'twist', 'twister', 'tybo', 'té', 'tónica', 'uat', 'uco', 'uds', 'ugni', 'ultr', 'ultra', 'ultrapasteurizada', 'un', 'unico', 'unid', 'unidades', 'union', 'unlimited', 'unt', 'untable', 'up', 'uva', 'uvas', 'uvita', 'uxmal', 'v8', 'vaca', 'vacas', 'vacio', 'vaciox6', 'vacío', 'vainilla', 'valderrobles', 'valenciano', 'valente', 'valentin', 'valentín', 'valle', 'valmont', 'valor', 'valpadana', 'van', 'vanoli', 'variedades', 'varietal', 'varietales', 'varios', 'vasija', 'vaso', 'vasos', 'vat', 'vauquita', 'vea', 'vegana', 'vegetal', 'vegetalex', 'veldhuyzen', 'vendimiario', 'veneciana', 'veneziana', 'ventus', 'verao', 'verde', 'verdeo', 'verdot', 'verdura', 'verduras', 'vergani', 'veronica', 'vert', 'verónica', 'veuve', 'vibe', 'viboritas', 'vibrant', 'vicenzi', 'vida', 'vidacol', 'vidrio', 'viejo', 'viena', 'vienissima', 'viento', 'viking', 'villa', 'villaggio', 'villars', 'villavicencio', 'vin', 'vinagre', 'vineyard', 'viniterra', 'vino', 'vintage', 'vinto', 'vinñas', 'viogn', 'viogner', 'viognier', 'vionier', 'virgen', 'vista', 'vistalba', 'vit', 'vita', 'vital', 'vitaliza', 'vitamina', 'vitaminas', 'vitamínas', 'vito', 'viudas', 'vizzio', 'viás', 'viñador', 'viñas', 'voll', 'vuelta', 'vx500', 'wafer', 'waffers', 'walker', 'wapi', 'warsteiner', 'water', 'watermelon', 'we', 'weidmann', 'weiss', 'weissbier', 'weisse', 'weizen', 'werther', 'whiskey', 'whisky', 'white', 'wild', 'wildcherry', 'wine', 'winner', 'winter', 'wonka', 'wow', 'wrigley', 'wu', 'wurstenx225', 'x1', 'x10', 'x1000', 'x12', 'x120', 'x13', 'x2', 'x200', 'x3', 'x4', 'x41', 'x5', 'x52', 'x6', 'x740', 'x75', 'x750', 'x8', 'x80', 'xl', 'xplosive', 'xsenses', 'xtreme', 'yacochuya', 'yancanello', 'yauquen', 'yellow', 'yema', 'yog', 'yoghurt', 'yogs', 'yogur', 'yogurade', 'yogurisimo', 'yogurt', 'yogurísimo', 'yogus', 'yougur', 'yougurt', 'zanahoria', 'zanetti', 'zapallo', 'zapata', 'zepellin', 'zott', 'zuccardi', 'zuelo', 'zumuva', 'ácido', 'ácidos', 'águila', 'álamos', 'árabe', 'árboles', 'íntimo', 'ísimo', 'ña', 'único']\n",
      "(6170, 3029)\n"
     ]
    }
   ],
   "source": [
    "corpus = data_tfidf['name']\n",
    "vectorizer = TfidfVectorizer()\n",
    "X_tfidf = vectorizer.fit_transform(corpus,)\n",
    "print(vectorizer.get_feature_names())\n",
    "print(X_tfidf.shape)\n"
   ]
  },
  {
   "cell_type": "code",
   "execution_count": 168,
   "metadata": {
    "colab": {
     "base_uri": "https://localhost:8080/",
     "height": 404
    },
    "id": "0kxWlMtRzaR0",
    "outputId": "cdfcdfd6-b13c-4814-cb24-34fc6366a114"
   },
   "outputs": [
    {
     "data": {
      "text/plain": [
       "<Figure size 1440x360 with 0 Axes>"
      ]
     },
     "execution_count": 168,
     "metadata": {},
     "output_type": "execute_result"
    },
    {
     "data": {
      "text/plain": [
       "(array([0. , 0.2, 0.4, 0.6, 0.8, 1. ]),\n",
       " [Text(0, 0, ''),\n",
       "  Text(0, 0, ''),\n",
       "  Text(0, 0, ''),\n",
       "  Text(0, 0, ''),\n",
       "  Text(0, 0, ''),\n",
       "  Text(0, 0, '')])"
      ]
     },
     "execution_count": 168,
     "metadata": {},
     "output_type": "execute_result"
    },
    {
     "data": {
      "text/plain": [
       "Text(0.5, 1.0, '50 PALABRAS CON MAS PESO')"
      ]
     },
     "execution_count": 168,
     "metadata": {},
     "output_type": "execute_result"
    },
    {
     "data": {
      "text/plain": [
       "<BarContainer object of 50 artists>"
      ]
     },
     "execution_count": 168,
     "metadata": {},
     "output_type": "execute_result"
    },
    {
     "data": {
      "image/png": "[encoded data removed]",
      "text/plain": [
       "<Figure size 1440x360 with 1 Axes>"
      ]
     },
     "metadata": {
      "needs_background": "light"
     },
     "output_type": "display_data"
    }
   ],
   "source": [
    "feature_importances = vectorizer.transform([\" \".join(corpus.to_list())])\n",
    "max_indices = feature_importances.toarray()[0].argsort()[-50:][::-1]\n",
    "max_words = [(vectorizer.get_feature_names()[i],feature_importances.toarray()[0][i]) for i in max_indices]\n",
    "\n",
    "plt.figure(figsize=(20,5))\n",
    "plt.xticks(rotation='vertical')\n",
    "plt.title(\"50 PALABRAS CON MAS PESO\")\n",
    "plt.bar(*zip(*max_words))"
   ]
  },
  {
   "cell_type": "markdown",
   "metadata": {
    "id": "t7VNVWWJS3wz"
   },
   "source": [
    "# Clustering"
   ]
  },
  {
   "cell_type": "markdown",
   "metadata": {
    "id": "SUXOZivVTTZm"
   },
   "source": [
    "## K means"
   ]
  },
  {
   "cell_type": "code",
   "execution_count": 169,
   "metadata": {
    "id": "ZVBhA7BKSS4h"
   },
   "outputs": [],
   "source": [
    "from sklearn.cluster import KMeans\n",
    "import numpy as np"
   ]
  },
  {
   "cell_type": "code",
   "execution_count": 170,
   "metadata": {},
   "outputs": [
    {
     "data": {
      "text/plain": [
       "<6170x3029 sparse matrix of type '<class 'numpy.float64'>'\n",
       "\twith 34401 stored elements in Compressed Sparse Row format>"
      ]
     },
     "execution_count": 170,
     "metadata": {},
     "output_type": "execute_result"
    }
   ],
   "source": [
    "X_tfidf"
   ]
  },
  {
   "cell_type": "code",
   "execution_count": 171,
   "metadata": {
    "colab": {
     "base_uri": "https://localhost:8080/",
     "height": 513
    },
    "id": "aX4ke788SS-q",
    "outputId": "8d69c4e5-5a39-4c00-fe9b-2b777b59b5e2"
   },
   "outputs": [
    {
     "data": {
      "text/plain": [
       "KMeans(n_clusters=5)"
      ]
     },
     "execution_count": 171,
     "metadata": {},
     "output_type": "execute_result"
    },
    {
     "data": {
      "text/plain": [
       "KMeans(n_clusters=10)"
      ]
     },
     "execution_count": 171,
     "metadata": {},
     "output_type": "execute_result"
    },
    {
     "data": {
      "text/plain": [
       "KMeans(n_clusters=15)"
      ]
     },
     "execution_count": 171,
     "metadata": {},
     "output_type": "execute_result"
    },
    {
     "data": {
      "text/plain": [
       "KMeans(n_clusters=20)"
      ]
     },
     "execution_count": 171,
     "metadata": {},
     "output_type": "execute_result"
    },
    {
     "data": {
      "text/plain": [
       "KMeans(n_clusters=25)"
      ]
     },
     "execution_count": 171,
     "metadata": {},
     "output_type": "execute_result"
    },
    {
     "data": {
      "text/plain": [
       "KMeans(n_clusters=30)"
      ]
     },
     "execution_count": 171,
     "metadata": {},
     "output_type": "execute_result"
    },
    {
     "data": {
      "text/plain": [
       "KMeans(n_clusters=35)"
      ]
     },
     "execution_count": 171,
     "metadata": {},
     "output_type": "execute_result"
    },
    {
     "data": {
      "text/plain": [
       "KMeans(n_clusters=45)"
      ]
     },
     "execution_count": 171,
     "metadata": {},
     "output_type": "execute_result"
    },
    {
     "data": {
      "text/plain": [
       "KMeans(n_clusters=50)"
      ]
     },
     "execution_count": 171,
     "metadata": {},
     "output_type": "execute_result"
    },
    {
     "data": {
      "text/plain": [
       "KMeans(n_clusters=55)"
      ]
     },
     "execution_count": 171,
     "metadata": {},
     "output_type": "execute_result"
    },
    {
     "data": {
      "text/plain": [
       "KMeans(n_clusters=60)"
      ]
     },
     "execution_count": 171,
     "metadata": {},
     "output_type": "execute_result"
    },
    {
     "data": {
      "text/plain": [
       "<Figure size 1152x576 with 0 Axes>"
      ]
     },
     "execution_count": 171,
     "metadata": {},
     "output_type": "execute_result"
    },
    {
     "data": {
      "text/plain": [
       "[<matplotlib.lines.Line2D at 0x7fbf5d6ff970>]"
      ]
     },
     "execution_count": 171,
     "metadata": {},
     "output_type": "execute_result"
    },
    {
     "data": {
      "text/plain": [
       "Text(0.5, 0, 'k')"
      ]
     },
     "execution_count": 171,
     "metadata": {},
     "output_type": "execute_result"
    },
    {
     "data": {
      "text/plain": [
       "Text(0, 0.5, 'Distortion')"
      ]
     },
     "execution_count": 171,
     "metadata": {},
     "output_type": "execute_result"
    },
    {
     "data": {
      "text/plain": [
       "Text(0.5, 1.0, 'The Elbow Method showing the optimal k')"
      ]
     },
     "execution_count": 171,
     "metadata": {},
     "output_type": "execute_result"
    },
    {
     "data": {
      "image/png": "[encoded data removed]",
      "text/plain": [
       "<Figure size 1152x576 with 1 Axes>"
      ]
     },
     "metadata": {
      "needs_background": "light"
     },
     "output_type": "display_data"
    }
   ],
   "source": [
    "# Eligiendo el numero de clusters\n",
    "distortions = []\n",
    "K = (5,10,15,20,25,30,35,45,50,55,60)\n",
    "for k in K:\n",
    "    kmeans = KMeans(n_clusters=k)\n",
    "    kmeans.fit(X_tfidf)\n",
    "    distortions.append(kmeans.inertia_)\n",
    "\n",
    "plt.figure(figsize=(16,8))\n",
    "plt.plot(K, distortions, 'bx-')\n",
    "plt.xlabel('k')\n",
    "plt.ylabel('Distortion')\n",
    "plt.title('The Elbow Method showing the optimal k')\n",
    "plt.show()"
   ]
  },
  {
   "cell_type": "markdown",
   "metadata": {
    "id": "W_mJJWJcdQv8"
   },
   "source": [
    "###  Using tfidf vectorization"
   ]
  },
  {
   "cell_type": "code",
   "execution_count": 172,
   "metadata": {
    "colab": {
     "base_uri": "https://localhost:8080/"
    },
    "id": "RmS1sE_nSTD5",
    "outputId": "a8dd6054-1643-4ab9-944b-974ef6e823b8"
   },
   "outputs": [
    {
     "data": {
      "text/plain": [
       "array([19,  2,  0, ...,  4, 23,  4], dtype=int32)"
      ]
     },
     "execution_count": 172,
     "metadata": {},
     "output_type": "execute_result"
    }
   ],
   "source": [
    "kmeans = KMeans(n_clusters=30, random_state=10).fit(X_tfidf)\n",
    "kmeans.labels_\n"
   ]
  },
  {
   "cell_type": "code",
   "execution_count": 173,
   "metadata": {
    "id": "qTtu0DyodowQ"
   },
   "outputs": [],
   "source": [
    "data_tfidf['cluster'] = kmeans.labels_"
   ]
  },
  {
   "cell_type": "code",
   "execution_count": 174,
   "metadata": {
    "colab": {
     "base_uri": "https://localhost:8080/",
     "height": 107
    },
    "id": "MfPd5Zm4dcMk",
    "outputId": "b166a8c2-a195-4aab-9365-1264ffe9e014"
   },
   "outputs": [
    {
     "data": {
      "text/html": [
       "<div>\n",
       "<style scoped>\n",
       "    .dataframe tbody tr th:only-of-type {\n",
       "        vertical-align: middle;\n",
       "    }\n",
       "\n",
       "    .dataframe tbody tr th {\n",
       "        vertical-align: top;\n",
       "    }\n",
       "\n",
       "    .dataframe thead th {\n",
       "        text-align: right;\n",
       "    }\n",
       "</style>\n",
       "<table border=\"1\" class=\"dataframe\">\n",
       "  <thead>\n",
       "    <tr style=\"text-align: right;\">\n",
       "      <th></th>\n",
       "      <th>name</th>\n",
       "      <th>description</th>\n",
       "      <th>maker</th>\n",
       "      <th>trademark</th>\n",
       "      <th>name + trade_mark</th>\n",
       "      <th>cluster</th>\n",
       "    </tr>\n",
       "  </thead>\n",
       "  <tbody>\n",
       "    <tr>\n",
       "      <th>0</th>\n",
       "      <td>cerveza mundo 500 ml</td>\n",
       "      <td>Cerveza Otro Mundo 500 Ml</td>\n",
       "      <td>NaN</td>\n",
       "      <td>Otro Mundo</td>\n",
       "      <td>cerveza mundo 500 ml Otro Mundo</td>\n",
       "      <td>19</td>\n",
       "    </tr>\n",
       "    <tr>\n",
       "      <th>1</th>\n",
       "      <td>vino san telmo varietales x 750 ml</td>\n",
       "      <td>Vino San Telmo Varietales X750Ml.</td>\n",
       "      <td>NaN</td>\n",
       "      <td>San Telmo</td>\n",
       "      <td>vino san telmo varietales x 750 ml San Telmo</td>\n",
       "      <td>2</td>\n",
       "    </tr>\n",
       "  </tbody>\n",
       "</table>\n",
       "</div>"
      ],
      "text/plain": [
       "                                 name                        description  \\\n",
       "0                cerveza mundo 500 ml          Cerveza Otro Mundo 500 Ml   \n",
       "1  vino san telmo varietales x 750 ml  Vino San Telmo Varietales X750Ml.   \n",
       "\n",
       "  maker   trademark                             name + trade_mark  cluster  \n",
       "0   NaN  Otro Mundo               cerveza mundo 500 ml Otro Mundo       19  \n",
       "1   NaN   San Telmo  vino san telmo varietales x 750 ml San Telmo        2  "
      ]
     },
     "execution_count": 174,
     "metadata": {},
     "output_type": "execute_result"
    }
   ],
   "source": [
    "data_tfidf.head(2)"
   ]
  },
  {
   "cell_type": "markdown",
   "metadata": {},
   "source": [
    "## Análisis descriptivo y corrección de clusters"
   ]
  },
  {
   "cell_type": "markdown",
   "metadata": {},
   "source": [
    "Filtrar cada uno de los clusters para darse cuenta que tipo de productos quedaron en cada uno de los grupos"
   ]
  },
  {
   "cell_type": "code",
   "execution_count": 175,
   "metadata": {
    "id": "rBUyGjw9Uicu"
   },
   "outputs": [],
   "source": [
    "#data_tfidf[data_tfidf['cluster']==10][:60]"
   ]
  },
  {
   "cell_type": "code",
   "execution_count": 176,
   "metadata": {
    "id": "teGxhOarSTBq"
   },
   "outputs": [],
   "source": [
    "categorias = {0: 'Yogures',\n",
    "              1: 'Vinos',\n",
    "              2: 'Indeterminado',\n",
    "              3: 'Golosinas y Chocolates',\n",
    "              4: 'Jugos',\n",
    "              5: 'Indeterminado',\n",
    "              6: 'Aderezos',\n",
    "              7: 'Aguas',\n",
    "              8: 'Cervezas',\n",
    "              9: 'Indeterminado',\n",
    "              10: 'Quesos',\n",
    "              11: 'Champagnes',\n",
    "              12: 'Indeterminado',\n",
    "              13: 'Aguas',\n",
    "              14: 'Vinos',\n",
    "              15: 'Aderezos',\n",
    "              16: 'Champagnes',\n",
    "              17: 'Cervezas',\n",
    "              18: 'Aceites y Vinagres',\n",
    "              19: 'Leches',\n",
    "              20: 'Vinos',\n",
    "              21: 'Indeterminado',\n",
    "              22: 'Cervezas',\n",
    "              23: 'Golosinas y Chocolates',\n",
    "              24: 'Fiambre',\n",
    "              25: 'Vinos',\n",
    "              26: 'Aderezos',\n",
    "              27: 'Golosinas y Chocolates',\n",
    "              28: 'Quesos',\n",
    "              29: 'Aderezos'}"
   ]
  },
  {
   "cell_type": "markdown",
   "metadata": {
    "id": "txLKS_DCfe_s"
   },
   "source": [
    " Anotaciones \n",
    "\n",
    "\n",
    "\n",
    "*   Se realizó el modelo utilizando la \"trade mark\" pero resulto un mejor performance solo con la descripcion\" \n",
    "*   index 6679 Vino clasificado como Chapagne\n",
    "*   Cluster #3 tiene 3 alfajores clasificados como leche\n",
    "*   Cluster #7 tiene 1 limonada clasificada como agua\n",
    "*   Clustrer #14 tiene 2 Champagne clasificadas como vino\n",
    "*   Cluster #19 tiene 3 quesos clasificados como leche\n",
    "*   Cluster #20 tiene 1 baguet clasificado como vino\n",
    "*   Cluster #23 tiene 2 leches achocolatadas como Golosinas y chocolates\n",
    "*   Cluster #25 tiene 11 vinos espumantes como vinos\n",
    "*   Cluster #28 3 items mal clasificados\n",
    "*   Cluster #29 tiene 1 queso calsificado como aderezo\n",
    "\n"
   ]
  },
  {
   "cell_type": "code",
   "execution_count": 177,
   "metadata": {
    "id": "ViCtWaRX_jEV"
   },
   "outputs": [],
   "source": [
    "data_tfidf['categoría'] = data_tfidf['cluster'].map(categorias)"
   ]
  },
  {
   "cell_type": "code",
   "execution_count": 178,
   "metadata": {
    "id": "dvca5kvH7JO6"
   },
   "outputs": [],
   "source": [
    "# Arreglar anotaciones"
   ]
  },
  {
   "cell_type": "code",
   "execution_count": 179,
   "metadata": {
    "id": "yTXc7aXK-7nn"
   },
   "outputs": [],
   "source": [
    "# Cluster #3\n",
    "\n",
    "data_tfidf.loc[[257,2210,2954],'categoría'] = 'Leches'"
   ]
  },
  {
   "cell_type": "code",
   "execution_count": 180,
   "metadata": {
    "colab": {
     "base_uri": "https://localhost:8080/",
     "height": 94
    },
    "id": "ZPdRkR7zCEOh",
    "outputId": "e3c2e8b4-f856-46a1-bc3c-bcd6d467ab88"
   },
   "outputs": [
    {
     "data": {
      "text/html": [
       "<div>\n",
       "<style scoped>\n",
       "    .dataframe tbody tr th:only-of-type {\n",
       "        vertical-align: middle;\n",
       "    }\n",
       "\n",
       "    .dataframe tbody tr th {\n",
       "        vertical-align: top;\n",
       "    }\n",
       "\n",
       "    .dataframe thead th {\n",
       "        text-align: right;\n",
       "    }\n",
       "</style>\n",
       "<table border=\"1\" class=\"dataframe\">\n",
       "  <thead>\n",
       "    <tr style=\"text-align: right;\">\n",
       "      <th></th>\n",
       "      <th>name</th>\n",
       "      <th>description</th>\n",
       "      <th>maker</th>\n",
       "      <th>trademark</th>\n",
       "      <th>name + trade_mark</th>\n",
       "      <th>cluster</th>\n",
       "      <th>categoría</th>\n",
       "    </tr>\n",
       "  </thead>\n",
       "  <tbody>\n",
       "  </tbody>\n",
       "</table>\n",
       "</div>"
      ],
      "text/plain": [
       "Empty DataFrame\n",
       "Columns: [name, description, maker, trademark, name + trade_mark, cluster, categoría]\n",
       "Index: []"
      ]
     },
     "metadata": {},
     "output_type": "display_data"
    }
   ],
   "source": [
    "# Cluster #7 \n",
    "display(data_tfidf[((data_tfidf['cluster']==7) & (data_tfidf['name'].str.startswith('limonada')))])\n",
    "data_tfidf.loc[[7880],'categoría'] = 'Jugos'"
   ]
  },
  {
   "cell_type": "code",
   "execution_count": 181,
   "metadata": {
    "colab": {
     "base_uri": "https://localhost:8080/",
     "height": 281
    },
    "id": "qfaTxxe5CwKq",
    "outputId": "f31ded74-14c7-4e6e-bdff-1b4c27038c3e"
   },
   "outputs": [
    {
     "data": {
      "text/html": [
       "<div>\n",
       "<style scoped>\n",
       "    .dataframe tbody tr th:only-of-type {\n",
       "        vertical-align: middle;\n",
       "    }\n",
       "\n",
       "    .dataframe tbody tr th {\n",
       "        vertical-align: top;\n",
       "    }\n",
       "\n",
       "    .dataframe thead th {\n",
       "        text-align: right;\n",
       "    }\n",
       "</style>\n",
       "<table border=\"1\" class=\"dataframe\">\n",
       "  <thead>\n",
       "    <tr style=\"text-align: right;\">\n",
       "      <th></th>\n",
       "      <th>name</th>\n",
       "      <th>description</th>\n",
       "      <th>maker</th>\n",
       "      <th>trademark</th>\n",
       "      <th>name + trade_mark</th>\n",
       "      <th>cluster</th>\n",
       "      <th>categoría</th>\n",
       "    </tr>\n",
       "  </thead>\n",
       "  <tbody>\n",
       "  </tbody>\n",
       "</table>\n",
       "</div>"
      ],
      "text/plain": [
       "Empty DataFrame\n",
       "Columns: [name, description, maker, trademark, name + trade_mark, cluster, categoría]\n",
       "Index: []"
      ]
     },
     "metadata": {},
     "output_type": "display_data"
    }
   ],
   "source": [
    "# Cluster #14\n",
    "temp = data_tfidf[((data_tfidf['cluster']==14) & ((data_tfidf['name'].str.contains('espum')|(data_tfidf['name'].str.contains('champa')))))]\n",
    "display(temp)\n",
    "data_tfidf.loc[temp.index, 'categoría'] = 'Champagnes'\n",
    "del temp"
   ]
  },
  {
   "cell_type": "code",
   "execution_count": 182,
   "metadata": {
    "colab": {
     "base_uri": "https://localhost:8080/",
     "height": 187
    },
    "id": "F37DDKA-CwEX",
    "outputId": "5c1ee296-a507-4b49-f6af-c18fe3792218"
   },
   "outputs": [
    {
     "data": {
      "text/html": [
       "<div>\n",
       "<style scoped>\n",
       "    .dataframe tbody tr th:only-of-type {\n",
       "        vertical-align: middle;\n",
       "    }\n",
       "\n",
       "    .dataframe tbody tr th {\n",
       "        vertical-align: top;\n",
       "    }\n",
       "\n",
       "    .dataframe thead th {\n",
       "        text-align: right;\n",
       "    }\n",
       "</style>\n",
       "<table border=\"1\" class=\"dataframe\">\n",
       "  <thead>\n",
       "    <tr style=\"text-align: right;\">\n",
       "      <th></th>\n",
       "      <th>name</th>\n",
       "      <th>description</th>\n",
       "      <th>maker</th>\n",
       "      <th>trademark</th>\n",
       "      <th>name + trade_mark</th>\n",
       "      <th>cluster</th>\n",
       "      <th>categoría</th>\n",
       "    </tr>\n",
       "  </thead>\n",
       "  <tbody>\n",
       "    <tr>\n",
       "      <th>6472</th>\n",
       "      <td>ricota entera serenísima 500 gr</td>\n",
       "      <td>Ricota Entera La Serenísima 500 Gr</td>\n",
       "      <td>NaN</td>\n",
       "      <td>La Serenisima</td>\n",
       "      <td>ricota entera serenísima 500 gr La Serenisima</td>\n",
       "      <td>19</td>\n",
       "      <td>Leches</td>\n",
       "    </tr>\n",
       "    <tr>\n",
       "      <th>6993</th>\n",
       "      <td>ricota descremada serenísima 500 gr</td>\n",
       "      <td>Ricota Descremada La Serenísima 500 Gr</td>\n",
       "      <td>NaN</td>\n",
       "      <td>La Serenisima</td>\n",
       "      <td>ricota descremada serenísima 500 gr La Serenisima</td>\n",
       "      <td>19</td>\n",
       "      <td>Leches</td>\n",
       "    </tr>\n",
       "  </tbody>\n",
       "</table>\n",
       "</div>"
      ],
      "text/plain": [
       "                                     name  \\\n",
       "6472      ricota entera serenísima 500 gr   \n",
       "6993  ricota descremada serenísima 500 gr   \n",
       "\n",
       "                                 description maker      trademark  \\\n",
       "6472      Ricota Entera La Serenísima 500 Gr   NaN  La Serenisima   \n",
       "6993  Ricota Descremada La Serenísima 500 Gr   NaN  La Serenisima   \n",
       "\n",
       "                                      name + trade_mark  cluster categoría  \n",
       "6472      ricota entera serenísima 500 gr La Serenisima       19    Leches  \n",
       "6993  ricota descremada serenísima 500 gr La Serenisima       19    Leches  "
      ]
     },
     "metadata": {},
     "output_type": "display_data"
    }
   ],
   "source": [
    "# Cluster #19\n",
    "\n",
    "temp = data_tfidf[((data_tfidf['cluster']==19) & ((data_tfidf['name'].str.contains('ricota'))))]\n",
    "data_tfidf.loc[temp.index, 'categoría'] = 'Quesos'\n",
    "display(temp)\n",
    "del temp"
   ]
  },
  {
   "cell_type": "code",
   "execution_count": 183,
   "metadata": {
    "colab": {
     "base_uri": "https://localhost:8080/",
     "height": 77
    },
    "id": "eUDN24ePCEEF",
    "outputId": "8a8deeac-920b-4491-aaec-cf2f8db93e1b"
   },
   "outputs": [
    {
     "data": {
      "text/html": [
       "<div>\n",
       "<style scoped>\n",
       "    .dataframe tbody tr th:only-of-type {\n",
       "        vertical-align: middle;\n",
       "    }\n",
       "\n",
       "    .dataframe tbody tr th {\n",
       "        vertical-align: top;\n",
       "    }\n",
       "\n",
       "    .dataframe thead th {\n",
       "        text-align: right;\n",
       "    }\n",
       "</style>\n",
       "<table border=\"1\" class=\"dataframe\">\n",
       "  <thead>\n",
       "    <tr style=\"text-align: right;\">\n",
       "      <th></th>\n",
       "      <th>name</th>\n",
       "      <th>description</th>\n",
       "      <th>maker</th>\n",
       "      <th>trademark</th>\n",
       "      <th>name + trade_mark</th>\n",
       "      <th>cluster</th>\n",
       "      <th>categoría</th>\n",
       "    </tr>\n",
       "  </thead>\n",
       "  <tbody>\n",
       "  </tbody>\n",
       "</table>\n",
       "</div>"
      ],
      "text/plain": [
       "Empty DataFrame\n",
       "Columns: [name, description, maker, trademark, name + trade_mark, cluster, categoría]\n",
       "Index: []"
      ]
     },
     "metadata": {},
     "output_type": "display_data"
    }
   ],
   "source": [
    "# Cluster #20 \n",
    "\n",
    "temp = data_tfidf[((data_tfidf['cluster']==20) & ((data_tfidf['name'].str.contains('baguet'))))]\n",
    "data_tfidf.loc[temp.index, 'categoría'] = 'Panificados'\n",
    "display(temp)\n",
    "del temp\n"
   ]
  },
  {
   "cell_type": "code",
   "execution_count": 184,
   "metadata": {
    "colab": {
     "base_uri": "https://localhost:8080/",
     "height": 94
    },
    "id": "Gl-TyojLHEko",
    "outputId": "406121d0-6f15-4e18-a510-f6685eed1897"
   },
   "outputs": [
    {
     "data": {
      "text/html": [
       "<div>\n",
       "<style scoped>\n",
       "    .dataframe tbody tr th:only-of-type {\n",
       "        vertical-align: middle;\n",
       "    }\n",
       "\n",
       "    .dataframe tbody tr th {\n",
       "        vertical-align: top;\n",
       "    }\n",
       "\n",
       "    .dataframe thead th {\n",
       "        text-align: right;\n",
       "    }\n",
       "</style>\n",
       "<table border=\"1\" class=\"dataframe\">\n",
       "  <thead>\n",
       "    <tr style=\"text-align: right;\">\n",
       "      <th></th>\n",
       "      <th>name</th>\n",
       "      <th>description</th>\n",
       "      <th>maker</th>\n",
       "      <th>trademark</th>\n",
       "      <th>name + trade_mark</th>\n",
       "      <th>cluster</th>\n",
       "      <th>categoría</th>\n",
       "    </tr>\n",
       "  </thead>\n",
       "  <tbody>\n",
       "  </tbody>\n",
       "</table>\n",
       "</div>"
      ],
      "text/plain": [
       "Empty DataFrame\n",
       "Columns: [name, description, maker, trademark, name + trade_mark, cluster, categoría]\n",
       "Index: []"
      ]
     },
     "metadata": {},
     "output_type": "display_data"
    }
   ],
   "source": [
    "# Cluster #23 \n",
    "\n",
    "temp = data_tfidf[((data_tfidf['cluster']==23) & ((data_tfidf['name'].str.contains('tost'))))]\n",
    "data_tfidf.loc[temp.index, 'categoría'] = 'Panificados'\n",
    "display(temp)\n",
    "del temp"
   ]
  },
  {
   "cell_type": "code",
   "execution_count": 185,
   "metadata": {
    "colab": {
     "base_uri": "https://localhost:8080/",
     "height": 124
    },
    "id": "SlA1fU5THEsC",
    "outputId": "6ef8803c-e18b-4345-a143-b11cf40711de"
   },
   "outputs": [
    {
     "data": {
      "text/html": [
       "<div>\n",
       "<style scoped>\n",
       "    .dataframe tbody tr th:only-of-type {\n",
       "        vertical-align: middle;\n",
       "    }\n",
       "\n",
       "    .dataframe tbody tr th {\n",
       "        vertical-align: top;\n",
       "    }\n",
       "\n",
       "    .dataframe thead th {\n",
       "        text-align: right;\n",
       "    }\n",
       "</style>\n",
       "<table border=\"1\" class=\"dataframe\">\n",
       "  <thead>\n",
       "    <tr style=\"text-align: right;\">\n",
       "      <th></th>\n",
       "      <th>name</th>\n",
       "      <th>description</th>\n",
       "      <th>maker</th>\n",
       "      <th>trademark</th>\n",
       "      <th>name + trade_mark</th>\n",
       "      <th>cluster</th>\n",
       "      <th>categoría</th>\n",
       "    </tr>\n",
       "  </thead>\n",
       "  <tbody>\n",
       "  </tbody>\n",
       "</table>\n",
       "</div>"
      ],
      "text/plain": [
       "Empty DataFrame\n",
       "Columns: [name, description, maker, trademark, name + trade_mark, cluster, categoría]\n",
       "Index: []"
      ]
     },
     "metadata": {},
     "output_type": "display_data"
    }
   ],
   "source": [
    "# Cluster #25 \n",
    "\n",
    "temp = data_tfidf[((data_tfidf['cluster']==25) & ((data_tfidf['name'].str.contains('espum')|(data_tfidf['name'].str.contains('champa')))))]\n",
    "display(temp.head(2))\n",
    "data_tfidf.loc[temp.index, 'categoría'] = 'Champagnes'\n",
    "del temp"
   ]
  },
  {
   "cell_type": "code",
   "execution_count": 186,
   "metadata": {
    "id": "ExzMLNegHEv6"
   },
   "outputs": [],
   "source": [
    "#  Cluster #28 \n",
    "\n",
    "data_tfidf.loc[[2369, 239, 6434, 4615], 'categoría'] = 'Indeterminado'"
   ]
  },
  {
   "cell_type": "code",
   "execution_count": 187,
   "metadata": {
    "colab": {
     "base_uri": "https://localhost:8080/",
     "height": 77
    },
    "id": "mML8kN0vHEo8",
    "outputId": "ff5f6743-9585-4f5a-dd19-d3bbfcb2d130"
   },
   "outputs": [
    {
     "data": {
      "text/html": [
       "<div>\n",
       "<style scoped>\n",
       "    .dataframe tbody tr th:only-of-type {\n",
       "        vertical-align: middle;\n",
       "    }\n",
       "\n",
       "    .dataframe tbody tr th {\n",
       "        vertical-align: top;\n",
       "    }\n",
       "\n",
       "    .dataframe thead th {\n",
       "        text-align: right;\n",
       "    }\n",
       "</style>\n",
       "<table border=\"1\" class=\"dataframe\">\n",
       "  <thead>\n",
       "    <tr style=\"text-align: right;\">\n",
       "      <th></th>\n",
       "      <th>name</th>\n",
       "      <th>description</th>\n",
       "      <th>maker</th>\n",
       "      <th>trademark</th>\n",
       "      <th>name + trade_mark</th>\n",
       "      <th>cluster</th>\n",
       "      <th>categoría</th>\n",
       "    </tr>\n",
       "  </thead>\n",
       "  <tbody>\n",
       "  </tbody>\n",
       "</table>\n",
       "</div>"
      ],
      "text/plain": [
       "Empty DataFrame\n",
       "Columns: [name, description, maker, trademark, name + trade_mark, cluster, categoría]\n",
       "Index: []"
      ]
     },
     "metadata": {},
     "output_type": "display_data"
    }
   ],
   "source": [
    "# Cluster #29 \n",
    "\n",
    "temp = data_tfidf[((data_tfidf['cluster']==29) & ((data_tfidf['name'].str.contains('ques'))))]\n",
    "display(temp)\n",
    "data_tfidf.loc[temp.index, 'categoría'] = 'Quesos'\n",
    "del temp"
   ]
  },
  {
   "cell_type": "code",
   "execution_count": 188,
   "metadata": {
    "colab": {
     "base_uri": "https://localhost:8080/",
     "height": 107
    },
    "id": "404jAKzEHEhm",
    "outputId": "a2c0c8c0-2b38-4b23-e64d-76875f0863e1"
   },
   "outputs": [
    {
     "data": {
      "text/html": [
       "<div>\n",
       "<style scoped>\n",
       "    .dataframe tbody tr th:only-of-type {\n",
       "        vertical-align: middle;\n",
       "    }\n",
       "\n",
       "    .dataframe tbody tr th {\n",
       "        vertical-align: top;\n",
       "    }\n",
       "\n",
       "    .dataframe thead th {\n",
       "        text-align: right;\n",
       "    }\n",
       "</style>\n",
       "<table border=\"1\" class=\"dataframe\">\n",
       "  <thead>\n",
       "    <tr style=\"text-align: right;\">\n",
       "      <th></th>\n",
       "      <th>name</th>\n",
       "      <th>description</th>\n",
       "      <th>maker</th>\n",
       "      <th>trademark</th>\n",
       "      <th>name + trade_mark</th>\n",
       "      <th>cluster</th>\n",
       "      <th>categoría</th>\n",
       "    </tr>\n",
       "  </thead>\n",
       "  <tbody>\n",
       "    <tr>\n",
       "      <th>187</th>\n",
       "      <td>pan jumbo multicereal 540 gr</td>\n",
       "      <td>Pan Jumbo Multicereal 540 Gr</td>\n",
       "      <td>NaN</td>\n",
       "      <td>Jumbo Mp</td>\n",
       "      <td>pan jumbo multicereal 540 gr Jumbo Mp</td>\n",
       "      <td>11</td>\n",
       "      <td>Champagnes</td>\n",
       "    </tr>\n",
       "    <tr>\n",
       "      <th>217</th>\n",
       "      <td>pan dulce arcor frutas x 500 gr</td>\n",
       "      <td>Pan Dulce Arcor Con Frutas X 500 Gr</td>\n",
       "      <td>NaN</td>\n",
       "      <td>Arcor</td>\n",
       "      <td>pan dulce arcor frutas x 500 gr Arcor</td>\n",
       "      <td>27</td>\n",
       "      <td>Golosinas y Chocolates</td>\n",
       "    </tr>\n",
       "  </tbody>\n",
       "</table>\n",
       "</div>"
      ],
      "text/plain": [
       "                                name                          description  \\\n",
       "187     pan jumbo multicereal 540 gr         Pan Jumbo Multicereal 540 Gr   \n",
       "217  pan dulce arcor frutas x 500 gr  Pan Dulce Arcor Con Frutas X 500 Gr   \n",
       "\n",
       "    maker trademark                      name + trade_mark  cluster  \\\n",
       "187   NaN  Jumbo Mp  pan jumbo multicereal 540 gr Jumbo Mp       11   \n",
       "217   NaN     Arcor  pan dulce arcor frutas x 500 gr Arcor       27   \n",
       "\n",
       "                  categoría  \n",
       "187              Champagnes  \n",
       "217  Golosinas y Chocolates  "
      ]
     },
     "metadata": {},
     "output_type": "display_data"
    }
   ],
   "source": [
    "# Arreglar panes\n",
    "\n",
    "temp = data_tfidf[data_tfidf['name'].str.startswith('pan ')]\n",
    "display(temp.head(2))\n",
    "data_tfidf.loc[temp.index, 'categoría'] = 'Panificados'\n",
    "del temp"
   ]
  },
  {
   "cell_type": "code",
   "execution_count": 189,
   "metadata": {
    "colab": {
     "base_uri": "https://localhost:8080/",
     "height": 141
    },
    "id": "ZaKpFdqtKzKt",
    "outputId": "3d33512c-4e3a-47b4-bdbf-e7a92bbe1dd3"
   },
   "outputs": [
    {
     "data": {
      "text/html": [
       "<div>\n",
       "<style scoped>\n",
       "    .dataframe tbody tr th:only-of-type {\n",
       "        vertical-align: middle;\n",
       "    }\n",
       "\n",
       "    .dataframe tbody tr th {\n",
       "        vertical-align: top;\n",
       "    }\n",
       "\n",
       "    .dataframe thead th {\n",
       "        text-align: right;\n",
       "    }\n",
       "</style>\n",
       "<table border=\"1\" class=\"dataframe\">\n",
       "  <thead>\n",
       "    <tr style=\"text-align: right;\">\n",
       "      <th></th>\n",
       "      <th>name</th>\n",
       "      <th>description</th>\n",
       "      <th>maker</th>\n",
       "      <th>trademark</th>\n",
       "      <th>name + trade_mark</th>\n",
       "      <th>cluster</th>\n",
       "      <th>categoría</th>\n",
       "    </tr>\n",
       "  </thead>\n",
       "  <tbody>\n",
       "    <tr>\n",
       "      <th>70</th>\n",
       "      <td>whisky blenders pride 1 l</td>\n",
       "      <td>Whisky Blenders Pride 1 L</td>\n",
       "      <td>Pernod Ricard Argentina</td>\n",
       "      <td>Blenders Pride</td>\n",
       "      <td>whisky blenders pride 1 l Blenders Pride</td>\n",
       "      <td>4</td>\n",
       "      <td>Jugos</td>\n",
       "    </tr>\n",
       "    <tr>\n",
       "      <th>196</th>\n",
       "      <td>whisky jim beam honey 750 ml</td>\n",
       "      <td>Whisky Jim Beam Honey 750 Ml</td>\n",
       "      <td>NaN</td>\n",
       "      <td>Jim Beam</td>\n",
       "      <td>whisky jim beam honey 750 ml Jim Beam</td>\n",
       "      <td>4</td>\n",
       "      <td>Jugos</td>\n",
       "    </tr>\n",
       "  </tbody>\n",
       "</table>\n",
       "</div>"
      ],
      "text/plain": [
       "                             name                   description  \\\n",
       "70      whisky blenders pride 1 l     Whisky Blenders Pride 1 L   \n",
       "196  whisky jim beam honey 750 ml  Whisky Jim Beam Honey 750 Ml   \n",
       "\n",
       "                       maker       trademark  \\\n",
       "70   Pernod Ricard Argentina  Blenders Pride   \n",
       "196                      NaN        Jim Beam   \n",
       "\n",
       "                            name + trade_mark  cluster categoría  \n",
       "70   whisky blenders pride 1 l Blenders Pride        4     Jugos  \n",
       "196     whisky jim beam honey 750 ml Jim Beam        4     Jugos  "
      ]
     },
     "metadata": {},
     "output_type": "display_data"
    }
   ],
   "source": [
    "# Crear categoria whiskies\n",
    "\n",
    "temp = data_tfidf[data_tfidf['name'].str.contains('whisk')]\n",
    "display(temp.head(2))\n",
    "data_tfidf.loc[temp.index, 'categoría'] = 'Whiskies'\n",
    "del temp"
   ]
  },
  {
   "cell_type": "code",
   "execution_count": 190,
   "metadata": {
    "colab": {
     "base_uri": "https://localhost:8080/",
     "height": 141
    },
    "id": "0K_HGEXcMU0n",
    "outputId": "459708e7-c0ca-4a8c-adb5-e8dffee809dc"
   },
   "outputs": [
    {
     "data": {
      "text/html": [
       "<div>\n",
       "<style scoped>\n",
       "    .dataframe tbody tr th:only-of-type {\n",
       "        vertical-align: middle;\n",
       "    }\n",
       "\n",
       "    .dataframe tbody tr th {\n",
       "        vertical-align: top;\n",
       "    }\n",
       "\n",
       "    .dataframe thead th {\n",
       "        text-align: right;\n",
       "    }\n",
       "</style>\n",
       "<table border=\"1\" class=\"dataframe\">\n",
       "  <thead>\n",
       "    <tr style=\"text-align: right;\">\n",
       "      <th></th>\n",
       "      <th>name</th>\n",
       "      <th>description</th>\n",
       "      <th>maker</th>\n",
       "      <th>trademark</th>\n",
       "      <th>name + trade_mark</th>\n",
       "      <th>cluster</th>\n",
       "      <th>categoría</th>\n",
       "    </tr>\n",
       "  </thead>\n",
       "  <tbody>\n",
       "    <tr>\n",
       "      <th>7</th>\n",
       "      <td>salchichón piccolo calchaqui morrones 240 g</td>\n",
       "      <td>Salchichón Piccolo Calchaqui Con Morrones 240 g</td>\n",
       "      <td>La Piamontesa\\t</td>\n",
       "      <td>Calchaqui</td>\n",
       "      <td>salchichón piccolo calchaqui morrones 240 g Ca...</td>\n",
       "      <td>4</td>\n",
       "      <td>Jugos</td>\n",
       "    </tr>\n",
       "    <tr>\n",
       "      <th>26</th>\n",
       "      <td>mortadela tripack kg mínimo 800 gr mayorista</td>\n",
       "      <td>Mortadela Tripack Por Kg Mínimo 800 Gr Mayorista</td>\n",
       "      <td>NaN</td>\n",
       "      <td>Sin Marca</td>\n",
       "      <td>mortadela tripack kg mínimo 800 gr mayorista S...</td>\n",
       "      <td>3</td>\n",
       "      <td>Golosinas y Chocolates</td>\n",
       "    </tr>\n",
       "  </tbody>\n",
       "</table>\n",
       "</div>"
      ],
      "text/plain": [
       "                                            name  \\\n",
       "7    salchichón piccolo calchaqui morrones 240 g   \n",
       "26  mortadela tripack kg mínimo 800 gr mayorista   \n",
       "\n",
       "                                         description            maker  \\\n",
       "7    Salchichón Piccolo Calchaqui Con Morrones 240 g  La Piamontesa\\t   \n",
       "26  Mortadela Tripack Por Kg Mínimo 800 Gr Mayorista              NaN   \n",
       "\n",
       "     trademark                                  name + trade_mark  cluster  \\\n",
       "7   Calchaqui   salchichón piccolo calchaqui morrones 240 g Ca...        4   \n",
       "26   Sin Marca  mortadela tripack kg mínimo 800 gr mayorista S...        3   \n",
       "\n",
       "                 categoría  \n",
       "7                    Jugos  \n",
       "26  Golosinas y Chocolates  "
      ]
     },
     "metadata": {},
     "output_type": "display_data"
    }
   ],
   "source": [
    "# Crear categoria salchichas\n",
    "\n",
    "temp = data_tfidf[data_tfidf['name'].str.contains('salchich') | data_tfidf['name'].str.contains('mortadela')]\n",
    "display(temp.head(2))\n",
    "data_tfidf.loc[temp.index, 'categoría'] = 'Salchichas'\n",
    "del temp"
   ]
  },
  {
   "cell_type": "code",
   "execution_count": 191,
   "metadata": {
    "colab": {
     "base_uri": "https://localhost:8080/"
    },
    "id": "Uj6FBPjbHERY",
    "outputId": "da2b8ce3-b4d1-4cdc-ec15-3eee05922a32"
   },
   "outputs": [
    {
     "data": {
      "text/plain": [
       "Jugos                     0.153485\n",
       "Indeterminado             0.140681\n",
       "Golosinas y Chocolates    0.131118\n",
       "Aderezos                  0.121880\n",
       "Cervezas                  0.096759\n",
       "Vinos                     0.078282\n",
       "Quesos                    0.061912\n",
       "Aguas                     0.052188\n",
       "Yogures                   0.032091\n",
       "Fiambre                   0.026580\n",
       "Panificados               0.025446\n",
       "Leches                    0.024959\n",
       "Aceites y Vinagres        0.014749\n",
       "Salchichas                0.013614\n",
       "Whiskies                  0.013290\n",
       "Champagnes                0.012966\n",
       "Name: categoría, dtype: float64"
      ]
     },
     "execution_count": 191,
     "metadata": {},
     "output_type": "execute_result"
    }
   ],
   "source": [
    "data_tfidf['categoría'].value_counts(normalize)"
   ]
  },
  {
   "cell_type": "markdown",
   "metadata": {
    "id": "gHYk8wsyn94X"
   },
   "source": [
    "### Kmeans metric"
   ]
  },
  {
   "cell_type": "code",
   "execution_count": 192,
   "metadata": {
    "id": "v7vgpYgp81WV"
   },
   "outputs": [],
   "source": [
    "from sklearn.metrics import silhouette_score"
   ]
  },
  {
   "cell_type": "code",
   "execution_count": 193,
   "metadata": {
    "colab": {
     "base_uri": "https://localhost:8080/"
    },
    "id": "yMW_NGxP8-Xb",
    "outputId": "77eae26e-47e0-496e-8fb4-6cffebd72797"
   },
   "outputs": [
    {
     "data": {
      "text/plain": [
       "0.04541353332372114"
      ]
     },
     "execution_count": 193,
     "metadata": {},
     "output_type": "execute_result"
    }
   ],
   "source": [
    "silhouette_score(X_tfidf,kmeans.labels_)"
   ]
  },
  {
   "cell_type": "markdown",
   "metadata": {},
   "source": [
    "# Algoritmos de clasificación"
   ]
  },
  {
   "cell_type": "markdown",
   "metadata": {},
   "source": [
    "Después de tenes los categorías definidas ya podemos realizar un algoritmo de clasificación que clasifique productos en las categorías previamente definidas"
   ]
  },
  {
   "cell_type": "markdown",
   "metadata": {
    "id": "JhzV_2zNoDsu"
   },
   "source": [
    "### k neighborhoods"
   ]
  },
  {
   "cell_type": "code",
   "execution_count": 194,
   "metadata": {
    "colab": {
     "base_uri": "https://localhost:8080/",
     "height": 264
    },
    "id": "5X6B1z-PVpxT",
    "outputId": "9c90d3f5-677d-4e1a-cf8d-595625e206d2"
   },
   "outputs": [
    {
     "data": {
      "text/html": [
       "<div>\n",
       "<style scoped>\n",
       "    .dataframe tbody tr th:only-of-type {\n",
       "        vertical-align: middle;\n",
       "    }\n",
       "\n",
       "    .dataframe tbody tr th {\n",
       "        vertical-align: top;\n",
       "    }\n",
       "\n",
       "    .dataframe thead th {\n",
       "        text-align: right;\n",
       "    }\n",
       "</style>\n",
       "<table border=\"1\" class=\"dataframe\">\n",
       "  <thead>\n",
       "    <tr style=\"text-align: right;\">\n",
       "      <th></th>\n",
       "      <th>name</th>\n",
       "      <th>description</th>\n",
       "      <th>maker</th>\n",
       "      <th>trademark</th>\n",
       "      <th>name + trade_mark</th>\n",
       "      <th>cluster</th>\n",
       "      <th>categoría</th>\n",
       "    </tr>\n",
       "  </thead>\n",
       "  <tbody>\n",
       "    <tr>\n",
       "      <th>0</th>\n",
       "      <td>cerveza mundo 500 ml</td>\n",
       "      <td>Cerveza Otro Mundo 500 Ml</td>\n",
       "      <td>NaN</td>\n",
       "      <td>Otro Mundo</td>\n",
       "      <td>cerveza mundo 500 ml Otro Mundo</td>\n",
       "      <td>19</td>\n",
       "      <td>Leches</td>\n",
       "    </tr>\n",
       "    <tr>\n",
       "      <th>1</th>\n",
       "      <td>vino san telmo varietales x 750 ml</td>\n",
       "      <td>Vino San Telmo Varietales X750Ml.</td>\n",
       "      <td>NaN</td>\n",
       "      <td>San Telmo</td>\n",
       "      <td>vino san telmo varietales x 750 ml San Telmo</td>\n",
       "      <td>2</td>\n",
       "      <td>Indeterminado</td>\n",
       "    </tr>\n",
       "    <tr>\n",
       "      <th>2</th>\n",
       "      <td>mayonesa natura 1000 cc</td>\n",
       "      <td>Mayonesa Natura con jugo de limon sachet x 100...</td>\n",
       "      <td>gallega</td>\n",
       "      <td>Natura</td>\n",
       "      <td>mayonesa natura 1000 cc Natura</td>\n",
       "      <td>0</td>\n",
       "      <td>Yogures</td>\n",
       "    </tr>\n",
       "    <tr>\n",
       "      <th>3</th>\n",
       "      <td>brahma chopp 354 cc x 6</td>\n",
       "      <td>Brahma Chopp 354cc x 6</td>\n",
       "      <td>NaN</td>\n",
       "      <td>Brahma</td>\n",
       "      <td>brahma chopp 354 cc x 6 Brahma</td>\n",
       "      <td>4</td>\n",
       "      <td>Jugos</td>\n",
       "    </tr>\n",
       "    <tr>\n",
       "      <th>4</th>\n",
       "      <td>mayonesa hellmanns light doypack 237 gr</td>\n",
       "      <td>Mayonesa HellmannS Light Doypack 237 Gr</td>\n",
       "      <td>NaN</td>\n",
       "      <td>Hellmann´S</td>\n",
       "      <td>mayonesa hellmanns light doypack 237 gr Hellma...</td>\n",
       "      <td>0</td>\n",
       "      <td>Yogures</td>\n",
       "    </tr>\n",
       "  </tbody>\n",
       "</table>\n",
       "</div>"
      ],
      "text/plain": [
       "                                      name  \\\n",
       "0                     cerveza mundo 500 ml   \n",
       "1       vino san telmo varietales x 750 ml   \n",
       "2                  mayonesa natura 1000 cc   \n",
       "3                  brahma chopp 354 cc x 6   \n",
       "4  mayonesa hellmanns light doypack 237 gr   \n",
       "\n",
       "                                         description    maker   trademark  \\\n",
       "0                          Cerveza Otro Mundo 500 Ml      NaN  Otro Mundo   \n",
       "1                  Vino San Telmo Varietales X750Ml.      NaN   San Telmo   \n",
       "2  Mayonesa Natura con jugo de limon sachet x 100...  gallega      Natura   \n",
       "3                             Brahma Chopp 354cc x 6      NaN      Brahma   \n",
       "4            Mayonesa HellmannS Light Doypack 237 Gr      NaN  Hellmann´S   \n",
       "\n",
       "                                   name + trade_mark  cluster      categoría  \n",
       "0                    cerveza mundo 500 ml Otro Mundo       19         Leches  \n",
       "1       vino san telmo varietales x 750 ml San Telmo        2  Indeterminado  \n",
       "2                     mayonesa natura 1000 cc Natura        0        Yogures  \n",
       "3                     brahma chopp 354 cc x 6 Brahma        4          Jugos  \n",
       "4  mayonesa hellmanns light doypack 237 gr Hellma...        0        Yogures  "
      ]
     },
     "execution_count": 194,
     "metadata": {},
     "output_type": "execute_result"
    }
   ],
   "source": [
    "data_tfidf.head()"
   ]
  },
  {
   "cell_type": "code",
   "execution_count": 195,
   "metadata": {
    "id": "6GN7FqJiWytv"
   },
   "outputs": [],
   "source": [
    "data_neigh = data_tfidf[data_tfidf['categoría'] != 'Indeterminado']"
   ]
  },
  {
   "cell_type": "code",
   "execution_count": 196,
   "metadata": {
    "id": "T_WgOx-WVuNL"
   },
   "outputs": [],
   "source": [
    "y = data_neigh['categoría']\n",
    "X = vectorizer.transform(data_neigh['name'])"
   ]
  },
  {
   "cell_type": "code",
   "execution_count": 197,
   "metadata": {
    "id": "uyJVzzFcYbsr"
   },
   "outputs": [],
   "source": [
    "from sklearn.model_selection import train_test_split"
   ]
  },
  {
   "cell_type": "code",
   "execution_count": 198,
   "metadata": {
    "id": "mEk4QUZuYlAN"
   },
   "outputs": [],
   "source": [
    "X_train, X_test, y_train, y_test = train_test_split(X, y, test_size=0.2, random_state=42)"
   ]
  },
  {
   "cell_type": "code",
   "execution_count": 199,
   "metadata": {
    "colab": {
     "base_uri": "https://localhost:8080/"
    },
    "id": "77d4L31KoCv5",
    "outputId": "ad6e0790-4db3-4326-9d2c-b522d9aa3937"
   },
   "outputs": [
    {
     "data": {
      "text/plain": [
       "KNeighborsClassifier()"
      ]
     },
     "execution_count": 199,
     "metadata": {},
     "output_type": "execute_result"
    }
   ],
   "source": [
    "from sklearn.neighbors import KNeighborsClassifier\n",
    "neigh = KNeighborsClassifier(n_neighbors=5)\n",
    "neigh.fit(X_train, y_train)"
   ]
  },
  {
   "cell_type": "code",
   "execution_count": 200,
   "metadata": {
    "colab": {
     "base_uri": "https://localhost:8080/"
    },
    "id": "oQ64ufWSZPYD",
    "outputId": "26f10c44-6a79-4165-9f85-8c1bd8b3416a"
   },
   "outputs": [
    {
     "data": {
      "text/plain": [
       "0.8539114043355325"
      ]
     },
     "execution_count": 200,
     "metadata": {},
     "output_type": "execute_result"
    }
   ],
   "source": [
    "neigh.score(X_test,y_test)"
   ]
  },
  {
   "cell_type": "markdown",
   "metadata": {
    "id": "h_yZknCooI3y"
   },
   "source": [
    "### SVM"
   ]
  },
  {
   "cell_type": "code",
   "execution_count": 201,
   "metadata": {
    "colab": {
     "base_uri": "https://localhost:8080/"
    },
    "id": "eWYjiJ7jawTn",
    "outputId": "e89854ca-d8f5-4d8b-a62b-06019bd7d974"
   },
   "outputs": [
    {
     "data": {
      "text/plain": [
       "SVC()"
      ]
     },
     "execution_count": 201,
     "metadata": {},
     "output_type": "execute_result"
    }
   ],
   "source": [
    "from sklearn.svm import SVC\n",
    "clf = SVC()\n",
    "clf.fit(X_train, y_train)"
   ]
  },
  {
   "cell_type": "code",
   "execution_count": 202,
   "metadata": {
    "colab": {
     "base_uri": "https://localhost:8080/"
    },
    "id": "U5F5-N89bYi7",
    "outputId": "a42e5098-42eb-4325-eb71-7655a1f9d176"
   },
   "outputs": [
    {
     "data": {
      "text/plain": [
       "0.9688972667295005"
      ]
     },
     "execution_count": 202,
     "metadata": {},
     "output_type": "execute_result"
    }
   ],
   "source": [
    "clf.score(X_test,y_test)"
   ]
  },
  {
   "cell_type": "code",
   "execution_count": 203,
   "metadata": {
    "colab": {
     "base_uri": "https://localhost:8080/"
    },
    "id": "dyTcZpfLcsZi",
    "outputId": "1182d5c9-1dac-43c3-a1df-dec5814205b7"
   },
   "outputs": [
    {
     "data": {
      "text/plain": [
       "array([0.9736098 , 0.97737983, 0.96981132, 0.97264151, 0.96415094])"
      ]
     },
     "execution_count": 203,
     "metadata": {},
     "output_type": "execute_result"
    }
   ],
   "source": [
    "from sklearn.model_selection import cross_val_score\n",
    "\n",
    "cross_val_score(clf, X, y, cv=5)"
   ]
  },
  {
   "cell_type": "code",
   "execution_count": 204,
   "metadata": {
    "id": "zfQAY3XBjdqQ"
   },
   "outputs": [],
   "source": [
    "from sklearn.model_selection import GridSearchCV\n",
    "\n",
    "parameters = {'kernel':('linear', 'rbf'), 'C':[0.01,0.1,1, 10,100]}\n",
    "svc = SVC()\n",
    "clf = GridSearchCV(svc, parameters)"
   ]
  },
  {
   "cell_type": "code",
   "execution_count": 205,
   "metadata": {
    "colab": {
     "base_uri": "https://localhost:8080/"
    },
    "id": "RcZliZRRjdWJ",
    "outputId": "a9a2794e-9533-4db1-e738-3cb95ac38097"
   },
   "outputs": [
    {
     "data": {
      "text/plain": [
       "GridSearchCV(estimator=SVC(),\n",
       "             param_grid={'C': [0.01, 0.1, 1, 10, 100],\n",
       "                         'kernel': ('linear', 'rbf')})"
      ]
     },
     "execution_count": 205,
     "metadata": {},
     "output_type": "execute_result"
    },
    {
     "data": {
      "text/plain": [
       "0.9811498586239397"
      ]
     },
     "execution_count": 205,
     "metadata": {},
     "output_type": "execute_result"
    }
   ],
   "source": [
    "clf.fit(X_train, y_train)\n",
    "clf.score(X_test,y_test)"
   ]
  },
  {
   "cell_type": "markdown",
   "metadata": {
    "id": "tmQjaA8UoNBe"
   },
   "source": [
    "## Ensamble methods"
   ]
  },
  {
   "cell_type": "markdown",
   "metadata": {
    "id": "6qI4SiNDfzD9"
   },
   "source": [
    "### Boosting"
   ]
  },
  {
   "cell_type": "code",
   "execution_count": 206,
   "metadata": {
    "colab": {
     "base_uri": "https://localhost:8080/"
    },
    "id": "Oyc2BFkISS74",
    "outputId": "ca4e7273-983d-4310-d273-dc0656818820"
   },
   "outputs": [
    {
     "data": {
      "text/plain": [
       "GradientBoostingClassifier(random_state=0)"
      ]
     },
     "execution_count": 206,
     "metadata": {},
     "output_type": "execute_result"
    }
   ],
   "source": [
    "from sklearn.ensemble import GradientBoostingClassifier\n",
    "from sklearn.datasets import make_classification\n",
    "clf_boost = GradientBoostingClassifier(n_estimators=100, random_state=0)\n",
    "clf_boost.fit(X_train, y_train)"
   ]
  },
  {
   "cell_type": "code",
   "execution_count": 207,
   "metadata": {
    "colab": {
     "base_uri": "https://localhost:8080/"
    },
    "id": "ByQ1JsxQSS09",
    "outputId": "729afc9b-37ea-4ace-a356-410911067700"
   },
   "outputs": [
    {
     "data": {
      "text/plain": [
       "0.9736098020735156"
      ]
     },
     "execution_count": 207,
     "metadata": {},
     "output_type": "execute_result"
    }
   ],
   "source": [
    "clf_boost.score(X_test, y_test)"
   ]
  },
  {
   "cell_type": "code",
   "execution_count": 208,
   "metadata": {
    "colab": {
     "base_uri": "https://localhost:8080/"
    },
    "id": "bDWJ_rBCEexu",
    "outputId": "c530b1c3-856c-4d3f-bfbc-19419c3e23c7"
   },
   "outputs": [
    {
     "data": {
      "text/plain": [
       "array([0.9736098 , 0.97643732, 0.97358491, 0.96698113, 0.96698113])"
      ]
     },
     "execution_count": 208,
     "metadata": {},
     "output_type": "execute_result"
    }
   ],
   "source": [
    "cross_val_score(clf_boost, X, y, cv=5)"
   ]
  },
  {
   "cell_type": "markdown",
   "metadata": {
    "id": "ukbdZvcBf5yR"
   },
   "source": [
    "### Random forest"
   ]
  },
  {
   "cell_type": "code",
   "execution_count": 209,
   "metadata": {
    "colab": {
     "base_uri": "https://localhost:8080/"
    },
    "id": "-e3FB5k9fdsX",
    "outputId": "f31eb779-e622-43c1-f491-e348a41cba5f"
   },
   "outputs": [
    {
     "data": {
      "text/plain": [
       "RandomForestClassifier(n_estimators=300)"
      ]
     },
     "execution_count": 209,
     "metadata": {},
     "output_type": "execute_result"
    }
   ],
   "source": [
    "from sklearn.ensemble import RandomForestClassifier\n",
    "\n",
    "clf_forest = RandomForestClassifier(n_estimators=300)\n",
    "clf_forest.fit(X_train, y_train)"
   ]
  },
  {
   "cell_type": "code",
   "execution_count": 210,
   "metadata": {
    "colab": {
     "base_uri": "https://localhost:8080/"
    },
    "id": "lKRe5Xt_feCc",
    "outputId": "d4ae9627-93ac-4e54-9c5b-092ddc619c55"
   },
   "outputs": [
    {
     "data": {
      "text/plain": [
       "0.9849198868991518"
      ]
     },
     "execution_count": 210,
     "metadata": {},
     "output_type": "execute_result"
    }
   ],
   "source": [
    "clf_forest.score(X_test,y_test)"
   ]
  },
  {
   "cell_type": "code",
   "execution_count": 211,
   "metadata": {
    "colab": {
     "base_uri": "https://localhost:8080/"
    },
    "id": "rjFVnB3dfeUn",
    "outputId": "a7ff3041-f69c-4a5b-8d84-1a191733c6ef"
   },
   "outputs": [
    {
     "data": {
      "text/plain": [
       "array([0.97832234, 0.9868049 , 0.97169811, 0.97169811, 0.97924528])"
      ]
     },
     "execution_count": 211,
     "metadata": {},
     "output_type": "execute_result"
    }
   ],
   "source": [
    "cross_val_score(clf_forest, X, y, cv=5)"
   ]
  },
  {
   "cell_type": "markdown",
   "metadata": {
    "id": "F0lJ9DwWhq6m"
   },
   "source": [
    "# Clasificar archivo de test"
   ]
  },
  {
   "cell_type": "code",
   "execution_count": 212,
   "metadata": {
    "id": "nSCYWdQaeoWA"
   },
   "outputs": [],
   "source": [
    "data_test = pd.read_csv('test_challenge.csv')"
   ]
  },
  {
   "cell_type": "code",
   "execution_count": 213,
   "metadata": {
    "id": "sG3Ov9zyiH1W"
   },
   "outputs": [],
   "source": [
    "data_test['categoria'] = clf.predict(vectorizer.transform(data_test['name']))"
   ]
  },
  {
   "cell_type": "code",
   "execution_count": 214,
   "metadata": {
    "colab": {
     "base_uri": "https://localhost:8080/",
     "height": 1000
    },
    "id": "UERmzU5SiJl7",
    "outputId": "9de3b6d2-109f-4f19-b140-460e5b5382b4"
   },
   "outputs": [
    {
     "data": {
      "text/html": [
       "<div>\n",
       "<style scoped>\n",
       "    .dataframe tbody tr th:only-of-type {\n",
       "        vertical-align: middle;\n",
       "    }\n",
       "\n",
       "    .dataframe tbody tr th {\n",
       "        vertical-align: top;\n",
       "    }\n",
       "\n",
       "    .dataframe thead th {\n",
       "        text-align: right;\n",
       "    }\n",
       "</style>\n",
       "<table border=\"1\" class=\"dataframe\">\n",
       "  <thead>\n",
       "    <tr style=\"text-align: right;\">\n",
       "      <th></th>\n",
       "      <th>name</th>\n",
       "      <th>description</th>\n",
       "      <th>maker</th>\n",
       "      <th>trademark</th>\n",
       "      <th>categoria</th>\n",
       "    </tr>\n",
       "  </thead>\n",
       "  <tbody>\n",
       "    <tr>\n",
       "      <th>180</th>\n",
       "      <td>Seremix Licuado Durazno 250 Ml</td>\n",
       "      <td>Seremix Licuado Durazno 250 Ml</td>\n",
       "      <td>NaN</td>\n",
       "      <td>La Serenisima</td>\n",
       "      <td>Aderezos</td>\n",
       "    </tr>\n",
       "    <tr>\n",
       "      <th>181</th>\n",
       "      <td>Champaa Chandon Extra Brut</td>\n",
       "      <td>Champaa Chandon Extra Brut 187 Cc - 4 U</td>\n",
       "      <td>Moet Chandon</td>\n",
       "      <td>Moet Chandon</td>\n",
       "      <td>Quesos</td>\n",
       "    </tr>\n",
       "    <tr>\n",
       "      <th>182</th>\n",
       "      <td>Vino Santa Ana Abocado   750 Cc</td>\n",
       "      <td>Vino Santa Ana Abocado   750 Cc</td>\n",
       "      <td>NaN</td>\n",
       "      <td>Santa Ana</td>\n",
       "      <td>Vinos</td>\n",
       "    </tr>\n",
       "    <tr>\n",
       "      <th>183</th>\n",
       "      <td>Huevo De Pascua Bon O Bon Chocolate Blanco Paq...</td>\n",
       "      <td>Huevo De Pascua Bon O Bon Chocolate Blanco Paq...</td>\n",
       "      <td>NaN</td>\n",
       "      <td>Bon O Bon</td>\n",
       "      <td>Aderezos</td>\n",
       "    </tr>\n",
       "    <tr>\n",
       "      <th>184</th>\n",
       "      <td>Vino Tinto Chapa Uno Roble Cabarnet Sauvignon ...</td>\n",
       "      <td>Vino Tinto Chapa Uno Roble Cabarnet Sauvignon ...</td>\n",
       "      <td>NaN</td>\n",
       "      <td>Chapa Uno</td>\n",
       "      <td>Vinos</td>\n",
       "    </tr>\n",
       "    <tr>\n",
       "      <th>185</th>\n",
       "      <td>Vino Tinto La Vuelta Malbec 750 Cc</td>\n",
       "      <td>Vino Tinto La Vuelta Malbec 750 Cc</td>\n",
       "      <td>NaN</td>\n",
       "      <td>La Vuelta</td>\n",
       "      <td>Golosinas y Chocolates</td>\n",
       "    </tr>\n",
       "    <tr>\n",
       "      <th>186</th>\n",
       "      <td>Salsa Mangos Chutney Darma 250 Gr</td>\n",
       "      <td>Salsa Mangos Chutney Darma 250 Gr</td>\n",
       "      <td>NaN</td>\n",
       "      <td>Darama</td>\n",
       "      <td>Yogures</td>\n",
       "    </tr>\n",
       "    <tr>\n",
       "      <th>187</th>\n",
       "      <td>Aceto Balsamico Casalta Glaze Frutos Rojos 250 Ml</td>\n",
       "      <td>Aceto Balsamico Casalta Glaze Frutos Rojos 250 Ml</td>\n",
       "      <td>NaN</td>\n",
       "      <td>Casalta</td>\n",
       "      <td>Aderezos</td>\n",
       "    </tr>\n",
       "    <tr>\n",
       "      <th>188</th>\n",
       "      <td>Vino Tinto La Posta Glorieta 750 mL</td>\n",
       "      <td>Vino Tinto La Posta Glorieta 750 mL</td>\n",
       "      <td>La Posta Glorieta</td>\n",
       "      <td>La Posta Glorieta</td>\n",
       "      <td>Vinos</td>\n",
       "    </tr>\n",
       "    <tr>\n",
       "      <th>189</th>\n",
       "      <td>Huevo Kinder Pascuas Star Wars X100G-Paq-Gr.-100</td>\n",
       "      <td>Huevo Kinder Pascuas Star Wars X100G-Paq-Gr.-100</td>\n",
       "      <td>NaN</td>\n",
       "      <td>Kinder</td>\n",
       "      <td>Aderezos</td>\n",
       "    </tr>\n",
       "    <tr>\n",
       "      <th>190</th>\n",
       "      <td>Aceto Balsámico Lira 250 Ml</td>\n",
       "      <td>Aceto Balsámico Lira 250 Ml</td>\n",
       "      <td>NaN</td>\n",
       "      <td>Lira</td>\n",
       "      <td>Aderezos</td>\n",
       "    </tr>\n",
       "    <tr>\n",
       "      <th>191</th>\n",
       "      <td>Vino Tinto Lurton Malbec Tierra De Luna Alta 7...</td>\n",
       "      <td>Vino Tinto Lurton Malbec Tierra De Luna Alta 7...</td>\n",
       "      <td>NaN</td>\n",
       "      <td>Lurton</td>\n",
       "      <td>Golosinas y Chocolates</td>\n",
       "    </tr>\n",
       "    <tr>\n",
       "      <th>192</th>\n",
       "      <td>Jugo Arcor en Polvo Sabor Maznzana 20 g</td>\n",
       "      <td>Jugo Arcor en Polvo Sabor Maznzana 20 g</td>\n",
       "      <td>Grupo Arcor</td>\n",
       "      <td>Arcor</td>\n",
       "      <td>Aguas</td>\n",
       "    </tr>\n",
       "    <tr>\n",
       "      <th>193</th>\n",
       "      <td>Agua H2Oh! Saborizada Con Gas Limoneto 500 mL</td>\n",
       "      <td>Agua H2Oh! Saborizada Con Gas Limoneto 500 mL</td>\n",
       "      <td>Pepsico</td>\n",
       "      <td>H2Oh!</td>\n",
       "      <td>Cervezas</td>\n",
       "    </tr>\n",
       "    <tr>\n",
       "      <th>194</th>\n",
       "      <td>Cerveza Quilmes Clásica Lata 473 mL</td>\n",
       "      <td>Cerveza Quilmes Clásica Lata 473 mL</td>\n",
       "      <td>Cervecería y Maltería Quilmes</td>\n",
       "      <td>Quilmes</td>\n",
       "      <td>Quesos</td>\n",
       "    </tr>\n",
       "    <tr>\n",
       "      <th>195</th>\n",
       "      <td>Queso Rosenborg Azul Extra Cremoso 100 Gr</td>\n",
       "      <td>Queso Rosenborg Azul Extra Cremoso 100 Gr</td>\n",
       "      <td>NaN</td>\n",
       "      <td>Rosenborg</td>\n",
       "      <td>Cervezas</td>\n",
       "    </tr>\n",
       "    <tr>\n",
       "      <th>196</th>\n",
       "      <td>Cerveza Isenbeck Premium Lata 473 mL</td>\n",
       "      <td>Cerveza Isenbeck Premium Lata 473 mL</td>\n",
       "      <td>Isenbeck</td>\n",
       "      <td>Isenbeck</td>\n",
       "      <td>Quesos</td>\n",
       "    </tr>\n",
       "    <tr>\n",
       "      <th>197</th>\n",
       "      <td>Vino Ruca Blend 750Ml</td>\n",
       "      <td>Vino Ruca Blend 750Ml</td>\n",
       "      <td>NaN</td>\n",
       "      <td>Ruca Malen</td>\n",
       "      <td>Jugos</td>\n",
       "    </tr>\n",
       "    <tr>\n",
       "      <th>198</th>\n",
       "      <td>Vino Ampakama Malbec Merlot</td>\n",
       "      <td>Vino Ampakama Malbec Merlot X 750 Ml</td>\n",
       "      <td>Ampakama</td>\n",
       "      <td>Ampakama</td>\n",
       "      <td>Golosinas y Chocolates</td>\n",
       "    </tr>\n",
       "    <tr>\n",
       "      <th>199</th>\n",
       "      <td>Chocolate c/ almendras RITTER SPORT</td>\n",
       "      <td>CHOCOLATE RITTER SPORT CON ALMENDRAS 100 GR</td>\n",
       "      <td>NaN</td>\n",
       "      <td>RITTER SPORT</td>\n",
       "      <td>Aderezos</td>\n",
       "    </tr>\n",
       "    <tr>\n",
       "      <th>200</th>\n",
       "      <td>Vino Esquinas Dulce Natural Sauvignon Blanco X</td>\n",
       "      <td>Vino Esquinas Dulce Natural Sauvignon Blanco X</td>\n",
       "      <td>NaN</td>\n",
       "      <td>Esquinas</td>\n",
       "      <td>Golosinas y Chocolates</td>\n",
       "    </tr>\n",
       "    <tr>\n",
       "      <th>201</th>\n",
       "      <td>Vino Tinto Trumpeter Reserve Malbec 750 mL</td>\n",
       "      <td>Vino Tinto Trumpeter Reserve Malbec 750 mL</td>\n",
       "      <td>Rutini Wines</td>\n",
       "      <td>Trumpeter Reserve</td>\n",
       "      <td>Golosinas y Chocolates</td>\n",
       "    </tr>\n",
       "    <tr>\n",
       "      <th>202</th>\n",
       "      <td>Aceite Costa Del Sol X900Ml.</td>\n",
       "      <td>Aceite Costa Del Sol X900Ml.</td>\n",
       "      <td>NaN</td>\n",
       "      <td>La Gallega</td>\n",
       "      <td>Jugos</td>\n",
       "    </tr>\n",
       "    <tr>\n",
       "      <th>203</th>\n",
       "      <td>Vino Tinto San Felipe Cabernet Sauvignon Roble...</td>\n",
       "      <td>Vino Tinto San Felipe Cabernet Sauvignon Roble...</td>\n",
       "      <td>NaN</td>\n",
       "      <td>San Felipe</td>\n",
       "      <td>Vinos</td>\n",
       "    </tr>\n",
       "    <tr>\n",
       "      <th>204</th>\n",
       "      <td>Bombon Praline Guylian X 65 Grs</td>\n",
       "      <td>Bombn Praline Guylian 65 Gr.</td>\n",
       "      <td>Guylian</td>\n",
       "      <td>Guylian</td>\n",
       "      <td>Jugos</td>\n",
       "    </tr>\n",
       "    <tr>\n",
       "      <th>205</th>\n",
       "      <td>Vino Cafayate Rutas Elegante 750Ml</td>\n",
       "      <td>Vino Cafayate Rutas Elegante 750Ml</td>\n",
       "      <td>NaN</td>\n",
       "      <td>Cafayate</td>\n",
       "      <td>Jugos</td>\n",
       "    </tr>\n",
       "    <tr>\n",
       "      <th>206</th>\n",
       "      <td>Vino Toro Viejo Tinto Clásico X 1125 Cc</td>\n",
       "      <td>Vino Toro Viejo Tinto Clásico X 1125 Cc</td>\n",
       "      <td>NaN</td>\n",
       "      <td>Toro Viejo</td>\n",
       "      <td>Vinos</td>\n",
       "    </tr>\n",
       "    <tr>\n",
       "      <th>207</th>\n",
       "      <td>Vino Tinto San Huberto Centenario Malbec 750 Cc</td>\n",
       "      <td>Vino Tinto San Huberto Centenario Malbec 750 Cc</td>\n",
       "      <td>NaN</td>\n",
       "      <td>San Huberto</td>\n",
       "      <td>Golosinas y Chocolates</td>\n",
       "    </tr>\n",
       "    <tr>\n",
       "      <th>208</th>\n",
       "      <td>Confites Rocklet´S De Chocolate</td>\n",
       "      <td>Confites Rocklet´S De Chocolate</td>\n",
       "      <td>NaN</td>\n",
       "      <td>Rocklet´S</td>\n",
       "      <td>Aderezos</td>\n",
       "    </tr>\n",
       "    <tr>\n",
       "      <th>209</th>\n",
       "      <td>Queso La Serenisima En Hebras Mozzarella 150 Gr</td>\n",
       "      <td>Queso La Serenisima En Hebras Mozzarella 150 Gr</td>\n",
       "      <td>NaN</td>\n",
       "      <td>La Serenisima</td>\n",
       "      <td>Cervezas</td>\n",
       "    </tr>\n",
       "    <tr>\n",
       "      <th>210</th>\n",
       "      <td>Vino Tinto Goyenechea Malbec 750 mL</td>\n",
       "      <td>Vino Tinto Goyenechea Malbec 750 mL</td>\n",
       "      <td>Goyenechea</td>\n",
       "      <td>Goyenechea</td>\n",
       "      <td>Golosinas y Chocolates</td>\n",
       "    </tr>\n",
       "    <tr>\n",
       "      <th>211</th>\n",
       "      <td>Choc. Ghirardelli Negro Toffee 100G</td>\n",
       "      <td>Choc. Ghirardelli Negro Toffee 100G</td>\n",
       "      <td>NaN</td>\n",
       "      <td>Ghirardelli</td>\n",
       "      <td>Jugos</td>\n",
       "    </tr>\n",
       "    <tr>\n",
       "      <th>212</th>\n",
       "      <td>Cerveza Brahma Chopp 354 Ml</td>\n",
       "      <td>Cerveza Brahma Chopp 354 Ml</td>\n",
       "      <td>NaN</td>\n",
       "      <td>Brahma</td>\n",
       "      <td>Quesos</td>\n",
       "    </tr>\n",
       "    <tr>\n",
       "      <th>213</th>\n",
       "      <td>Salsa Casalta Barbacoa 290 Gr</td>\n",
       "      <td>Salsa Casalta Barbacoa 290 Gr</td>\n",
       "      <td>NaN</td>\n",
       "      <td>Casalta</td>\n",
       "      <td>Yogures</td>\n",
       "    </tr>\n",
       "    <tr>\n",
       "      <th>214</th>\n",
       "      <td>Jugo Puro Sol - Multifrutas Con Pulpa X 1Lt</td>\n",
       "      <td>Jugo Puro Sol - Multifrutas Con Pulpa X 1Lt</td>\n",
       "      <td>NaN</td>\n",
       "      <td>Puro Sol</td>\n",
       "      <td>Aguas</td>\n",
       "    </tr>\n",
       "    <tr>\n",
       "      <th>215</th>\n",
       "      <td>Agua Saborizada Villa Del Sur Levite Naranja 5...</td>\n",
       "      <td>Agua Saborizada Villa Del Sur Levite Naranja 5...</td>\n",
       "      <td>Danone</td>\n",
       "      <td>Villa Del Sur</td>\n",
       "      <td>Cervezas</td>\n",
       "    </tr>\n",
       "    <tr>\n",
       "      <th>216</th>\n",
       "      <td>Yogurt Entero Tregar Vainilla 125 Gr</td>\n",
       "      <td>Yogurt Entero Tregar Vainilla 125 Gr</td>\n",
       "      <td>NaN</td>\n",
       "      <td>Tregar</td>\n",
       "      <td>Aderezos</td>\n",
       "    </tr>\n",
       "    <tr>\n",
       "      <th>217</th>\n",
       "      <td>Cerveza Heineken Lata 473 Cc - Six Pack Cartón</td>\n",
       "      <td>Cerveza Heineken Lata 473 Cc - Six Pack Cartón</td>\n",
       "      <td>NaN</td>\n",
       "      <td>Heineken</td>\n",
       "      <td>Quesos</td>\n",
       "    </tr>\n",
       "    <tr>\n",
       "      <th>218</th>\n",
       "      <td>Limonada Jugo Citric Con Pulpa 500 mL</td>\n",
       "      <td>Limonada Jugo Citric Con Pulpa 500 mL</td>\n",
       "      <td>Jugo Citric</td>\n",
       "      <td>Jugo Citric</td>\n",
       "      <td>Leches</td>\n",
       "    </tr>\n",
       "    <tr>\n",
       "      <th>219</th>\n",
       "      <td>Caramelos Flyn Paff Frutilla 144 Gr</td>\n",
       "      <td>Caramelos Flyn Paff Frutilla 144 Gr</td>\n",
       "      <td>Georgalos</td>\n",
       "      <td>Georgalos</td>\n",
       "      <td>Aceites y Vinagres</td>\n",
       "    </tr>\n",
       "    <tr>\n",
       "      <th>220</th>\n",
       "      <td>Queso Azul Bavaria Horma 1 Kg</td>\n",
       "      <td>Queso Azul Bavaria Horma 1 Kg</td>\n",
       "      <td>\\t\\tMilkaut</td>\n",
       "      <td>Bavaria</td>\n",
       "      <td>Golosinas y Chocolates</td>\n",
       "    </tr>\n",
       "    <tr>\n",
       "      <th>221</th>\n",
       "      <td>Queso Rallado La Serenisima Reggianito X40Gr.</td>\n",
       "      <td>Queso Rallado La Serenisima Reggianito X40Gr.</td>\n",
       "      <td>NaN</td>\n",
       "      <td>La Gallega</td>\n",
       "      <td>Cervezas</td>\n",
       "    </tr>\n",
       "    <tr>\n",
       "      <th>222</th>\n",
       "      <td>Obleas Bon O Bon Bañadas En Chocolate Blanco 3...</td>\n",
       "      <td>Obleas Bon O Bon Bañadas En Chocolate Blanco 3...</td>\n",
       "      <td>NaN</td>\n",
       "      <td>Bon O Bon</td>\n",
       "      <td>Aderezos</td>\n",
       "    </tr>\n",
       "    <tr>\n",
       "      <th>223</th>\n",
       "      <td>Champaña Nieto Senetiner Extra Brut 750 Cc</td>\n",
       "      <td>Champaña Nieto Senetiner Extra Brut 750 Cc</td>\n",
       "      <td>NaN</td>\n",
       "      <td>Nieto &amp; Senetiner</td>\n",
       "      <td>Quesos</td>\n",
       "    </tr>\n",
       "    <tr>\n",
       "      <th>224</th>\n",
       "      <td>Aceite De Maíz Cocinero 1 L</td>\n",
       "      <td>Aceite De Maíz Cocinero 1 L</td>\n",
       "      <td>NaN</td>\n",
       "      <td>Cocinero</td>\n",
       "      <td>Jugos</td>\n",
       "    </tr>\n",
       "    <tr>\n",
       "      <th>225</th>\n",
       "      <td>Vino Tinto Suter Malbec 750 Cc</td>\n",
       "      <td>Vino Tinto Suter Malbec 750 Cc</td>\n",
       "      <td>NaN</td>\n",
       "      <td>Suter</td>\n",
       "      <td>Golosinas y Chocolates</td>\n",
       "    </tr>\n",
       "    <tr>\n",
       "      <th>226</th>\n",
       "      <td>Chocolate Amargo Munz</td>\n",
       "      <td>Chocolate Amargo Munz</td>\n",
       "      <td>NaN</td>\n",
       "      <td>Munz</td>\n",
       "      <td>Aderezos</td>\n",
       "    </tr>\n",
       "    <tr>\n",
       "      <th>227</th>\n",
       "      <td>Chupetines Mr Pop´S Arquito</td>\n",
       "      <td>Chupetines Mr Pop´S Arquito</td>\n",
       "      <td>NaN</td>\n",
       "      <td>Mr Pop´S</td>\n",
       "      <td>Jugos</td>\n",
       "    </tr>\n",
       "    <tr>\n",
       "      <th>228</th>\n",
       "      <td>Vino Tinto Callia Malbec 750 mL</td>\n",
       "      <td>Vino Tinto Callia Malbec 750 mL</td>\n",
       "      <td>Bodegas Callia</td>\n",
       "      <td>Callia</td>\n",
       "      <td>Golosinas y Chocolates</td>\n",
       "    </tr>\n",
       "    <tr>\n",
       "      <th>229</th>\n",
       "      <td>Agua Saborizada Awafrut Sabor Naranja Durazno ...</td>\n",
       "      <td>Agua Saborizada Awafrut Sabor Naranja Durazno ...</td>\n",
       "      <td>Pureza Vital</td>\n",
       "      <td>Nestlé</td>\n",
       "      <td>Cervezas</td>\n",
       "    </tr>\n",
       "    <tr>\n",
       "      <th>230</th>\n",
       "      <td>Jugo en Polvo Verao Naranja 10 g</td>\n",
       "      <td>Jugo en Polvo Verao Naranja 10 g</td>\n",
       "      <td>Suchard</td>\n",
       "      <td>Verao</td>\n",
       "      <td>Aguas</td>\n",
       "    </tr>\n",
       "    <tr>\n",
       "      <th>231</th>\n",
       "      <td>Pan Rallado Jumbo 500 Gr</td>\n",
       "      <td>Pan Rallado Jumbo 500 Gr</td>\n",
       "      <td>NaN</td>\n",
       "      <td>Jumbo Mp</td>\n",
       "      <td>Panificados</td>\n",
       "    </tr>\n",
       "    <tr>\n",
       "      <th>232</th>\n",
       "      <td>Chocolate Kinder Relleno 50 Gr</td>\n",
       "      <td>Chocolate Kinder Relleno 50 Gr</td>\n",
       "      <td>NaN</td>\n",
       "      <td>Kinder</td>\n",
       "      <td>Aderezos</td>\n",
       "    </tr>\n",
       "    <tr>\n",
       "      <th>233</th>\n",
       "      <td>Aimé Espumante Extra Brut 750 Ml</td>\n",
       "      <td>Aimé Espumante Extra Brut 750 Ml</td>\n",
       "      <td>NaN</td>\n",
       "      <td>Aimé</td>\n",
       "      <td>Quesos</td>\n",
       "    </tr>\n",
       "    <tr>\n",
       "      <th>234</th>\n",
       "      <td>Vino Tinto Malbec Fond de Cave 750 mL</td>\n",
       "      <td>Vino Tinto Malbec Fond de Cave 750 mL</td>\n",
       "      <td>Viña Ocucaje</td>\n",
       "      <td>Fond de Cav</td>\n",
       "      <td>Golosinas y Chocolates</td>\n",
       "    </tr>\n",
       "    <tr>\n",
       "      <th>235</th>\n",
       "      <td>Cerveza Rubia Quilmes Clásica Retornable 1 L</td>\n",
       "      <td>Cerveza Rubia Quilmes Clásica Retornable 1 L</td>\n",
       "      <td>Cervecería y Maltería Quilmes</td>\n",
       "      <td>Quilmes</td>\n",
       "      <td>Quesos</td>\n",
       "    </tr>\n",
       "    <tr>\n",
       "      <th>236</th>\n",
       "      <td>SALSA P/CARNES PICANTE A1 284G</td>\n",
       "      <td>SALSA PARA CARNE 142 GR</td>\n",
       "      <td>NaN</td>\n",
       "      <td>SIN MARCA</td>\n",
       "      <td>Yogures</td>\n",
       "    </tr>\n",
       "    <tr>\n",
       "      <th>237</th>\n",
       "      <td>Whisky Old Smuggler 750 Ml</td>\n",
       "      <td>Whisky Old Smuggler 750 Ml</td>\n",
       "      <td>NaN</td>\n",
       "      <td>Old Smuggler</td>\n",
       "      <td>Whiskies</td>\n",
       "    </tr>\n",
       "    <tr>\n",
       "      <th>238</th>\n",
       "      <td>Queso Brie Wapi Leche de Vaca 100 g</td>\n",
       "      <td>Queso Brie Wapi Leche de Vaca 100 g</td>\n",
       "      <td>Lácteos Artesanales\\t</td>\n",
       "      <td>Wapi</td>\n",
       "      <td>Cervezas</td>\n",
       "    </tr>\n",
       "    <tr>\n",
       "      <th>239</th>\n",
       "      <td>Jamn Cocido Natural L«Abratto</td>\n",
       "      <td>Jamn Cocido Natural L«Abratto-Pza-Kg-1</td>\n",
       "      <td>L«Abratto</td>\n",
       "      <td>L«Abratto</td>\n",
       "      <td>Jugos</td>\n",
       "    </tr>\n",
       "  </tbody>\n",
       "</table>\n",
       "</div>"
      ],
      "text/plain": [
       "                                                  name  \\\n",
       "180                     Seremix Licuado Durazno 250 Ml   \n",
       "181                        Champaa Chandon Extra Brut   \n",
       "182                    Vino Santa Ana Abocado   750 Cc   \n",
       "183  Huevo De Pascua Bon O Bon Chocolate Blanco Paq...   \n",
       "184  Vino Tinto Chapa Uno Roble Cabarnet Sauvignon ...   \n",
       "185                 Vino Tinto La Vuelta Malbec 750 Cc   \n",
       "186                  Salsa Mangos Chutney Darma 250 Gr   \n",
       "187  Aceto Balsamico Casalta Glaze Frutos Rojos 250 Ml   \n",
       "188                Vino Tinto La Posta Glorieta 750 mL   \n",
       "189   Huevo Kinder Pascuas Star Wars X100G-Paq-Gr.-100   \n",
       "190                        Aceto Balsámico Lira 250 Ml   \n",
       "191  Vino Tinto Lurton Malbec Tierra De Luna Alta 7...   \n",
       "192            Jugo Arcor en Polvo Sabor Maznzana 20 g   \n",
       "193      Agua H2Oh! Saborizada Con Gas Limoneto 500 mL   \n",
       "194                Cerveza Quilmes Clásica Lata 473 mL   \n",
       "195          Queso Rosenborg Azul Extra Cremoso 100 Gr   \n",
       "196               Cerveza Isenbeck Premium Lata 473 mL   \n",
       "197                              Vino Ruca Blend 750Ml   \n",
       "198                        Vino Ampakama Malbec Merlot   \n",
       "199                Chocolate c/ almendras RITTER SPORT   \n",
       "200     Vino Esquinas Dulce Natural Sauvignon Blanco X   \n",
       "201         Vino Tinto Trumpeter Reserve Malbec 750 mL   \n",
       "202                       Aceite Costa Del Sol X900Ml.   \n",
       "203  Vino Tinto San Felipe Cabernet Sauvignon Roble...   \n",
       "204                    Bombon Praline Guylian X 65 Grs   \n",
       "205                 Vino Cafayate Rutas Elegante 750Ml   \n",
       "206            Vino Toro Viejo Tinto Clásico X 1125 Cc   \n",
       "207    Vino Tinto San Huberto Centenario Malbec 750 Cc   \n",
       "208                    Confites Rocklet´S De Chocolate   \n",
       "209    Queso La Serenisima En Hebras Mozzarella 150 Gr   \n",
       "210                Vino Tinto Goyenechea Malbec 750 mL   \n",
       "211                Choc. Ghirardelli Negro Toffee 100G   \n",
       "212                        Cerveza Brahma Chopp 354 Ml   \n",
       "213                      Salsa Casalta Barbacoa 290 Gr   \n",
       "214        Jugo Puro Sol - Multifrutas Con Pulpa X 1Lt   \n",
       "215  Agua Saborizada Villa Del Sur Levite Naranja 5...   \n",
       "216               Yogurt Entero Tregar Vainilla 125 Gr   \n",
       "217     Cerveza Heineken Lata 473 Cc - Six Pack Cartón   \n",
       "218              Limonada Jugo Citric Con Pulpa 500 mL   \n",
       "219                Caramelos Flyn Paff Frutilla 144 Gr   \n",
       "220                      Queso Azul Bavaria Horma 1 Kg   \n",
       "221      Queso Rallado La Serenisima Reggianito X40Gr.   \n",
       "222  Obleas Bon O Bon Bañadas En Chocolate Blanco 3...   \n",
       "223         Champaña Nieto Senetiner Extra Brut 750 Cc   \n",
       "224                        Aceite De Maíz Cocinero 1 L   \n",
       "225                     Vino Tinto Suter Malbec 750 Cc   \n",
       "226                              Chocolate Amargo Munz   \n",
       "227                        Chupetines Mr Pop´S Arquito   \n",
       "228                    Vino Tinto Callia Malbec 750 mL   \n",
       "229  Agua Saborizada Awafrut Sabor Naranja Durazno ...   \n",
       "230                   Jugo en Polvo Verao Naranja 10 g   \n",
       "231                           Pan Rallado Jumbo 500 Gr   \n",
       "232                     Chocolate Kinder Relleno 50 Gr   \n",
       "233                   Aimé Espumante Extra Brut 750 Ml   \n",
       "234              Vino Tinto Malbec Fond de Cave 750 mL   \n",
       "235       Cerveza Rubia Quilmes Clásica Retornable 1 L   \n",
       "236                     SALSA P/CARNES PICANTE A1 284G   \n",
       "237                         Whisky Old Smuggler 750 Ml   \n",
       "238                Queso Brie Wapi Leche de Vaca 100 g   \n",
       "239                     Jamn Cocido Natural L«Abratto   \n",
       "\n",
       "                                           description  \\\n",
       "180                     Seremix Licuado Durazno 250 Ml   \n",
       "181           Champaa Chandon Extra Brut 187 Cc - 4 U   \n",
       "182                    Vino Santa Ana Abocado   750 Cc   \n",
       "183  Huevo De Pascua Bon O Bon Chocolate Blanco Paq...   \n",
       "184  Vino Tinto Chapa Uno Roble Cabarnet Sauvignon ...   \n",
       "185                 Vino Tinto La Vuelta Malbec 750 Cc   \n",
       "186                  Salsa Mangos Chutney Darma 250 Gr   \n",
       "187  Aceto Balsamico Casalta Glaze Frutos Rojos 250 Ml   \n",
       "188                Vino Tinto La Posta Glorieta 750 mL   \n",
       "189   Huevo Kinder Pascuas Star Wars X100G-Paq-Gr.-100   \n",
       "190                        Aceto Balsámico Lira 250 Ml   \n",
       "191  Vino Tinto Lurton Malbec Tierra De Luna Alta 7...   \n",
       "192            Jugo Arcor en Polvo Sabor Maznzana 20 g   \n",
       "193      Agua H2Oh! Saborizada Con Gas Limoneto 500 mL   \n",
       "194                Cerveza Quilmes Clásica Lata 473 mL   \n",
       "195          Queso Rosenborg Azul Extra Cremoso 100 Gr   \n",
       "196               Cerveza Isenbeck Premium Lata 473 mL   \n",
       "197                              Vino Ruca Blend 750Ml   \n",
       "198               Vino Ampakama Malbec Merlot X 750 Ml   \n",
       "199        CHOCOLATE RITTER SPORT CON ALMENDRAS 100 GR   \n",
       "200     Vino Esquinas Dulce Natural Sauvignon Blanco X   \n",
       "201         Vino Tinto Trumpeter Reserve Malbec 750 mL   \n",
       "202                       Aceite Costa Del Sol X900Ml.   \n",
       "203  Vino Tinto San Felipe Cabernet Sauvignon Roble...   \n",
       "204                      Bombn Praline Guylian 65 Gr.   \n",
       "205                 Vino Cafayate Rutas Elegante 750Ml   \n",
       "206            Vino Toro Viejo Tinto Clásico X 1125 Cc   \n",
       "207    Vino Tinto San Huberto Centenario Malbec 750 Cc   \n",
       "208                    Confites Rocklet´S De Chocolate   \n",
       "209    Queso La Serenisima En Hebras Mozzarella 150 Gr   \n",
       "210                Vino Tinto Goyenechea Malbec 750 mL   \n",
       "211                Choc. Ghirardelli Negro Toffee 100G   \n",
       "212                        Cerveza Brahma Chopp 354 Ml   \n",
       "213                      Salsa Casalta Barbacoa 290 Gr   \n",
       "214        Jugo Puro Sol - Multifrutas Con Pulpa X 1Lt   \n",
       "215  Agua Saborizada Villa Del Sur Levite Naranja 5...   \n",
       "216               Yogurt Entero Tregar Vainilla 125 Gr   \n",
       "217     Cerveza Heineken Lata 473 Cc - Six Pack Cartón   \n",
       "218              Limonada Jugo Citric Con Pulpa 500 mL   \n",
       "219                Caramelos Flyn Paff Frutilla 144 Gr   \n",
       "220                      Queso Azul Bavaria Horma 1 Kg   \n",
       "221      Queso Rallado La Serenisima Reggianito X40Gr.   \n",
       "222  Obleas Bon O Bon Bañadas En Chocolate Blanco 3...   \n",
       "223         Champaña Nieto Senetiner Extra Brut 750 Cc   \n",
       "224                        Aceite De Maíz Cocinero 1 L   \n",
       "225                     Vino Tinto Suter Malbec 750 Cc   \n",
       "226                              Chocolate Amargo Munz   \n",
       "227                        Chupetines Mr Pop´S Arquito   \n",
       "228                    Vino Tinto Callia Malbec 750 mL   \n",
       "229  Agua Saborizada Awafrut Sabor Naranja Durazno ...   \n",
       "230                   Jugo en Polvo Verao Naranja 10 g   \n",
       "231                           Pan Rallado Jumbo 500 Gr   \n",
       "232                     Chocolate Kinder Relleno 50 Gr   \n",
       "233                   Aimé Espumante Extra Brut 750 Ml   \n",
       "234              Vino Tinto Malbec Fond de Cave 750 mL   \n",
       "235       Cerveza Rubia Quilmes Clásica Retornable 1 L   \n",
       "236                            SALSA PARA CARNE 142 GR   \n",
       "237                         Whisky Old Smuggler 750 Ml   \n",
       "238                Queso Brie Wapi Leche de Vaca 100 g   \n",
       "239            Jamn Cocido Natural L«Abratto-Pza-Kg-1   \n",
       "\n",
       "                             maker          trademark               categoria  \n",
       "180                            NaN      La Serenisima                Aderezos  \n",
       "181                   Moet Chandon       Moet Chandon                  Quesos  \n",
       "182                            NaN          Santa Ana                   Vinos  \n",
       "183                            NaN          Bon O Bon                Aderezos  \n",
       "184                            NaN          Chapa Uno                   Vinos  \n",
       "185                            NaN          La Vuelta  Golosinas y Chocolates  \n",
       "186                            NaN             Darama                 Yogures  \n",
       "187                            NaN            Casalta                Aderezos  \n",
       "188              La Posta Glorieta  La Posta Glorieta                   Vinos  \n",
       "189                            NaN             Kinder                Aderezos  \n",
       "190                            NaN               Lira                Aderezos  \n",
       "191                            NaN             Lurton  Golosinas y Chocolates  \n",
       "192                    Grupo Arcor              Arcor                   Aguas  \n",
       "193                        Pepsico              H2Oh!                Cervezas  \n",
       "194  Cervecería y Maltería Quilmes            Quilmes                  Quesos  \n",
       "195                            NaN          Rosenborg                Cervezas  \n",
       "196                       Isenbeck           Isenbeck                  Quesos  \n",
       "197                            NaN         Ruca Malen                   Jugos  \n",
       "198                       Ampakama           Ampakama  Golosinas y Chocolates  \n",
       "199                            NaN       RITTER SPORT                Aderezos  \n",
       "200                            NaN           Esquinas  Golosinas y Chocolates  \n",
       "201                   Rutini Wines  Trumpeter Reserve  Golosinas y Chocolates  \n",
       "202                            NaN         La Gallega                   Jugos  \n",
       "203                            NaN         San Felipe                   Vinos  \n",
       "204                        Guylian            Guylian                   Jugos  \n",
       "205                            NaN           Cafayate                   Jugos  \n",
       "206                            NaN         Toro Viejo                   Vinos  \n",
       "207                            NaN        San Huberto  Golosinas y Chocolates  \n",
       "208                            NaN          Rocklet´S                Aderezos  \n",
       "209                            NaN      La Serenisima                Cervezas  \n",
       "210                     Goyenechea         Goyenechea  Golosinas y Chocolates  \n",
       "211                            NaN        Ghirardelli                   Jugos  \n",
       "212                            NaN             Brahma                  Quesos  \n",
       "213                            NaN            Casalta                 Yogures  \n",
       "214                            NaN           Puro Sol                   Aguas  \n",
       "215                         Danone      Villa Del Sur                Cervezas  \n",
       "216                            NaN             Tregar                Aderezos  \n",
       "217                            NaN           Heineken                  Quesos  \n",
       "218                   Jugo Citric        Jugo Citric                   Leches  \n",
       "219                      Georgalos          Georgalos      Aceites y Vinagres  \n",
       "220                    \\t\\tMilkaut            Bavaria  Golosinas y Chocolates  \n",
       "221                            NaN         La Gallega                Cervezas  \n",
       "222                            NaN          Bon O Bon                Aderezos  \n",
       "223                            NaN  Nieto & Senetiner                  Quesos  \n",
       "224                            NaN           Cocinero                   Jugos  \n",
       "225                            NaN              Suter  Golosinas y Chocolates  \n",
       "226                            NaN               Munz                Aderezos  \n",
       "227                            NaN           Mr Pop´S                   Jugos  \n",
       "228                 Bodegas Callia             Callia  Golosinas y Chocolates  \n",
       "229                   Pureza Vital             Nestlé                Cervezas  \n",
       "230                        Suchard              Verao                   Aguas  \n",
       "231                            NaN           Jumbo Mp             Panificados  \n",
       "232                            NaN             Kinder                Aderezos  \n",
       "233                            NaN               Aimé                  Quesos  \n",
       "234                   Viña Ocucaje        Fond de Cav  Golosinas y Chocolates  \n",
       "235  Cervecería y Maltería Quilmes            Quilmes                  Quesos  \n",
       "236                            NaN          SIN MARCA                 Yogures  \n",
       "237                            NaN       Old Smuggler                Whiskies  \n",
       "238          Lácteos Artesanales\\t              Wapi                 Cervezas  \n",
       "239                      L«Abratto          L«Abratto                   Jugos  "
      ]
     },
     "execution_count": 214,
     "metadata": {},
     "output_type": "execute_result"
    }
   ],
   "source": [
    "# Evaluar cualitativamente (a ojo) como fue el rendimiento del clasificador por cada etiqueta\n",
    "data_test[180:240]"
   ]
  },
  {
   "cell_type": "code",
   "execution_count": null,
   "metadata": {},
   "outputs": [],
   "source": []
  }
 ],
 "metadata": {
  "colab": {
   "collapsed_sections": [],
   "name": "Solution.ipynb",
   "provenance": [],
   "toc_visible": true
  },
  "kernelspec": {
   "display_name": "Python 3",
   "language": "python",
   "name": "python3"
  },
  "language_info": {
   "codemirror_mode": {
    "name": "ipython",
    "version": 3
   },
   "file_extension": ".py",
   "mimetype": "text/x-python",
   "name": "python",
   "nbconvert_exporter": "python",
   "pygments_lexer": "ipython3",
   "version": "3.9.5"
  }
 },
 "nbformat": 4,
 "nbformat_minor": 1
}
