{
  "nbformat": 4,
  "nbformat_minor": 0,
  "metadata": {
    "colab": {
      "name": "busqueda.ipynb",
      "provenance": [],
      "collapsed_sections": []
    }
  },
  "cells": [
    {
      "cell_type": "markdown",
      "metadata": {
        "id": "VyFnacNuc8J8"
      },
      "source": [
        "# Taller de búsqueda de hiperparámetros\n",
        "\n",
        "En este taller vamos a explorar la búsqueda de hiperparámetros de manera automática. "
      ]
    },
    {
      "cell_type": "code",
      "metadata": {
        "id": "WwuqBvU5c2UP"
      },
      "source": [
        "import time\n",
        "import numpy as np\n",
        "\n",
        "from sklearn.datasets import load_breast_cancer\n",
        "from sklearn.metrics import f1_score, accuracy_score\n",
        "from sklearn.model_selection import GridSearchCV, RandomizedSearchCV\n",
        "from sklearn.model_selection import train_test_split\n",
        "from sklearn.tree import DecisionTreeClassifier"
      ],
      "execution_count": null,
      "outputs": []
    },
    {
      "cell_type": "code",
      "metadata": {
        "id": "mdcApIzGfkA-"
      },
      "source": [
        "X, y = load_breast_cancer(return_X_y=True)"
      ],
      "execution_count": null,
      "outputs": []
    },
    {
      "cell_type": "code",
      "metadata": {
        "id": "MOXrwdU2go2t"
      },
      "source": [
        "test_size=0.25\n",
        "X_train, X_test, y_train, y_test = train_test_split(X, y, test_size=test_size)"
      ],
      "execution_count": null,
      "outputs": []
    },
    {
      "cell_type": "markdown",
      "metadata": {
        "id": "mflmNCKwiiC6"
      },
      "source": [
        "**Ejemplo 1:** encuentra los mejores hiperparámetros usando `GridSearchCV`"
      ]
    },
    {
      "cell_type": "code",
      "metadata": {
        "id": "Fil-25CXgq6v",
        "colab": {
          "base_uri": "https://localhost:8080/",
          "height": 35
        },
        "outputId": "aaac4cba-c04f-42c0-98a6-54ecf94a53c7"
      },
      "source": [
        "clf = DecisionTreeClassifier()\n",
        "\n",
        "# define los valores que usarás en la búsqueda del\n",
        "# hiperparametro C\n",
        "param_grid = {\n",
        "    \"max_depth\": (3, 6, 12, 18),\n",
        "    \"min_samples_leaf\": (1, 2, 3),\n",
        "    \"criterion\": [\"gini\", \"entropy\"]\n",
        "}\n",
        "\n",
        "gs = GridSearchCV(clf, param_grid, scoring='f1', cv=8)\n",
        "\n",
        "t0 = time.time()\n",
        "gs.fit(X_train, y_train)\n",
        "print(\"Tiempo de búsqueda: {:.3f}s\".format(time.time() - t0))"
      ],
      "execution_count": null,
      "outputs": [
        {
          "output_type": "stream",
          "text": [
            "Tiempo de búsqueda: 1.558s\n"
          ],
          "name": "stdout"
        }
      ]
    },
    {
      "cell_type": "markdown",
      "metadata": {
        "id": "tteRejCFKQFr"
      },
      "source": [
        "podemos ver que el atributo `cv_results_` nos entrega los resultados de toda la búsqueda."
      ]
    },
    {
      "cell_type": "code",
      "metadata": {
        "id": "dqaewB2WIAXK",
        "colab": {
          "base_uri": "https://localhost:8080/",
          "height": 3365
        },
        "outputId": "37cbb357-4123-48e9-c74f-4ec232e50396"
      },
      "source": [
        "gs.cv_results_"
      ],
      "execution_count": null,
      "outputs": [
        {
          "output_type": "stream",
          "text": [
            "/usr/local/lib/python2.7/dist-packages/sklearn/utils/deprecation.py:122: FutureWarning: You are accessing a training score ('mean_train_score'), which will not be available by default any more in 0.21. If you need training scores, please set return_train_score=True\n",
            "  warnings.warn(*warn_args, **warn_kwargs)\n",
            "/usr/local/lib/python2.7/dist-packages/sklearn/utils/deprecation.py:122: FutureWarning: You are accessing a training score ('split0_train_score'), which will not be available by default any more in 0.21. If you need training scores, please set return_train_score=True\n",
            "  warnings.warn(*warn_args, **warn_kwargs)\n",
            "/usr/local/lib/python2.7/dist-packages/sklearn/utils/deprecation.py:122: FutureWarning: You are accessing a training score ('split1_train_score'), which will not be available by default any more in 0.21. If you need training scores, please set return_train_score=True\n",
            "  warnings.warn(*warn_args, **warn_kwargs)\n",
            "/usr/local/lib/python2.7/dist-packages/sklearn/utils/deprecation.py:122: FutureWarning: You are accessing a training score ('split2_train_score'), which will not be available by default any more in 0.21. If you need training scores, please set return_train_score=True\n",
            "  warnings.warn(*warn_args, **warn_kwargs)\n",
            "/usr/local/lib/python2.7/dist-packages/sklearn/utils/deprecation.py:122: FutureWarning: You are accessing a training score ('split3_train_score'), which will not be available by default any more in 0.21. If you need training scores, please set return_train_score=True\n",
            "  warnings.warn(*warn_args, **warn_kwargs)\n",
            "/usr/local/lib/python2.7/dist-packages/sklearn/utils/deprecation.py:122: FutureWarning: You are accessing a training score ('split4_train_score'), which will not be available by default any more in 0.21. If you need training scores, please set return_train_score=True\n",
            "  warnings.warn(*warn_args, **warn_kwargs)\n",
            "/usr/local/lib/python2.7/dist-packages/sklearn/utils/deprecation.py:122: FutureWarning: You are accessing a training score ('split5_train_score'), which will not be available by default any more in 0.21. If you need training scores, please set return_train_score=True\n",
            "  warnings.warn(*warn_args, **warn_kwargs)\n",
            "/usr/local/lib/python2.7/dist-packages/sklearn/utils/deprecation.py:122: FutureWarning: You are accessing a training score ('split6_train_score'), which will not be available by default any more in 0.21. If you need training scores, please set return_train_score=True\n",
            "  warnings.warn(*warn_args, **warn_kwargs)\n",
            "/usr/local/lib/python2.7/dist-packages/sklearn/utils/deprecation.py:122: FutureWarning: You are accessing a training score ('split7_train_score'), which will not be available by default any more in 0.21. If you need training scores, please set return_train_score=True\n",
            "  warnings.warn(*warn_args, **warn_kwargs)\n",
            "/usr/local/lib/python2.7/dist-packages/sklearn/utils/deprecation.py:122: FutureWarning: You are accessing a training score ('std_train_score'), which will not be available by default any more in 0.21. If you need training scores, please set return_train_score=True\n",
            "  warnings.warn(*warn_args, **warn_kwargs)\n"
          ],
          "name": "stderr"
        },
        {
          "output_type": "execute_result",
          "data": {
            "text/plain": [
              "{'mean_fit_time': array([0.00334531, 0.00325891, 0.00324371, 0.0051921 , 0.00502348,\n",
              "        0.00494787, 0.0055778 , 0.00521228, 0.00492683, 0.00556526,\n",
              "        0.00524962, 0.00494587, 0.00611812, 0.00609088, 0.00607732,\n",
              "        0.0081071 , 0.00797057, 0.0079211 , 0.00811949, 0.00798762,\n",
              "        0.0079436 , 0.00811273, 0.00800294, 0.00790957]),\n",
              " 'mean_score_time': array([0.00048876, 0.00044215, 0.00044364, 0.00044873, 0.00044391,\n",
              "        0.0004538 , 0.00043577, 0.00048253, 0.0004499 , 0.000442  ,\n",
              "        0.00044426, 0.00045928, 0.00044927, 0.00044411, 0.00044578,\n",
              "        0.00044569, 0.00043899, 0.0004355 , 0.00044963, 0.00044626,\n",
              "        0.00046128, 0.00045091, 0.0004411 , 0.00043598]),\n",
              " 'mean_test_score': array([0.95240514, 0.95034258, 0.95431667, 0.95958765, 0.95147795,\n",
              "        0.95180545, 0.9439244 , 0.93364287, 0.9556671 , 0.95174477,\n",
              "        0.93918121, 0.95393275, 0.9344567 , 0.93669364, 0.93665825,\n",
              "        0.93525087, 0.94874553, 0.94100992, 0.94486212, 0.94864474,\n",
              "        0.94438951, 0.94478977, 0.94834803, 0.94260053]),\n",
              " 'mean_train_score': array([0.97687684, 0.97444358, 0.97449902, 0.9965363 , 0.99112311,\n",
              "        0.98453444, 1.        , 0.99108706, 0.98453444, 1.        ,\n",
              "        0.99108706, 0.98453444, 0.97385433, 0.97332599, 0.97143315,\n",
              "        0.99866737, 0.99410203, 0.98819377, 1.        , 0.9954277 ,\n",
              "        0.98870479, 1.        , 0.99515888, 0.98871751]),\n",
              " 'param_criterion': masked_array(data=['gini', 'gini', 'gini', 'gini', 'gini', 'gini', 'gini',\n",
              "                    'gini', 'gini', 'gini', 'gini', 'gini', 'entropy',\n",
              "                    'entropy', 'entropy', 'entropy', 'entropy', 'entropy',\n",
              "                    'entropy', 'entropy', 'entropy', 'entropy', 'entropy',\n",
              "                    'entropy'],\n",
              "              mask=[False, False, False, False, False, False, False, False,\n",
              "                    False, False, False, False, False, False, False, False,\n",
              "                    False, False, False, False, False, False, False, False],\n",
              "        fill_value='?',\n",
              "             dtype=object),\n",
              " 'param_max_depth': masked_array(data=[3, 3, 3, 6, 6, 6, 12, 12, 12, 18, 18, 18, 3, 3, 3, 6,\n",
              "                    6, 6, 12, 12, 12, 18, 18, 18],\n",
              "              mask=[False, False, False, False, False, False, False, False,\n",
              "                    False, False, False, False, False, False, False, False,\n",
              "                    False, False, False, False, False, False, False, False],\n",
              "        fill_value='?',\n",
              "             dtype=object),\n",
              " 'param_min_samples_leaf': masked_array(data=[1, 2, 3, 1, 2, 3, 1, 2, 3, 1, 2, 3, 1, 2, 3, 1, 2, 3,\n",
              "                    1, 2, 3, 1, 2, 3],\n",
              "              mask=[False, False, False, False, False, False, False, False,\n",
              "                    False, False, False, False, False, False, False, False,\n",
              "                    False, False, False, False, False, False, False, False],\n",
              "        fill_value='?',\n",
              "             dtype=object),\n",
              " 'params': [{'criterion': 'gini', 'max_depth': 3, 'min_samples_leaf': 1},\n",
              "  {'criterion': 'gini', 'max_depth': 3, 'min_samples_leaf': 2},\n",
              "  {'criterion': 'gini', 'max_depth': 3, 'min_samples_leaf': 3},\n",
              "  {'criterion': 'gini', 'max_depth': 6, 'min_samples_leaf': 1},\n",
              "  {'criterion': 'gini', 'max_depth': 6, 'min_samples_leaf': 2},\n",
              "  {'criterion': 'gini', 'max_depth': 6, 'min_samples_leaf': 3},\n",
              "  {'criterion': 'gini', 'max_depth': 12, 'min_samples_leaf': 1},\n",
              "  {'criterion': 'gini', 'max_depth': 12, 'min_samples_leaf': 2},\n",
              "  {'criterion': 'gini', 'max_depth': 12, 'min_samples_leaf': 3},\n",
              "  {'criterion': 'gini', 'max_depth': 18, 'min_samples_leaf': 1},\n",
              "  {'criterion': 'gini', 'max_depth': 18, 'min_samples_leaf': 2},\n",
              "  {'criterion': 'gini', 'max_depth': 18, 'min_samples_leaf': 3},\n",
              "  {'criterion': 'entropy', 'max_depth': 3, 'min_samples_leaf': 1},\n",
              "  {'criterion': 'entropy', 'max_depth': 3, 'min_samples_leaf': 2},\n",
              "  {'criterion': 'entropy', 'max_depth': 3, 'min_samples_leaf': 3},\n",
              "  {'criterion': 'entropy', 'max_depth': 6, 'min_samples_leaf': 1},\n",
              "  {'criterion': 'entropy', 'max_depth': 6, 'min_samples_leaf': 2},\n",
              "  {'criterion': 'entropy', 'max_depth': 6, 'min_samples_leaf': 3},\n",
              "  {'criterion': 'entropy', 'max_depth': 12, 'min_samples_leaf': 1},\n",
              "  {'criterion': 'entropy', 'max_depth': 12, 'min_samples_leaf': 2},\n",
              "  {'criterion': 'entropy', 'max_depth': 12, 'min_samples_leaf': 3},\n",
              "  {'criterion': 'entropy', 'max_depth': 18, 'min_samples_leaf': 1},\n",
              "  {'criterion': 'entropy', 'max_depth': 18, 'min_samples_leaf': 2},\n",
              "  {'criterion': 'entropy', 'max_depth': 18, 'min_samples_leaf': 3}],\n",
              " 'rank_test_score': array([ 5,  9,  3,  1,  8,  6, 16, 24,  2,  7, 19,  4, 23, 20, 21, 22, 10,\n",
              "        18, 13, 11, 15, 14, 12, 17], dtype=int32),\n",
              " 'split0_test_score': array([0.90410959, 0.90410959, 0.90410959, 0.90410959, 0.90410959,\n",
              "        0.90410959, 0.90410959, 0.90410959, 0.90410959, 0.90410959,\n",
              "        0.91891892, 0.90410959, 0.91891892, 0.91891892, 0.91891892,\n",
              "        0.95774648, 0.95774648, 0.95774648, 0.95774648, 0.95774648,\n",
              "        0.95774648, 0.95774648, 0.95774648, 0.95774648]),\n",
              " 'split0_train_score': array([0.98283262, 0.97844828, 0.97854077, 0.9957265 , 0.99357602,\n",
              "        0.98712446, 1.        , 0.99354839, 0.98712446, 1.        ,\n",
              "        0.99354839, 0.98712446, 0.98520085, 0.98520085, 0.98520085,\n",
              "        1.        , 0.99784946, 0.99360341, 1.        , 0.99784946,\n",
              "        0.99360341, 1.        , 0.99784946, 0.99360341]),\n",
              " 'split1_test_score': array([0.95652174, 0.95652174, 0.95652174, 0.95522388, 0.95652174,\n",
              "        0.95652174, 0.94117647, 0.94117647, 0.97142857, 0.95652174,\n",
              "        0.95652174, 0.95774648, 0.97058824, 0.97058824, 0.95652174,\n",
              "        0.96969697, 0.95522388, 0.95522388, 0.96969697, 0.98507463,\n",
              "        0.97058824, 0.96969697, 0.96969697, 0.96969697]),\n",
              " 'split1_train_score': array([0.98305085, 0.98089172, 0.98089172, 0.99785867, 0.98706897,\n",
              "        0.98723404, 1.        , 0.98701299, 0.98723404, 1.        ,\n",
              "        0.98701299, 0.98723404, 0.97033898, 0.97033898, 0.96595745,\n",
              "        0.9957265 , 0.99360341, 0.98924731, 1.        , 1.        ,\n",
              "        0.98701299, 1.        , 0.99784946, 0.99354839]),\n",
              " 'split2_test_score': array([0.94117647, 0.94117647, 0.94117647, 0.95652174, 0.92537313,\n",
              "        0.94117647, 0.92537313, 0.92537313, 0.94117647, 0.94117647,\n",
              "        0.90909091, 0.94117647, 0.90909091, 0.90909091, 0.90909091,\n",
              "        0.88235294, 0.89230769, 0.90909091, 0.90909091, 0.90909091,\n",
              "        0.90909091, 0.89230769, 0.90909091, 0.90909091]),\n",
              " 'split2_train_score': array([0.97881356, 0.97664544, 0.97664544, 0.99785867, 0.98701299,\n",
              "        0.98283262, 1.        , 0.98695652, 0.98283262, 1.        ,\n",
              "        0.98695652, 0.98283262, 0.98081023, 0.9787234 , 0.9787234 ,\n",
              "        1.        , 0.99354839, 0.99357602, 1.        , 0.99570815,\n",
              "        0.99357602, 1.        , 0.99570815, 0.99357602]),\n",
              " 'split3_test_score': array([0.95522388, 0.95522388, 0.97058824, 0.98461538, 1.        ,\n",
              "        0.95384615, 0.96969697, 0.96969697, 0.96969697, 0.96969697,\n",
              "        0.95384615, 0.96969697, 0.8852459 , 0.90322581, 0.90322581,\n",
              "        0.90322581, 0.92063492, 0.90625   , 0.91803279, 0.92063492,\n",
              "        0.93548387, 0.92063492, 0.92063492, 0.92063492]),\n",
              " 'split3_train_score': array([0.96868476, 0.96868476, 0.97083333, 0.99574468, 0.9957265 ,\n",
              "        0.98507463, 1.        , 0.99570815, 0.98507463, 1.        ,\n",
              "        0.99570815, 0.98507463, 0.96296296, 0.96296296, 0.96296296,\n",
              "        1.        , 0.99357602, 0.98717949, 1.        , 0.99357602,\n",
              "        0.98717949, 1.        , 0.99357602, 0.98717949]),\n",
              " 'split4_test_score': array([0.96969697, 0.96969697, 0.96969697, 0.96969697, 0.9375    ,\n",
              "        0.96969697, 0.96969697, 0.9375    , 0.96969697, 0.95384615,\n",
              "        0.95238095, 0.96969697, 0.94117647, 0.95522388, 0.95522388,\n",
              "        0.95522388, 0.95522388, 0.95522388, 0.9375    , 0.96969697,\n",
              "        0.9375    , 0.96969697, 0.96969697, 0.9375    ]),\n",
              " 'split4_train_score': array([0.975     , 0.9707113 , 0.97083333, 0.99574468, 0.98924731,\n",
              "        0.985138  , 1.        , 0.98920086, 0.985138  , 1.        ,\n",
              "        0.98920086, 0.985138  , 0.975     , 0.97286013, 0.97286013,\n",
              "        0.99574468, 0.99360341, 0.98929336, 1.        , 0.99785867,\n",
              "        0.99137931, 1.        , 0.99785867, 0.99137931]),\n",
              " 'split5_test_score': array([0.97058824, 0.97058824, 0.97058824, 0.97058824, 0.98507463,\n",
              "        0.96969697, 0.95522388, 0.97058824, 0.96969697, 0.98507463,\n",
              "        0.98507463, 0.96969697, 0.93939394, 0.93939394, 0.93939394,\n",
              "        0.96969697, 0.98507463, 0.96969697, 0.97058824, 0.96969697,\n",
              "        0.96969697, 0.96969697, 0.98507463, 0.96969697]),\n",
              " 'split5_train_score': array([0.9748954 , 0.9748954 , 0.97274633, 0.9978678 , 0.99570815,\n",
              "        0.98501071, 1.        , 0.99570815, 0.98501071, 1.        ,\n",
              "        0.99570815, 0.98501071, 0.97674419, 0.97674419, 0.97457627,\n",
              "        1.        , 0.99570815, 0.98501071, 1.        , 0.99570815,\n",
              "        0.98924731, 1.        , 0.99570815, 0.98501071]),\n",
              " 'split6_test_score': array([0.97058824, 0.97058824, 0.97058824, 0.98461538, 0.96875   ,\n",
              "        0.98461538, 0.96875   , 0.92063492, 0.98461538, 0.96875   ,\n",
              "        0.9375    , 0.98461538, 0.95522388, 0.94117647, 0.95522388,\n",
              "        0.92307692, 0.95522388, 0.95384615, 0.94117647, 0.93939394,\n",
              "        0.95384615, 0.94117647, 0.95384615, 0.95522388]),\n",
              " 'split6_train_score': array([0.9748954 , 0.97058824, 0.9707113 , 0.99574468, 0.99357602,\n",
              "        0.98081023, 1.        , 0.99354839, 0.98081023, 1.        ,\n",
              "        0.99354839, 0.98081023, 0.97083333, 0.97083333, 0.9665272 ,\n",
              "        1.        , 0.98920086, 0.98275862, 1.        , 0.98701299,\n",
              "        0.98275862, 1.        , 0.98701299, 0.98056156]),\n",
              " 'split7_test_score': array([0.95238095, 0.93548387, 0.95238095, 0.95238095, 0.93548387,\n",
              "        0.93548387, 0.91803279, 0.9       , 0.93548387, 0.93548387,\n",
              "        0.9       , 0.93548387, 0.95652174, 0.95652174, 0.95652174,\n",
              "        0.92063492, 0.96969697, 0.92063492, 0.95522388, 0.9375    ,\n",
              "        0.92063492, 0.9375    , 0.92063492, 0.92063492]),\n",
              " 'split7_train_score': array([0.97684211, 0.97468354, 0.97478992, 0.99574468, 0.98706897,\n",
              "        0.98305085, 1.        , 0.98701299, 0.98305085, 1.        ,\n",
              "        0.98701299, 0.98305085, 0.9689441 , 0.9689441 , 0.96465696,\n",
              "        0.9978678 , 0.9957265 , 0.98488121, 1.        , 0.99570815,\n",
              "        0.98488121, 1.        , 0.99570815, 0.98488121]),\n",
              " 'std_fit_time': array([1.97792165e-04, 6.93554726e-05, 5.79157741e-05, 1.36303390e-04,\n",
              "        2.45298540e-04, 1.97563331e-04, 2.72782218e-04, 4.83339727e-04,\n",
              "        1.75724033e-04, 2.86647083e-04, 6.51054144e-04, 2.03733245e-04,\n",
              "        2.34449997e-04, 2.24872234e-04, 2.15241226e-04, 4.76243901e-04,\n",
              "        4.60400845e-04, 4.30430278e-04, 4.61099127e-04, 4.49745243e-04,\n",
              "        4.61966843e-04, 4.76207045e-04, 4.39564446e-04, 4.41685563e-04]),\n",
              " 'std_score_time': array([1.21328003e-04, 1.02145042e-05, 1.33768281e-05, 1.20019765e-05,\n",
              "        1.26386797e-05, 3.31691012e-05, 1.32186655e-05, 7.46653220e-05,\n",
              "        1.22420453e-05, 1.55088663e-05, 1.45317725e-05, 8.32754963e-06,\n",
              "        1.08329290e-05, 9.65650433e-06, 1.12958272e-05, 1.69079530e-05,\n",
              "        1.28866014e-05, 1.00659081e-05, 1.73998352e-05, 1.63259070e-05,\n",
              "        2.85684136e-05, 2.93130650e-05, 1.17276967e-05, 1.07704373e-05]),\n",
              " 'std_test_score': array([0.02083871, 0.02156266, 0.02169662, 0.02416035, 0.03000039,\n",
              "        0.02349731, 0.02419078, 0.02488033, 0.02495016, 0.02349024,\n",
              "        0.02651692, 0.02426026, 0.02647029, 0.02270968, 0.02145125,\n",
              "        0.03063688, 0.02731098, 0.02322244, 0.02132743, 0.02471321,\n",
              "        0.02104812, 0.02615585, 0.02611329, 0.02231185]),\n",
              " 'std_train_score': array([0.00441343, 0.00394784, 0.00364327, 0.00102669, 0.00366625,\n",
              "        0.00205688, 0.        , 0.00368511, 0.00205688, 0.        ,\n",
              "        0.00368511, 0.00205688, 0.0066239 , 0.00636174, 0.00730004,\n",
              "        0.00182721, 0.00235488, 0.00374544, 0.        , 0.00365979,\n",
              "        0.00371379, 0.        , 0.00338256, 0.00468031])}"
            ]
          },
          "metadata": {
            "tags": []
          },
          "execution_count": 5
        }
      ]
    },
    {
      "cell_type": "markdown",
      "metadata": {
        "id": "m2txTbC3PwLd"
      },
      "source": [
        "Lo más importante es extraer los hiperparámetros del modelo que mejor error en de validación sacaron"
      ]
    },
    {
      "cell_type": "code",
      "metadata": {
        "id": "KZ6IrAW2I8Dk",
        "colab": {
          "base_uri": "https://localhost:8080/",
          "height": 35
        },
        "outputId": "34fe25ec-c914-4158-82b6-8b2c97cd90a6"
      },
      "source": [
        "gs.best_params_"
      ],
      "execution_count": null,
      "outputs": [
        {
          "output_type": "execute_result",
          "data": {
            "text/plain": [
              "{'criterion': 'gini', 'max_depth': 6, 'min_samples_leaf': 1}"
            ]
          },
          "metadata": {
            "tags": []
          },
          "execution_count": 6
        }
      ]
    },
    {
      "cell_type": "markdown",
      "metadata": {
        "id": "vfBKTWK2P7J_"
      },
      "source": [
        "También es posible el mejor resultado en la métrica usada"
      ]
    },
    {
      "cell_type": "code",
      "metadata": {
        "id": "rU8hoyPLPQS3",
        "colab": {
          "base_uri": "https://localhost:8080/",
          "height": 35
        },
        "outputId": "48005761-8898-4918-ca1f-3fd1b8eb162b"
      },
      "source": [
        "gs.best_score_"
      ],
      "execution_count": null,
      "outputs": [
        {
          "output_type": "execute_result",
          "data": {
            "text/plain": [
              "0.9595876465518061"
            ]
          },
          "metadata": {
            "tags": []
          },
          "execution_count": 7
        }
      ]
    },
    {
      "cell_type": "markdown",
      "metadata": {
        "id": "jyAy8u0VQMqm"
      },
      "source": [
        "Finalmente, es posible extraer directamente un estimador que que ha sido creado con los mejores hiperparámetros."
      ]
    },
    {
      "cell_type": "code",
      "metadata": {
        "id": "HSuzVLYWPS9q",
        "colab": {
          "base_uri": "https://localhost:8080/",
          "height": 119
        },
        "outputId": "0cd6e22a-f9ff-4eff-cd0d-4f796ede219e"
      },
      "source": [
        "gs.best_estimator_"
      ],
      "execution_count": null,
      "outputs": [
        {
          "output_type": "execute_result",
          "data": {
            "text/plain": [
              "DecisionTreeClassifier(class_weight=None, criterion='entropy', max_depth=6,\n",
              "            max_features=None, max_leaf_nodes=None,\n",
              "            min_impurity_decrease=0.0, min_impurity_split=None,\n",
              "            min_samples_leaf=1, min_samples_split=2,\n",
              "            min_weight_fraction_leaf=0.0, presort=False, random_state=None,\n",
              "            splitter='best')"
            ]
          },
          "metadata": {
            "tags": []
          },
          "execution_count": 8
        }
      ]
    },
    {
      "cell_type": "markdown",
      "metadata": {
        "id": "9UxIKGE1QWh0"
      },
      "source": [
        "**Ejemplo 2:** la clase `RandomizedSearchCV` se puede usar casi de la misma manera, solo que esta vez se debe escoger un número de combinaciones a evaluar; las cuales se escogeran de manera aleatoria.\n",
        "\n",
        "\n"
      ]
    },
    {
      "cell_type": "code",
      "metadata": {
        "id": "9-SVjssQPmKc",
        "colab": {
          "base_uri": "https://localhost:8080/",
          "height": 35
        },
        "outputId": "796590ff-8fe4-4cd1-bc36-b84c5c8e7890"
      },
      "source": [
        "clf = DecisionTreeClassifier()\n",
        "\n",
        "# define los valores que usarás en la búsqueda del\n",
        "# hiperparametro C\n",
        "param_dist = {\n",
        "    \"max_depth\": (3, 6, 12, 18),\n",
        "    \"min_samples_leaf\": (1, 2, 3),\n",
        "    \"criterion\": [\"gini\", \"entropy\"]\n",
        "}\n",
        "\n",
        "rs = RandomizedSearchCV(clf, param_dist, scoring='f1', cv=8, n_iter=5)\n",
        "\n",
        "t0 = time.time()\n",
        "rs.fit(X_train, y_train)\n",
        "print(\"Tiempo de búsqueda: {:.3f}s\".format(time.time() - t0))"
      ],
      "execution_count": null,
      "outputs": [
        {
          "output_type": "stream",
          "text": [
            "Tiempo de búsqueda: 0.301s\n"
          ],
          "name": "stdout"
        }
      ]
    },
    {
      "cell_type": "code",
      "metadata": {
        "id": "r5lznQSNSAdr",
        "colab": {
          "base_uri": "https://localhost:8080/",
          "height": 35
        },
        "outputId": "761afcbc-5fcb-4616-c006-1cdbb5631a0e"
      },
      "source": [
        "rs.best_score_"
      ],
      "execution_count": null,
      "outputs": [
        {
          "output_type": "execute_result",
          "data": {
            "text/plain": [
              "0.9557509289029757"
            ]
          },
          "metadata": {
            "tags": []
          },
          "execution_count": 9
        }
      ]
    },
    {
      "cell_type": "markdown",
      "metadata": {
        "id": "OAKtSxo-bll9"
      },
      "source": [
        "Podemos ver que aunque se demoró mucho menos, el resultado no es tan bueno."
      ]
    },
    {
      "cell_type": "code",
      "metadata": {
        "id": "hX4YKtzOXyYJ"
      },
      "source": [
        ""
      ],
      "execution_count": null,
      "outputs": []
    }
  ]
}