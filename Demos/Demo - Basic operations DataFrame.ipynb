{
 "cells": [
  {
   "cell_type": "markdown",
   "id": "6cb4e40a",
   "metadata": {},
   "source": [
    "# Ventas Centro Comercial"
   ]
  },
  {
   "cell_type": "markdown",
   "id": "3e5b6c14",
   "metadata": {},
   "source": [
    "La base de datos Centro Comercial es un caso clásico de registro de facturas de compra por parte de los puntos de atención. Allí se solicitan los datos de los clientes compradores a partir de facturas superiores a 50 mil pesos. El objetivo es poder caracterizar los clientes e identificar los establecimientos de mayor y menor desempeño en función de la afluencia de clientes que visitan sus tiendas. Se espera mediante un análisis descriptivo y exploratorio proponer una segmentación de almacenes y clientes y proponer estrategias de fidelización."
   ]
  },
  {
   "cell_type": "markdown",
   "id": "8bfc412e",
   "metadata": {},
   "source": [
    "### Importar librerías"
   ]
  },
  {
   "cell_type": "code",
   "execution_count": 2,
   "id": "f89e94b8",
   "metadata": {},
   "outputs": [],
   "source": [
    "import pandas as pd\n",
    "import numpy as np \n",
    "import seaborn as sns\n",
    "\n",
    "sns.set_theme()"
   ]
  },
  {
   "cell_type": "markdown",
   "id": "c76041c9",
   "metadata": {},
   "source": [
    "### Leer los datos"
   ]
  },
  {
   "cell_type": "code",
   "execution_count": 3,
   "id": "9a6c8d4d",
   "metadata": {},
   "outputs": [],
   "source": [
    "df = pd.read_excel('data/Caso 04 - Ventas en Centro Comercial.xlsx', sheet_name='bd')"
   ]
  },
  {
   "cell_type": "code",
   "execution_count": 3,
   "id": "856e4007",
   "metadata": {},
   "outputs": [
    {
     "data": {
      "text/html": [
       "<div>\n",
       "<style scoped>\n",
       "    .dataframe tbody tr th:only-of-type {\n",
       "        vertical-align: middle;\n",
       "    }\n",
       "\n",
       "    .dataframe tbody tr th {\n",
       "        vertical-align: top;\n",
       "    }\n",
       "\n",
       "    .dataframe thead th {\n",
       "        text-align: right;\n",
       "    }\n",
       "</style>\n",
       "<table border=\"1\" class=\"dataframe\">\n",
       "  <thead>\n",
       "    <tr style=\"text-align: right;\">\n",
       "      <th></th>\n",
       "      <th>Cedula</th>\n",
       "      <th>Nombre Completo</th>\n",
       "      <th>nCodigoTransaccion</th>\n",
       "      <th>nCodigoConsumidor</th>\n",
       "      <th>Almacen</th>\n",
       "      <th>Categoria</th>\n",
       "      <th>nVenta</th>\n",
       "      <th>nItem</th>\n",
       "      <th>sEmail</th>\n",
       "      <th>Ciudad</th>\n",
       "      <th>...</th>\n",
       "      <th>EDAD</th>\n",
       "      <th>RECENCIA DIAS</th>\n",
       "      <th>Dirección</th>\n",
       "      <th>MailValido</th>\n",
       "      <th>CelValid</th>\n",
       "      <th>TelefonoMovil</th>\n",
       "      <th>TelOfcValid</th>\n",
       "      <th>TelefonoOficina</th>\n",
       "      <th>TelCasaValid</th>\n",
       "      <th>TelefonoCasa</th>\n",
       "    </tr>\n",
       "  </thead>\n",
       "  <tbody>\n",
       "    <tr>\n",
       "      <th>0</th>\n",
       "      <td>1</td>\n",
       "      <td>NOMBRE APELLIDO 1</td>\n",
       "      <td>29344936</td>\n",
       "      <td>6700170</td>\n",
       "      <td>Escape</td>\n",
       "      <td>Moda Masculina y Femenina</td>\n",
       "      <td>203000</td>\n",
       "      <td>1</td>\n",
       "      <td>NaN</td>\n",
       "      <td>SABANETA</td>\n",
       "      <td>...</td>\n",
       "      <td>19</td>\n",
       "      <td>15</td>\n",
       "      <td>NaN</td>\n",
       "      <td>No</td>\n",
       "      <td>Si</td>\n",
       "      <td>NaN</td>\n",
       "      <td>No</td>\n",
       "      <td>NaN</td>\n",
       "      <td>Si</td>\n",
       "      <td>NaN</td>\n",
       "    </tr>\n",
       "    <tr>\n",
       "      <th>1</th>\n",
       "      <td>2</td>\n",
       "      <td>NOMBRE APELLIDO 2</td>\n",
       "      <td>31924314</td>\n",
       "      <td>2357373</td>\n",
       "      <td>Bon Bonite</td>\n",
       "      <td>Calzado y Bolsos</td>\n",
       "      <td>284000</td>\n",
       "      <td>1</td>\n",
       "      <td>NaN</td>\n",
       "      <td>MEDELLIN</td>\n",
       "      <td>...</td>\n",
       "      <td>40</td>\n",
       "      <td>3</td>\n",
       "      <td>NaN</td>\n",
       "      <td>No</td>\n",
       "      <td>Si</td>\n",
       "      <td>NaN</td>\n",
       "      <td>No</td>\n",
       "      <td>NaN</td>\n",
       "      <td>Si</td>\n",
       "      <td>NaN</td>\n",
       "    </tr>\n",
       "    <tr>\n",
       "      <th>2</th>\n",
       "      <td>3</td>\n",
       "      <td>NOMBRE APELLIDO 3</td>\n",
       "      <td>31924315</td>\n",
       "      <td>2357373</td>\n",
       "      <td>Velez</td>\n",
       "      <td>Calzado y Bolsos</td>\n",
       "      <td>324000</td>\n",
       "      <td>1</td>\n",
       "      <td>NaN</td>\n",
       "      <td>MEDELLIN</td>\n",
       "      <td>...</td>\n",
       "      <td>40</td>\n",
       "      <td>3</td>\n",
       "      <td>NaN</td>\n",
       "      <td>No</td>\n",
       "      <td>Si</td>\n",
       "      <td>NaN</td>\n",
       "      <td>No</td>\n",
       "      <td>NaN</td>\n",
       "      <td>Si</td>\n",
       "      <td>NaN</td>\n",
       "    </tr>\n",
       "  </tbody>\n",
       "</table>\n",
       "<p>3 rows × 37 columns</p>\n",
       "</div>"
      ],
      "text/plain": [
       "   Cedula    Nombre Completo  nCodigoTransaccion  nCodigoConsumidor  \\\n",
       "0       1  NOMBRE APELLIDO 1            29344936            6700170   \n",
       "1       2  NOMBRE APELLIDO 2            31924314            2357373   \n",
       "2       3  NOMBRE APELLIDO 3            31924315            2357373   \n",
       "\n",
       "      Almacen                  Categoria  nVenta  nItem  sEmail    Ciudad  \\\n",
       "0      Escape  Moda Masculina y Femenina  203000      1     NaN  SABANETA   \n",
       "1  Bon Bonite           Calzado y Bolsos  284000      1     NaN  MEDELLIN   \n",
       "2       Velez           Calzado y Bolsos  324000      1     NaN  MEDELLIN   \n",
       "\n",
       "   ... EDAD RECENCIA DIAS  Dirección MailValido  CelValid TelefonoMovil  \\\n",
       "0  ...   19            15        NaN         No        Si           NaN   \n",
       "1  ...   40             3        NaN         No        Si           NaN   \n",
       "2  ...   40             3        NaN         No        Si           NaN   \n",
       "\n",
       "  TelOfcValid TelefonoOficina TelCasaValid  TelefonoCasa  \n",
       "0          No             NaN           Si           NaN  \n",
       "1          No             NaN           Si           NaN  \n",
       "2          No             NaN           Si           NaN  \n",
       "\n",
       "[3 rows x 37 columns]"
      ]
     },
     "execution_count": 3,
     "metadata": {},
     "output_type": "execute_result"
    }
   ],
   "source": [
    "df.head(3)"
   ]
  },
  {
   "cell_type": "code",
   "execution_count": 4,
   "id": "b31ee15d",
   "metadata": {},
   "outputs": [
    {
     "data": {
      "text/html": [
       "<div>\n",
       "<style scoped>\n",
       "    .dataframe tbody tr th:only-of-type {\n",
       "        vertical-align: middle;\n",
       "    }\n",
       "\n",
       "    .dataframe tbody tr th {\n",
       "        vertical-align: top;\n",
       "    }\n",
       "\n",
       "    .dataframe thead th {\n",
       "        text-align: right;\n",
       "    }\n",
       "</style>\n",
       "<table border=\"1\" class=\"dataframe\">\n",
       "  <thead>\n",
       "    <tr style=\"text-align: right;\">\n",
       "      <th></th>\n",
       "      <th>Cedula</th>\n",
       "      <th>Nombre Completo</th>\n",
       "      <th>nCodigoTransaccion</th>\n",
       "      <th>nCodigoConsumidor</th>\n",
       "      <th>Almacen</th>\n",
       "      <th>Categoria</th>\n",
       "      <th>nVenta</th>\n",
       "      <th>nItem</th>\n",
       "      <th>sEmail</th>\n",
       "      <th>Ciudad</th>\n",
       "      <th>...</th>\n",
       "      <th>EDAD</th>\n",
       "      <th>RECENCIA DIAS</th>\n",
       "      <th>Dirección</th>\n",
       "      <th>MailValido</th>\n",
       "      <th>CelValid</th>\n",
       "      <th>TelefonoMovil</th>\n",
       "      <th>TelOfcValid</th>\n",
       "      <th>TelefonoOficina</th>\n",
       "      <th>TelCasaValid</th>\n",
       "      <th>TelefonoCasa</th>\n",
       "    </tr>\n",
       "  </thead>\n",
       "  <tbody>\n",
       "    <tr>\n",
       "      <th>112949</th>\n",
       "      <td>112950</td>\n",
       "      <td>NOMBRE APELLIDO 112950</td>\n",
       "      <td>26746717</td>\n",
       "      <td>6355246</td>\n",
       "      <td>Saldos De Exportación</td>\n",
       "      <td>Moda Masculina y Femenina</td>\n",
       "      <td>5000</td>\n",
       "      <td>1</td>\n",
       "      <td>NaN</td>\n",
       "      <td>MEDELLIN</td>\n",
       "      <td>...</td>\n",
       "      <td>13</td>\n",
       "      <td>23</td>\n",
       "      <td>NaN</td>\n",
       "      <td>No</td>\n",
       "      <td>Si</td>\n",
       "      <td>NaN</td>\n",
       "      <td>Si</td>\n",
       "      <td>NaN</td>\n",
       "      <td>Si</td>\n",
       "      <td>NaN</td>\n",
       "    </tr>\n",
       "    <tr>\n",
       "      <th>112950</th>\n",
       "      <td>112951</td>\n",
       "      <td>NOMBRE APELLIDO 112951</td>\n",
       "      <td>31386254</td>\n",
       "      <td>6355246</td>\n",
       "      <td>Calzado Goysa</td>\n",
       "      <td>Calzado y Bolsos</td>\n",
       "      <td>60000</td>\n",
       "      <td>1</td>\n",
       "      <td>NaN</td>\n",
       "      <td>MEDELLIN</td>\n",
       "      <td>...</td>\n",
       "      <td>13</td>\n",
       "      <td>9</td>\n",
       "      <td>NaN</td>\n",
       "      <td>No</td>\n",
       "      <td>Si</td>\n",
       "      <td>NaN</td>\n",
       "      <td>Si</td>\n",
       "      <td>NaN</td>\n",
       "      <td>Si</td>\n",
       "      <td>NaN</td>\n",
       "    </tr>\n",
       "    <tr>\n",
       "      <th>112951</th>\n",
       "      <td>112952</td>\n",
       "      <td>NOMBRE APELLIDO 112952</td>\n",
       "      <td>31577681</td>\n",
       "      <td>7060684</td>\n",
       "      <td>Monas Y Morenas</td>\n",
       "      <td>Moda Femenina</td>\n",
       "      <td>50000</td>\n",
       "      <td>1</td>\n",
       "      <td>NaN</td>\n",
       "      <td>MEDELLIN</td>\n",
       "      <td>...</td>\n",
       "      <td>22</td>\n",
       "      <td>7</td>\n",
       "      <td>NaN</td>\n",
       "      <td>Si</td>\n",
       "      <td>Si</td>\n",
       "      <td>NaN</td>\n",
       "      <td>No</td>\n",
       "      <td>NaN</td>\n",
       "      <td>Si</td>\n",
       "      <td>NaN</td>\n",
       "    </tr>\n",
       "  </tbody>\n",
       "</table>\n",
       "<p>3 rows × 37 columns</p>\n",
       "</div>"
      ],
      "text/plain": [
       "        Cedula         Nombre Completo  nCodigoTransaccion  nCodigoConsumidor  \\\n",
       "112949  112950  NOMBRE APELLIDO 112950            26746717            6355246   \n",
       "112950  112951  NOMBRE APELLIDO 112951            31386254            6355246   \n",
       "112951  112952  NOMBRE APELLIDO 112952            31577681            7060684   \n",
       "\n",
       "                      Almacen                  Categoria  nVenta  nItem  \\\n",
       "112949  Saldos De Exportación  Moda Masculina y Femenina    5000      1   \n",
       "112950          Calzado Goysa           Calzado y Bolsos   60000      1   \n",
       "112951        Monas Y Morenas              Moda Femenina   50000      1   \n",
       "\n",
       "        sEmail    Ciudad  ... EDAD RECENCIA DIAS  Dirección MailValido  \\\n",
       "112949     NaN  MEDELLIN  ...   13            23        NaN         No   \n",
       "112950     NaN  MEDELLIN  ...   13             9        NaN         No   \n",
       "112951     NaN  MEDELLIN  ...   22             7        NaN         Si   \n",
       "\n",
       "        CelValid TelefonoMovil TelOfcValid TelefonoOficina TelCasaValid  \\\n",
       "112949        Si           NaN          Si             NaN           Si   \n",
       "112950        Si           NaN          Si             NaN           Si   \n",
       "112951        Si           NaN          No             NaN           Si   \n",
       "\n",
       "        TelefonoCasa  \n",
       "112949           NaN  \n",
       "112950           NaN  \n",
       "112951           NaN  \n",
       "\n",
       "[3 rows x 37 columns]"
      ]
     },
     "execution_count": 4,
     "metadata": {},
     "output_type": "execute_result"
    }
   ],
   "source": [
    "df.tail(3)"
   ]
  },
  {
   "cell_type": "code",
   "execution_count": 6,
   "id": "3c9487b4",
   "metadata": {},
   "outputs": [
    {
     "name": "stdout",
     "output_type": "stream",
     "text": [
      "<class 'pandas.core.frame.DataFrame'>\n",
      "RangeIndex: 112952 entries, 0 to 112951\n",
      "Data columns (total 37 columns):\n",
      " #   Column              Non-Null Count   Dtype  \n",
      "---  ------              --------------   -----  \n",
      " 0   Cedula              112952 non-null  int64  \n",
      " 1   Nombre Completo     112952 non-null  object \n",
      " 2   nCodigoTransaccion  112952 non-null  int64  \n",
      " 3   nCodigoConsumidor   112952 non-null  int64  \n",
      " 4   Almacen             112952 non-null  object \n",
      " 5   Categoria           112952 non-null  object \n",
      " 6   nVenta              112952 non-null  int64  \n",
      " 7   nItem               112952 non-null  int64  \n",
      " 8   sEmail              0 non-null       float64\n",
      " 9   Ciudad              112952 non-null  object \n",
      " 10  nCodigoGenero       112952 non-null  object \n",
      " 11  nCodigoEstadoCivil  112952 non-null  object \n",
      " 12  ANO                 112952 non-null  int64  \n",
      " 13  MES                 112952 non-null  object \n",
      " 14  DIA                 112952 non-null  int64  \n",
      " 15  DIASEMANA           112952 non-null  object \n",
      " 16  ANOMES              112952 non-null  object \n",
      " 17  ANOMESDIA           112952 non-null  object \n",
      " 18  SEMESTRE            112952 non-null  object \n",
      " 19  VentasMM            112952 non-null  float64\n",
      " 20  SEMESTREDIG         112952 non-null  object \n",
      " 21  ANONCTO             112952 non-null  int64  \n",
      " 22  MESNCTO             112952 non-null  object \n",
      " 23  DIANCTO             112952 non-null  int64  \n",
      " 24  DIASEMANANCTO       112952 non-null  object \n",
      " 25  ANOMESNCTO          112952 non-null  object \n",
      " 26  ANOMESDIANCTO       112952 non-null  object \n",
      " 27  EDAD                112952 non-null  int64  \n",
      " 28  RECENCIA DIAS       112952 non-null  int64  \n",
      " 29  Dirección           0 non-null       float64\n",
      " 30  MailValido          112952 non-null  object \n",
      " 31  CelValid            112952 non-null  object \n",
      " 32  TelefonoMovil       0 non-null       float64\n",
      " 33  TelOfcValid         112952 non-null  object \n",
      " 34  TelefonoOficina     0 non-null       float64\n",
      " 35  TelCasaValid        112952 non-null  object \n",
      " 36  TelefonoCasa        0 non-null       float64\n",
      "dtypes: float64(6), int64(11), object(20)\n",
      "memory usage: 31.9+ MB\n"
     ]
    }
   ],
   "source": [
    "df.info()"
   ]
  },
  {
   "cell_type": "code",
   "execution_count": 7,
   "id": "50334f3a",
   "metadata": {},
   "outputs": [],
   "source": [
    "# Cambio de tipo de dato de una columna\n",
    "df['nCodigoConsumidor'] = df['nCodigoConsumidor'].astype(str)"
   ]
  },
  {
   "cell_type": "code",
   "execution_count": 8,
   "id": "6eba4085",
   "metadata": {},
   "outputs": [
    {
     "name": "stdout",
     "output_type": "stream",
     "text": [
      "<class 'pandas.core.frame.DataFrame'>\n",
      "RangeIndex: 112952 entries, 0 to 112951\n",
      "Data columns (total 37 columns):\n",
      " #   Column              Non-Null Count   Dtype  \n",
      "---  ------              --------------   -----  \n",
      " 0   Cedula              112952 non-null  int64  \n",
      " 1   Nombre Completo     112952 non-null  object \n",
      " 2   nCodigoTransaccion  112952 non-null  int64  \n",
      " 3   nCodigoConsumidor   112952 non-null  object \n",
      " 4   Almacen             112952 non-null  object \n",
      " 5   Categoria           112952 non-null  object \n",
      " 6   nVenta              112952 non-null  int64  \n",
      " 7   nItem               112952 non-null  int64  \n",
      " 8   sEmail              0 non-null       float64\n",
      " 9   Ciudad              112952 non-null  object \n",
      " 10  nCodigoGenero       112952 non-null  object \n",
      " 11  nCodigoEstadoCivil  112952 non-null  object \n",
      " 12  ANO                 112952 non-null  int64  \n",
      " 13  MES                 112952 non-null  object \n",
      " 14  DIA                 112952 non-null  int64  \n",
      " 15  DIASEMANA           112952 non-null  object \n",
      " 16  ANOMES              112952 non-null  object \n",
      " 17  ANOMESDIA           112952 non-null  object \n",
      " 18  SEMESTRE            112952 non-null  object \n",
      " 19  VentasMM            112952 non-null  float64\n",
      " 20  SEMESTREDIG         112952 non-null  object \n",
      " 21  ANONCTO             112952 non-null  int64  \n",
      " 22  MESNCTO             112952 non-null  object \n",
      " 23  DIANCTO             112952 non-null  int64  \n",
      " 24  DIASEMANANCTO       112952 non-null  object \n",
      " 25  ANOMESNCTO          112952 non-null  object \n",
      " 26  ANOMESDIANCTO       112952 non-null  object \n",
      " 27  EDAD                112952 non-null  int64  \n",
      " 28  RECENCIA DIAS       112952 non-null  int64  \n",
      " 29  Dirección           0 non-null       float64\n",
      " 30  MailValido          112952 non-null  object \n",
      " 31  CelValid            112952 non-null  object \n",
      " 32  TelefonoMovil       0 non-null       float64\n",
      " 33  TelOfcValid         112952 non-null  object \n",
      " 34  TelefonoOficina     0 non-null       float64\n",
      " 35  TelCasaValid        112952 non-null  object \n",
      " 36  TelefonoCasa        0 non-null       float64\n",
      "dtypes: float64(6), int64(10), object(21)\n",
      "memory usage: 31.9+ MB\n"
     ]
    }
   ],
   "source": [
    "df.info()"
   ]
  },
  {
   "cell_type": "markdown",
   "id": "0ac3d6b7",
   "metadata": {},
   "source": [
    "### Realizar el histograma del valor de la factura 'nVenta'"
   ]
  },
  {
   "cell_type": "code",
   "execution_count": 9,
   "id": "ce479ae7",
   "metadata": {},
   "outputs": [
    {
     "data": {
      "text/plain": [
       "array([[<AxesSubplot:title={'center':'nVenta'}>]], dtype=object)"
      ]
     },
     "execution_count": 9,
     "metadata": {},
     "output_type": "execute_result"
    },
    {
     "data": {
      "image/png": "[encoded data removed]",
      "text/plain": [
       "<Figure size 432x288 with 1 Axes>"
      ]
     },
     "metadata": {
      "needs_background": "light"
     },
     "output_type": "display_data"
    }
   ],
   "source": [
    "df.hist(column='nVenta')"
   ]
  },
  {
   "cell_type": "code",
   "execution_count": null,
   "id": "1f8dd148",
   "metadata": {},
   "outputs": [],
   "source": [
    "# Filtro de outliers\n",
    "df_2 = df[df['nVenta'] < 1000000]"
   ]
  },
  {
   "cell_type": "code",
   "execution_count": 13,
   "id": "60b0c54a",
   "metadata": {},
   "outputs": [
    {
     "data": {
      "text/plain": [
       "<AxesSubplot:>"
      ]
     },
     "execution_count": 13,
     "metadata": {},
     "output_type": "execute_result"
    },
    {
     "data": {
      "image/png": "[encoded data removed]",
      "text/plain": [
       "<Figure size 432x288 with 1 Axes>"
      ]
     },
     "metadata": {
      "needs_background": "light"
     },
     "output_type": "display_data"
    }
   ],
   "source": [
    "df_2['nVenta'].hist(bins=40)"
   ]
  },
  {
   "cell_type": "markdown",
   "id": "ab799409",
   "metadata": {},
   "source": [
    "### Calcular la media, mediana y desviación estándar del valor de las facturas"
   ]
  },
  {
   "cell_type": "code",
   "execution_count": null,
   "id": "cd4ddf4b",
   "metadata": {},
   "outputs": [],
   "source": []
  },
  {
   "cell_type": "markdown",
   "id": "a48eae64",
   "metadata": {},
   "source": [
    "### Identificar día y mes que mas se registran facturas (moda)"
   ]
  },
  {
   "cell_type": "code",
   "execution_count": null,
   "id": "549adab3",
   "metadata": {},
   "outputs": [],
   "source": []
  },
  {
   "cell_type": "markdown",
   "id": "c544038b",
   "metadata": {},
   "source": [
    "### Mostrar en un gráfico de barras la cantidad de facturas registradas por hombres y mujeres"
   ]
  },
  {
   "cell_type": "code",
   "execution_count": null,
   "id": "d32dfa28",
   "metadata": {},
   "outputs": [],
   "source": []
  },
  {
   "cell_type": "markdown",
   "id": "5b462a2c",
   "metadata": {},
   "source": [
    "### Cantidad de facturas registradas por cada almacen"
   ]
  },
  {
   "cell_type": "code",
   "execution_count": null,
   "id": "ed333df0",
   "metadata": {},
   "outputs": [],
   "source": []
  }
 ],
 "metadata": {
  "kernelspec": {
   "display_name": "Python 3",
   "language": "python",
   "name": "python3"
  },
  "language_info": {
   "codemirror_mode": {
    "name": "ipython",
    "version": 3
   },
   "file_extension": ".py",
   "mimetype": "text/x-python",
   "name": "python",
   "nbconvert_exporter": "python",
   "pygments_lexer": "ipython3",
   "version": "3.9.5"
  }
 },
 "nbformat": 4,
 "nbformat_minor": 5
}
